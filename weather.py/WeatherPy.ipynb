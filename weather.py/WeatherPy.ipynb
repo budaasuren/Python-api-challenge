{
 "cells": [
  {
   "cell_type": "markdown",
   "metadata": {},
   "source": [
    "# WeatherPy\n",
    "\n",
    "---\n",
    "\n",
    "## Starter Code to Generate Random Geographic Coordinates and a List of Cities"
   ]
  },
  {
   "cell_type": "code",
   "execution_count": null,
   "metadata": {},
   "outputs": [],
   "source": [
    "pip install citipy"
   ]
  },
  {
   "cell_type": "code",
   "execution_count": null,
   "metadata": {
    "scrolled": true
   },
   "outputs": [],
   "source": [
    "# Dependencies and Setup\n",
    "import matplotlib.pyplot as plt\n",
    "import pandas as pd\n",
    "import numpy as np\n",
    "import requests\n",
    "import time\n",
    "from scipy.stats import linregress\n",
    "\n",
    "# Impor the OpenWeatherMap API key\n",
    "from api_keys import weather_api_key\n",
    "\n",
    "# Import citipy to determine the cities based on latitude and longitude\n",
    "from citipy import citipy"
   ]
  },
  {
   "cell_type": "markdown",
   "metadata": {},
   "source": [
    "### Generate the Cities List by Using the `citipy` Library"
   ]
  },
  {
   "cell_type": "code",
   "execution_count": null,
   "metadata": {},
   "outputs": [],
   "source": [
    "# Empty list for holding the latitude and longitude combinations\n",
    "lat_lngs = []\n",
    "\n",
    "# Empty list for holding the cities names\n",
    "cities = []\n",
    "\n",
    "# Range of latitudes and longitudes\n",
    "lat_range = (-90, 90)\n",
    "lng_range = (-180, 180)\n",
    "\n",
    "# Create a set of random lat and lng combinations\n",
    "lats = np.random.uniform(lat_range[0], lat_range[1], size=1500)\n",
    "lngs = np.random.uniform(lng_range[0], lng_range[1], size=1500)\n",
    "lat_lngs = zip(lats, lngs)\n",
    "\n",
    "# Identify nearest city for each lat, lng combination\n",
    "for lat_lng in lat_lngs:\n",
    "    city = citipy.nearest_city(lat_lng[0], lat_lng[1]).city_name\n",
    "    \n",
    "    # If the city is unique, then add it to a our cities list\n",
    "    if ( city not in cities ):\n",
    "        cities.append(city)\n",
    "    \n",
    "\n",
    "\n",
    "# Print the city count to confirm sufficient count\n",
    "print(f\"Number of cities in the list: {len(cities)}\")"
   ]
  },
  {
   "cell_type": "markdown",
   "metadata": {},
   "source": [
    "---"
   ]
  },
  {
   "cell_type": "markdown",
   "metadata": {},
   "source": [
    "## Requirement 1: Create Plots to Showcase the Relationship Between Weather Variables and Latitude\n",
    "\n",
    "### Use the OpenWeatherMap API to retrieve weather data from the cities list generated in the started code"
   ]
  },
  {
   "cell_type": "code",
   "execution_count": null,
   "metadata": {},
   "outputs": [
    {
     "name": "stdout",
     "output_type": "stream",
     "text": [
      "Beginning Data Retrieval     \n",
      "-----------------------------\n",
      "Processing Record 1 of Set 1 | yinchuan\n",
      "Processing Record 2 of Set 1 | guanica\n",
      "Processing Record 3 of Set 1 | nanortalik\n",
      "Processing Record 4 of Set 1 | georgetown\n",
      "Processing Record 5 of Set 1 | barentsburg\n",
      "City not found. Skipping...\n",
      "Processing Record 6 of Set 1 | bereda\n",
      "Processing Record 7 of Set 1 | arraial do cabo\n",
      "Processing Record 8 of Set 1 | belushya guba\n",
      "City not found. Skipping...\n",
      "Processing Record 9 of Set 1 | catia la mar\n",
      "Processing Record 10 of Set 1 | tasiilaq\n",
      "Processing Record 11 of Set 1 | esperance\n",
      "Processing Record 12 of Set 1 | kloulklubed\n",
      "Processing Record 13 of Set 1 | cape town\n",
      "Processing Record 14 of Set 1 | punta arenas\n",
      "Processing Record 15 of Set 1 | cherskiy\n",
      "Processing Record 16 of Set 1 | viligili\n",
      "City not found. Skipping...\n",
      "Processing Record 17 of Set 1 | castro\n",
      "Processing Record 18 of Set 1 | belaya gora\n",
      "Processing Record 19 of Set 1 | hilo\n",
      "Processing Record 20 of Set 1 | iskateley\n",
      "Processing Record 21 of Set 1 | samusu\n",
      "City not found. Skipping...\n",
      "Processing Record 22 of Set 1 | kavaratti\n",
      "Processing Record 23 of Set 1 | chuy\n",
      "Processing Record 24 of Set 1 | puerto del rosario\n",
      "Processing Record 25 of Set 1 | bua yai\n",
      "Processing Record 26 of Set 1 | kaeo\n",
      "Processing Record 27 of Set 1 | seoul\n",
      "Processing Record 28 of Set 1 | sungaipenuh\n",
      "Processing Record 29 of Set 1 | albany\n",
      "Processing Record 30 of Set 1 | jamestown\n",
      "Processing Record 31 of Set 1 | kalmunai\n",
      "Processing Record 32 of Set 1 | lolua\n",
      "City not found. Skipping...\n",
      "Processing Record 33 of Set 1 | kieta\n",
      "Processing Record 34 of Set 1 | ust-ishim\n",
      "Processing Record 35 of Set 1 | waipawa\n",
      "Processing Record 36 of Set 1 | kapaa\n",
      "Processing Record 37 of Set 1 | butaritari\n",
      "Processing Record 38 of Set 1 | aklavik\n",
      "Processing Record 39 of Set 1 | shangqiu\n",
      "Processing Record 40 of Set 1 | yellowknife\n",
      "Processing Record 41 of Set 1 | port alfred\n",
      "Processing Record 42 of Set 1 | mongo\n",
      "Processing Record 43 of Set 1 | atuona\n",
      "Processing Record 44 of Set 1 | vaini\n",
      "Processing Record 45 of Set 1 | dikson\n",
      "Processing Record 46 of Set 1 | joutseno\n",
      "Processing Record 47 of Set 1 | airai\n",
      "Processing Record 48 of Set 1 | codrington\n",
      "Processing Record 49 of Set 1 | shimoda\n",
      "Processing Record 50 of Set 1 | karpathos\n",
      "Processing Record 0 of Set 2 | resende\n",
      "Processing Record 1 of Set 2 | hobart\n",
      "Processing Record 2 of Set 2 | acapulco\n",
      "Processing Record 3 of Set 2 | xadani\n",
      "City not found. Skipping...\n",
      "Processing Record 4 of Set 2 | kodiak\n",
      "Processing Record 5 of Set 2 | bredasdorp\n",
      "Processing Record 6 of Set 2 | hovd\n",
      "Processing Record 7 of Set 2 | taolanaro\n",
      "City not found. Skipping...\n",
      "Processing Record 8 of Set 2 | hermanus\n",
      "Processing Record 9 of Set 2 | linhares\n",
      "Processing Record 10 of Set 2 | rikitea\n",
      "Processing Record 11 of Set 2 | puerto ayora\n",
      "Processing Record 12 of Set 2 | tuatapere\n",
      "Processing Record 13 of Set 2 | avera\n",
      "Processing Record 14 of Set 2 | bluff\n",
      "Processing Record 15 of Set 2 | thinadhoo\n",
      "Processing Record 16 of Set 2 | caborca\n",
      "Processing Record 17 of Set 2 | boulder city\n",
      "Processing Record 18 of Set 2 | pisco\n",
      "Processing Record 19 of Set 2 | lixourion\n",
      "Processing Record 20 of Set 2 | geraldton\n",
      "Processing Record 21 of Set 2 | santa fe\n",
      "Processing Record 22 of Set 2 | alekseyevsk\n",
      "Processing Record 23 of Set 2 | chokurdakh\n",
      "Processing Record 24 of Set 2 | coracao de jesus\n",
      "Processing Record 25 of Set 2 | busselton\n",
      "Processing Record 26 of Set 2 | salym\n",
      "Processing Record 27 of Set 2 | gatehouse of fleet\n",
      "Processing Record 28 of Set 2 | sao filipe\n",
      "Processing Record 29 of Set 2 | yar-sale\n",
      "Processing Record 30 of Set 2 | punto fijo\n",
      "Processing Record 31 of Set 2 | mar del plata\n",
      "Processing Record 32 of Set 2 | mataura\n",
      "Processing Record 33 of Set 2 | sambava\n",
      "Processing Record 34 of Set 2 | constitucion\n",
      "Processing Record 35 of Set 2 | provideniya\n",
      "Processing Record 36 of Set 2 | barrow\n",
      "Processing Record 37 of Set 2 | carballo\n",
      "Processing Record 38 of Set 2 | karkaralinsk\n",
      "City not found. Skipping...\n",
      "Processing Record 39 of Set 2 | ushuaia\n",
      "Processing Record 40 of Set 2 | bratsk\n",
      "Processing Record 41 of Set 2 | haines junction\n",
      "Processing Record 42 of Set 2 | tucupita\n",
      "Processing Record 43 of Set 2 | beli potok\n",
      "Processing Record 44 of Set 2 | lagoa\n",
      "Processing Record 45 of Set 2 | mount isa\n",
      "Processing Record 46 of Set 2 | santa cruz del norte\n",
      "Processing Record 47 of Set 2 | portland\n",
      "Processing Record 48 of Set 2 | ballina\n",
      "Processing Record 49 of Set 2 | mahebourg\n",
      "Processing Record 0 of Set 3 | goure\n",
      "Processing Record 1 of Set 3 | torbay\n",
      "Processing Record 2 of Set 3 | corpus christi\n",
      "Processing Record 3 of Set 3 | soyo\n",
      "Processing Record 4 of Set 3 | belomorsk\n",
      "Processing Record 5 of Set 3 | port hedland\n",
      "Processing Record 6 of Set 3 | hasaki\n",
      "Processing Record 7 of Set 3 | velyka lepetykha\n",
      "Processing Record 8 of Set 3 | avarua\n",
      "Processing Record 9 of Set 3 | kudahuvadhoo\n",
      "Processing Record 10 of Set 3 | bengkulu\n",
      "Processing Record 11 of Set 3 | boljevac\n",
      "Processing Record 12 of Set 3 | san jose\n",
      "Processing Record 13 of Set 3 | lavrentiya\n",
      "Processing Record 14 of Set 3 | daru\n",
      "Processing Record 15 of Set 3 | coihaique\n",
      "Processing Record 16 of Set 3 | cabedelo\n",
      "Processing Record 17 of Set 3 | nichinan\n",
      "Processing Record 18 of Set 3 | surgana\n",
      "Processing Record 19 of Set 3 | east london\n",
      "Processing Record 20 of Set 3 | honiara\n",
      "Processing Record 21 of Set 3 | kindu\n",
      "Processing Record 22 of Set 3 | maryville\n",
      "Processing Record 23 of Set 3 | bay saint louis\n",
      "Processing Record 24 of Set 3 | tezu\n",
      "Processing Record 25 of Set 3 | marienburg\n",
      "Processing Record 26 of Set 3 | luderitz\n",
      "Processing Record 27 of Set 3 | vaitupu\n",
      "City not found. Skipping...\n",
      "Processing Record 28 of Set 3 | micheweni\n",
      "Processing Record 29 of Set 3 | young\n",
      "Processing Record 30 of Set 3 | eskasem\n",
      "City not found. Skipping...\n",
      "Processing Record 31 of Set 3 | mae sai\n",
      "Processing Record 32 of Set 3 | whitehorse\n",
      "Processing Record 33 of Set 3 | strezhevoy\n",
      "Processing Record 34 of Set 3 | tautira\n",
      "Processing Record 35 of Set 3 | kamaishi\n",
      "Processing Record 36 of Set 3 | saskylakh\n",
      "Processing Record 37 of Set 3 | tura\n",
      "Processing Record 38 of Set 3 | qaanaaq\n",
      "Processing Record 39 of Set 3 | sabzevar\n",
      "Processing Record 40 of Set 3 | nishihara\n",
      "Processing Record 41 of Set 3 | nikolskoye\n",
      "Processing Record 42 of Set 3 | ukiah\n",
      "Processing Record 43 of Set 3 | sisimiut\n",
      "Processing Record 44 of Set 3 | upernavik\n",
      "Processing Record 45 of Set 3 | cidreira\n",
      "Processing Record 46 of Set 3 | magway\n",
      "Processing Record 47 of Set 3 | ponta do sol\n",
      "Processing Record 48 of Set 3 | carnarvon\n",
      "Processing Record 49 of Set 3 | kununurra\n",
      "Processing Record 0 of Set 4 | lebu\n",
      "Processing Record 1 of Set 4 | hailar\n",
      "Processing Record 2 of Set 4 | zharkovskiy\n",
      "Processing Record 3 of Set 4 | bubanza\n",
      "Processing Record 4 of Set 4 | leningradskiy\n",
      "Processing Record 5 of Set 4 | zlatoustovsk\n",
      "City not found. Skipping...\n",
      "Processing Record 6 of Set 4 | hofn\n",
      "Processing Record 7 of Set 4 | marrakesh\n",
      "Processing Record 8 of Set 4 | afmadu\n",
      "City not found. Skipping...\n",
      "Processing Record 9 of Set 4 | nurota\n",
      "Processing Record 10 of Set 4 | hithadhoo\n",
      "Processing Record 11 of Set 4 | vredendal\n",
      "Processing Record 12 of Set 4 | coquimbo\n",
      "Processing Record 13 of Set 4 | tim\n",
      "Processing Record 14 of Set 4 | mkushi\n",
      "Processing Record 15 of Set 4 | jumla\n",
      "Processing Record 16 of Set 4 | kenai\n",
      "Processing Record 17 of Set 4 | karaul\n",
      "City not found. Skipping...\n",
      "Processing Record 18 of Set 4 | illoqqortoormiut\n",
      "City not found. Skipping...\n",
      "Processing Record 19 of Set 4 | bubaque\n",
      "Processing Record 20 of Set 4 | padilla\n",
      "Processing Record 21 of Set 4 | tetiz\n",
      "Processing Record 22 of Set 4 | thompson\n",
      "Processing Record 23 of Set 4 | jinan\n",
      "Processing Record 24 of Set 4 | norman wells\n",
      "Processing Record 25 of Set 4 | pevek\n",
      "Processing Record 26 of Set 4 | mys shmidta\n",
      "City not found. Skipping...\n",
      "Processing Record 27 of Set 4 | narsaq\n",
      "Processing Record 28 of Set 4 | kaitangata\n",
      "Processing Record 29 of Set 4 | saldanha\n",
      "Processing Record 30 of Set 4 | kabwe\n",
      "Processing Record 31 of Set 4 | san martin\n",
      "Processing Record 32 of Set 4 | bukama\n",
      "Processing Record 33 of Set 4 | vallenar\n",
      "Processing Record 34 of Set 4 | nizhneyansk\n",
      "City not found. Skipping...\n",
      "Processing Record 35 of Set 4 | ust-kut\n",
      "Processing Record 36 of Set 4 | manzanillo\n"
     ]
    },
    {
     "name": "stdout",
     "output_type": "stream",
     "text": [
      "Processing Record 37 of Set 4 | luknovo\n",
      "Processing Record 38 of Set 4 | oranjemund\n",
      "Processing Record 39 of Set 4 | paradwip\n",
      "City not found. Skipping...\n",
      "Processing Record 40 of Set 4 | new norfolk\n",
      "Processing Record 41 of Set 4 | tuktoyaktuk\n",
      "Processing Record 42 of Set 4 | birao\n",
      "Processing Record 43 of Set 4 | adamas\n",
      "Processing Record 44 of Set 4 | severo-kurilsk\n",
      "Processing Record 45 of Set 4 | waingapu\n",
      "Processing Record 46 of Set 4 | anito\n",
      "Processing Record 47 of Set 4 | batticaloa\n",
      "Processing Record 48 of Set 4 | zhigansk\n",
      "Processing Record 49 of Set 4 | margate\n",
      "Processing Record 0 of Set 5 | zhezkazgan\n",
      "Processing Record 1 of Set 5 | rocha\n",
      "Processing Record 2 of Set 5 | loa janan\n",
      "Processing Record 3 of Set 5 | kysyl-syr\n",
      "Processing Record 4 of Set 5 | pueblo\n",
      "Processing Record 5 of Set 5 | mehamn\n",
      "Processing Record 6 of Set 5 | acajutla\n",
      "Processing Record 7 of Set 5 | padang\n",
      "Processing Record 8 of Set 5 | pacaembu\n",
      "Processing Record 9 of Set 5 | guantanamo\n",
      "Processing Record 10 of Set 5 | xinqing\n",
      "Processing Record 11 of Set 5 | guerrero negro\n",
      "Processing Record 12 of Set 5 | girne\n",
      "Processing Record 13 of Set 5 | berea\n",
      "Processing Record 14 of Set 5 | ulaanbaatar\n",
      "Processing Record 15 of Set 5 | saint-philippe\n",
      "Processing Record 16 of Set 5 | salalah\n",
      "Processing Record 17 of Set 5 | marsabit\n",
      "Processing Record 18 of Set 5 | talnakh\n",
      "Processing Record 19 of Set 5 | te anau\n"
     ]
    }
   ],
   "source": [
    "# Set the API base URL\n",
    "url = f\"https://api.openweathermap.org/data/2.5/weather?appid={weather_api_key}\"\n",
    "\n",
    "# Define an empty list to fetch the weather data for each city\n",
    "city_data = []\n",
    "\n",
    "# Print to logger\n",
    "print(\"Beginning Data Retrieval     \")\n",
    "print(\"-----------------------------\")\n",
    "\n",
    "# Create counters\n",
    "record_count = 1\n",
    "set_count = 1\n",
    "\n",
    "# Loop through all the cities in our list to fetch weather data\n",
    "for i, city in enumerate(cities):\n",
    "        \n",
    "    # Group cities in sets of 50 for logging purposes\n",
    "    if (i % 50 == 0 and i >= 50):\n",
    "        set_count += 1\n",
    "        record_count = 0\n",
    "\n",
    "    # Create endpoint URL with each city\n",
    "    city_url = f\"{url}&q={city}\"\n",
    "\n",
    "\n",
    "    # Log the url, record, and set numbers\n",
    "    print(\"Processing Record %s of Set %s | %s\" % (record_count, set_count, city))\n",
    "\n",
    "    # Add 1 to the record count\n",
    "    record_count += 1\n",
    "\n",
    "    # Run an API request for each of the cities\n",
    "    try:\n",
    "        # Parse the JSON and retrieve data\n",
    "        city_weather = requests.get(city_url).json()# YOUR CODE HERE\n",
    "\n",
    "        # Parse out latitude, longitude, max temp, humidity, cloudiness, wind speed, country, and date\n",
    "        city_lat = city_weather['coord']['lat']# YOUR CODE HERE\n",
    "        city_lng = city_weather['coord']['lon']# YOUR CODE HERE\n",
    "        city_max_temp = city_weather['main']['temp_max']# YOUR CODE HERE\n",
    "        city_humidity = city_weather['main']['humidity']# YOUR CODE HERE\n",
    "        city_clouds = city_weather['clouds']['all'] # YOUR CODE HERE\n",
    "        city_wind =city_weather['wind']['speed'] # YOUR CODE HERE\n",
    "        city_country = city_weather['sys']['country']# YOUR CODE HERE\n",
    "        city_date = city_weather['dt']# YOUR CODE HERE\n",
    "\n",
    "        # Append the City information into city_data list\n",
    "        city_data.append({\"City\": city, \n",
    "                          \"Lat\": city_lat, \n",
    "                          \"Lng\": city_lng, \n",
    "                          \"Max Temp\": city_max_temp,\n",
    "                          \"Humidity\": city_humidity,\n",
    "                          \"Cloudiness\": city_clouds,\n",
    "                          \"Wind Speed\": city_wind,\n",
    "                          \"Country\": city_country,\n",
    "                          \"Date\": city_date})\n",
    "\n",
    "    # If an error is experienced, skip the city\n",
    "    except:\n",
    "        print(\"City not found. Skipping...\")\n",
    "        pass\n",
    "              \n",
    "# Indicate that Data Loading is complete \n",
    "print(\"-----------------------------\")\n",
    "print(\"Data Retrieval Complete      \")\n",
    "print(\"-----------------------------\")"
   ]
  },
  {
   "cell_type": "code",
   "execution_count": null,
   "metadata": {},
   "outputs": [],
   "source": [
    "# Convert the cities weather data into a Pandas DataFrame\n",
    "city_data_df = pd.DataFrame.from_dict(city_data)\n",
    "# Show Record Count\n",
    "city_data_df.count()"
   ]
  },
  {
   "cell_type": "code",
   "execution_count": null,
   "metadata": {},
   "outputs": [],
   "source": [
    "city_data_df.head()"
   ]
  },
  {
   "cell_type": "code",
   "execution_count": null,
   "metadata": {},
   "outputs": [],
   "source": [
    "# Export the City_Data into a csv\n",
    "city_data_df.to_csv(\"output_data/cities.csv\", index_label=\"City_ID\")"
   ]
  },
  {
   "cell_type": "code",
   "execution_count": null,
   "metadata": {},
   "outputs": [],
   "source": [
    "# Read saved data\n",
    "city_data_df = pd.read_csv(\"output_data/cities.csv\", index_col=\"City_ID\")\n",
    "\n",
    "# Display sample data\n",
    "city_data_df.head()"
   ]
  },
  {
   "cell_type": "markdown",
   "metadata": {},
   "source": [
    "### Create the Scatter Plots Requested\n",
    "\n",
    "#### Latitude Vs. Temperature"
   ]
  },
  {
   "cell_type": "code",
   "execution_count": null,
   "metadata": {
    "tags": []
   },
   "outputs": [],
   "source": [
    "# Build scatter plot for latitude vs. temperature\n",
    "\n",
    "\n",
    "# Incorporate the other graph properties\n",
    "# YOUR CODE HERE\n",
    "plt.figure(figsize=(6, 4))\n",
    "plt.scatter(city_data_df['Lat'],city_data_df['Max Temp'], marker=\"o\", facecolors=\"blue\", edgecolors=\"black\", alpha=0.75 )\n",
    "plt.grid()\n",
    "# Incorporate the other graph properties\n",
    "# YOUR CODE HERE\n",
    "\n",
    "plt.xlabel('latitute')\n",
    "plt.ylabel('Max Temperature (C)')\n",
    "plt.title('City Latitute vs. Max Temperature (2022-10-18)')\n",
    "# Save the figure\n",
    "plt.savefig(\"output_data/Fig1.png\")\n",
    "\n",
    "# Show plot\n",
    "plt.show()"
   ]
  },
  {
   "cell_type": "markdown",
   "metadata": {},
   "source": [
    "#### Latitude Vs. Humidity"
   ]
  },
  {
   "cell_type": "code",
   "execution_count": null,
   "metadata": {},
   "outputs": [],
   "source": [
    "# Build the scatter plots for latitude vs. humidity\n",
    "# YOUR CODE HERE\n",
    "plt.scatter(city_data_df['Lat'],city_data_df['Humidity'], marker=\"o\", facecolors=\"blue\", edgecolors=\"black\" )\n",
    "plt.grid()\n",
    "# Incorporate the other graph properties\n",
    "# YOUR CODE HERE\n",
    "plt.xlabel('latitute')\n",
    "plt.ylabel('humidity (%)')\n",
    "plt.title('City Latitute vs. Humidity (2022-10-18)')\n",
    "# Save the figure\n",
    "plt.savefig(\"output_data/Fig2.png\")\n",
    "\n",
    "# Show plot\n",
    "plt.show()"
   ]
  },
  {
   "cell_type": "markdown",
   "metadata": {},
   "source": [
    "#### Latitude Vs. Cloudiness"
   ]
  },
  {
   "cell_type": "code",
   "execution_count": null,
   "metadata": {},
   "outputs": [],
   "source": [
    "# Build the scatter plots for latitude vs. cloudiness\n",
    "# YOUR CODE HERE\n",
    "plt.scatter(city_data_df['Lat'],city_data_df['Cloudiness'], marker=\"o\", facecolors=\"blue\", edgecolors=\"black\" )\n",
    "plt.grid()\n",
    "plt.xlabel('latitute')\n",
    "plt.ylabel('Cloudiness (%)')\n",
    "plt.title('City Latitute vs. Cloudiness (2022-10-18)')\n",
    "# Incorporate the other graph properties\n",
    "# YOUR CODE HERE\n",
    "\n",
    "# Save the figure\n",
    "plt.savefig(\"output_data/Fig3.png\")\n",
    "\n",
    "# Show plot\n",
    "plt.show()"
   ]
  },
  {
   "cell_type": "markdown",
   "metadata": {},
   "source": [
    "#### Latitude vs. Wind Speed Plot"
   ]
  },
  {
   "cell_type": "code",
   "execution_count": 18,
   "metadata": {},
   "outputs": [
    {
     "data": {
      "image/png": "[encoded data removed]",
      "text/plain": [
       "<Figure size 432x288 with 1 Axes>"
      ]
     },
     "metadata": {
      "needs_background": "light"
     },
     "output_type": "display_data"
    }
   ],
   "source": [
    "# Build the scatter plots for latitude vs. wind speed\n",
    "# YOUR CODE HERE\n",
    "plt.scatter(city_data_df['Lat'],city_data_df['Wind Speed'], marker=\"o\", facecolors=\"blue\", edgecolors=\"black\" )\n",
    "plt.grid()\n",
    "plt.xlabel('latitute')\n",
    "plt.ylabel('Wind Speed (m/s)')\n",
    "plt.title('City Latitute vs. Wind Speed (2022-10-18)')\n",
    "\n",
    "# Incorporate the other graph properties\n",
    "# YOUR CODE HERE\n",
    "\n",
    "# Save the figure\n",
    "plt.savefig(\"output_data/Fig4.png\")\n",
    "\n",
    "# Show plot\n",
    "plt.show()"
   ]
  },
  {
   "cell_type": "markdown",
   "metadata": {},
   "source": [
    "---\n",
    "\n",
    "## Requirement 2: Compute Linear Regression for Each Relationship\n"
   ]
  },
  {
   "cell_type": "code",
   "execution_count": null,
   "metadata": {},
   "outputs": [],
   "source": []
  },
  {
   "cell_type": "code",
   "execution_count": 19,
   "metadata": {},
   "outputs": [
    {
     "data": {
      "text/html": [
       "<div>\n",
       "<style scoped>\n",
       "    .dataframe tbody tr th:only-of-type {\n",
       "        vertical-align: middle;\n",
       "    }\n",
       "\n",
       "    .dataframe tbody tr th {\n",
       "        vertical-align: top;\n",
       "    }\n",
       "\n",
       "    .dataframe thead th {\n",
       "        text-align: right;\n",
       "    }\n",
       "</style>\n",
       "<table border=\"1\" class=\"dataframe\">\n",
       "  <thead>\n",
       "    <tr style=\"text-align: right;\">\n",
       "      <th></th>\n",
       "      <th>City</th>\n",
       "      <th>Lat</th>\n",
       "      <th>Lng</th>\n",
       "      <th>Max Temp</th>\n",
       "      <th>Humidity</th>\n",
       "      <th>Cloudiness</th>\n",
       "      <th>Wind Speed</th>\n",
       "      <th>Country</th>\n",
       "      <th>Date</th>\n",
       "    </tr>\n",
       "  </thead>\n",
       "  <tbody>\n",
       "    <tr>\n",
       "      <th>0</th>\n",
       "      <td>yinchuan</td>\n",
       "      <td>38.4681</td>\n",
       "      <td>106.2731</td>\n",
       "      <td>267.12</td>\n",
       "      <td>27</td>\n",
       "      <td>15</td>\n",
       "      <td>1.71</td>\n",
       "      <td>CN</td>\n",
       "      <td>1669936056</td>\n",
       "    </tr>\n",
       "    <tr>\n",
       "      <th>1</th>\n",
       "      <td>guanica</td>\n",
       "      <td>17.9716</td>\n",
       "      <td>-66.9080</td>\n",
       "      <td>298.83</td>\n",
       "      <td>67</td>\n",
       "      <td>15</td>\n",
       "      <td>3.28</td>\n",
       "      <td>PR</td>\n",
       "      <td>1669936056</td>\n",
       "    </tr>\n",
       "    <tr>\n",
       "      <th>2</th>\n",
       "      <td>nanortalik</td>\n",
       "      <td>60.1432</td>\n",
       "      <td>-45.2371</td>\n",
       "      <td>267.24</td>\n",
       "      <td>73</td>\n",
       "      <td>4</td>\n",
       "      <td>7.17</td>\n",
       "      <td>GL</td>\n",
       "      <td>1669935941</td>\n",
       "    </tr>\n",
       "    <tr>\n",
       "      <th>3</th>\n",
       "      <td>georgetown</td>\n",
       "      <td>5.4112</td>\n",
       "      <td>100.3354</td>\n",
       "      <td>299.39</td>\n",
       "      <td>81</td>\n",
       "      <td>20</td>\n",
       "      <td>1.54</td>\n",
       "      <td>MY</td>\n",
       "      <td>1669936042</td>\n",
       "    </tr>\n",
       "    <tr>\n",
       "      <th>4</th>\n",
       "      <td>bereda</td>\n",
       "      <td>43.2686</td>\n",
       "      <td>-7.5406</td>\n",
       "      <td>278.47</td>\n",
       "      <td>100</td>\n",
       "      <td>13</td>\n",
       "      <td>1.13</td>\n",
       "      <td>ES</td>\n",
       "      <td>1669936057</td>\n",
       "    </tr>\n",
       "  </tbody>\n",
       "</table>\n",
       "</div>"
      ],
      "text/plain": [
       "         City      Lat       Lng  Max Temp  Humidity  Cloudiness  Wind Speed  \\\n",
       "0    yinchuan  38.4681  106.2731    267.12        27          15        1.71   \n",
       "1     guanica  17.9716  -66.9080    298.83        67          15        3.28   \n",
       "2  nanortalik  60.1432  -45.2371    267.24        73           4        7.17   \n",
       "3  georgetown   5.4112  100.3354    299.39        81          20        1.54   \n",
       "4      bereda  43.2686   -7.5406    278.47       100          13        1.13   \n",
       "\n",
       "  Country        Date  \n",
       "0      CN  1669936056  \n",
       "1      PR  1669936056  \n",
       "2      GL  1669935941  \n",
       "3      MY  1669936042  \n",
       "4      ES  1669936057  "
      ]
     },
     "execution_count": 19,
     "metadata": {},
     "output_type": "execute_result"
    }
   ],
   "source": [
    "# Create a DataFrame with the Northern Hemisphere data (Latitude >= 0)\n",
    "# YOUR CODE HERE\n",
    "northern_hemi_df = city_data_df.loc[city_data_df['Lat'] >= 0 , : ].reset_index(drop=True)\n",
    "# Display sample data\n",
    "northern_hemi_df.head()"
   ]
  },
  {
   "cell_type": "code",
   "execution_count": 20,
   "metadata": {},
   "outputs": [
    {
     "data": {
      "text/html": [
       "<div>\n",
       "<style scoped>\n",
       "    .dataframe tbody tr th:only-of-type {\n",
       "        vertical-align: middle;\n",
       "    }\n",
       "\n",
       "    .dataframe tbody tr th {\n",
       "        vertical-align: top;\n",
       "    }\n",
       "\n",
       "    .dataframe thead th {\n",
       "        text-align: right;\n",
       "    }\n",
       "</style>\n",
       "<table border=\"1\" class=\"dataframe\">\n",
       "  <thead>\n",
       "    <tr style=\"text-align: right;\">\n",
       "      <th></th>\n",
       "      <th>City</th>\n",
       "      <th>Lat</th>\n",
       "      <th>Lng</th>\n",
       "      <th>Max Temp</th>\n",
       "      <th>Humidity</th>\n",
       "      <th>Cloudiness</th>\n",
       "      <th>Wind Speed</th>\n",
       "      <th>Country</th>\n",
       "      <th>Date</th>\n",
       "    </tr>\n",
       "  </thead>\n",
       "  <tbody>\n",
       "    <tr>\n",
       "      <th>0</th>\n",
       "      <td>arraial do cabo</td>\n",
       "      <td>-22.9661</td>\n",
       "      <td>-42.0278</td>\n",
       "      <td>296.96</td>\n",
       "      <td>91</td>\n",
       "      <td>53</td>\n",
       "      <td>12.72</td>\n",
       "      <td>BR</td>\n",
       "      <td>1669935883</td>\n",
       "    </tr>\n",
       "    <tr>\n",
       "      <th>1</th>\n",
       "      <td>esperance</td>\n",
       "      <td>-33.8667</td>\n",
       "      <td>121.9000</td>\n",
       "      <td>290.93</td>\n",
       "      <td>81</td>\n",
       "      <td>100</td>\n",
       "      <td>5.93</td>\n",
       "      <td>AU</td>\n",
       "      <td>1669936059</td>\n",
       "    </tr>\n",
       "    <tr>\n",
       "      <th>2</th>\n",
       "      <td>cape town</td>\n",
       "      <td>-33.9258</td>\n",
       "      <td>18.4232</td>\n",
       "      <td>291.63</td>\n",
       "      <td>82</td>\n",
       "      <td>46</td>\n",
       "      <td>1.79</td>\n",
       "      <td>ZA</td>\n",
       "      <td>1669935906</td>\n",
       "    </tr>\n",
       "    <tr>\n",
       "      <th>3</th>\n",
       "      <td>punta arenas</td>\n",
       "      <td>-53.1500</td>\n",
       "      <td>-70.9167</td>\n",
       "      <td>283.50</td>\n",
       "      <td>69</td>\n",
       "      <td>100</td>\n",
       "      <td>8.71</td>\n",
       "      <td>CL</td>\n",
       "      <td>1669936060</td>\n",
       "    </tr>\n",
       "    <tr>\n",
       "      <th>4</th>\n",
       "      <td>castro</td>\n",
       "      <td>-24.7911</td>\n",
       "      <td>-50.0119</td>\n",
       "      <td>291.17</td>\n",
       "      <td>87</td>\n",
       "      <td>6</td>\n",
       "      <td>0.84</td>\n",
       "      <td>BR</td>\n",
       "      <td>1669936061</td>\n",
       "    </tr>\n",
       "  </tbody>\n",
       "</table>\n",
       "</div>"
      ],
      "text/plain": [
       "              City      Lat       Lng  Max Temp  Humidity  Cloudiness  \\\n",
       "0  arraial do cabo -22.9661  -42.0278    296.96        91          53   \n",
       "1        esperance -33.8667  121.9000    290.93        81         100   \n",
       "2        cape town -33.9258   18.4232    291.63        82          46   \n",
       "3     punta arenas -53.1500  -70.9167    283.50        69         100   \n",
       "4           castro -24.7911  -50.0119    291.17        87           6   \n",
       "\n",
       "   Wind Speed Country        Date  \n",
       "0       12.72      BR  1669935883  \n",
       "1        5.93      AU  1669936059  \n",
       "2        1.79      ZA  1669935906  \n",
       "3        8.71      CL  1669936060  \n",
       "4        0.84      BR  1669936061  "
      ]
     },
     "execution_count": 20,
     "metadata": {},
     "output_type": "execute_result"
    }
   ],
   "source": [
    "# Create a DataFrame with the Southern Hemisphere data (Latitude < 0)\n",
    "# YOUR CODE HERE\n",
    "southern_hemi_df = city_data_df.loc[city_data_df['Lat'] < 0 , : ].reset_index(drop=True)\n",
    "\n",
    "# Display sample data\n",
    "southern_hemi_df.head()"
   ]
  },
  {
   "cell_type": "markdown",
   "metadata": {},
   "source": [
    "###  Temperature vs. Latitude Linear Regression Plot"
   ]
  },
  {
   "cell_type": "code",
   "execution_count": 31,
   "metadata": {},
   "outputs": [],
   "source": [
    "# Define a function to create Linear Regression plots\n",
    "# YOUR CODE HERE\n",
    "\n",
    "def regression_finder(x_values, y_values, y_label, x_axis_anno, y_axis_anno):\n",
    "    (slope, intercept, rvalue, pvalue, stderr) = linregress( x_values, y_values )\n",
    "    regress_values = x_values * slope + intercept\n",
    "    line_eq = \"y = \" + str(round(slope,2)) + \"x + \" + str(round(intercept,2))\n",
    " \n",
    "    print(f'r value is {rvalue}')\n",
    "   \n",
    "    plt.scatter(x_values,y_values)\n",
    "    plt.plot(x_values,regress_values,\"r-\")\n",
    "    plt.annotate(line_eq,xy=(x_axis_anno, y_axis_anno),xytext=(x_axis_anno, y_axis_anno),fontsize=15,color=\"red\")\n",
    "    plt.xlabel(\"Latitude\")\n",
    "    plt.ylabel(y_label)\n",
    "    plt.show()\n",
    "    \n",
    "    \n",
    "    \n",
    "    return\n",
    "    "
   ]
  },
  {
   "cell_type": "code",
   "execution_count": 32,
   "metadata": {
    "scrolled": true
   },
   "outputs": [
    {
     "name": "stdout",
     "output_type": "stream",
     "text": [
      "r value is -0.8262321902716476\n"
     ]
    },
    {
     "data": {
      "image/png": "[encoded data removed]",
      "text/plain": [
       "<Figure size 432x288 with 1 Axes>"
      ]
     },
     "metadata": {
      "needs_background": "light"
     },
     "output_type": "display_data"
    }
   ],
   "source": [
    "# Linear regression on Northern Hemisphere\n",
    "# YOUR CODE HERE\n",
    "regression_finder( northern_hemi_df['Lat'], northern_hemi_df['Max Temp'], 'Max Temp', 6, 240 )"
   ]
  },
  {
   "cell_type": "code",
   "execution_count": 33,
   "metadata": {},
   "outputs": [
    {
     "name": "stdout",
     "output_type": "stream",
     "text": [
      "r value is 0.6270923805584195\n"
     ]
    },
    {
     "data": {
      "image/png": "[encoded data removed]",
      "text/plain": [
       "<Figure size 432x288 with 1 Axes>"
      ]
     },
     "metadata": {
      "needs_background": "light"
     },
     "output_type": "display_data"
    }
   ],
   "source": [
    "# Linear regression on Southern Hemisphere\n",
    "# YOUR CODE HERE\n",
    "regression_finder( southern_hemi_df['Lat'], southern_hemi_df['Max Temp'], 'Max Temp', -50, 285)"
   ]
  },
  {
   "cell_type": "markdown",
   "metadata": {},
   "source": [
    "**Discussion about the linear relationship:** YOUR RESPONSE HERE"
   ]
  },
  {
   "cell_type": "markdown",
   "metadata": {},
   "source": [
    "### Humidity vs. Latitude Linear Regression Plot"
   ]
  },
  {
   "cell_type": "code",
   "execution_count": 24,
   "metadata": {},
   "outputs": [
    {
     "name": "stdout",
     "output_type": "stream",
     "text": [
      "r value is 0.14723427037513648\n"
     ]
    },
    {
     "data": {
      "image/png": "[encoded data removed]",
      "text/plain": [
       "<Figure size 432x288 with 1 Axes>"
      ]
     },
     "metadata": {
      "needs_background": "light"
     },
     "output_type": "display_data"
    }
   ],
   "source": [
    "# Northern Hemisphere\n",
    "# YOUR CODE HERE\n",
    "regression_finder( northern_hemi_df['Lat'], northern_hemi_df['Humidity'], 'Humidity', 45, 20)"
   ]
  },
  {
   "cell_type": "code",
   "execution_count": 25,
   "metadata": {},
   "outputs": [
    {
     "name": "stdout",
     "output_type": "stream",
     "text": [
      "r value is 0.08777194301714461\n"
     ]
    },
    {
     "data": {
      "image/png": "[encoded data removed]",
      "text/plain": [
       "<Figure size 432x288 with 1 Axes>"
      ]
     },
     "metadata": {
      "needs_background": "light"
     },
     "output_type": "display_data"
    }
   ],
   "source": [
    "# Southern Hemisphere\n",
    "# YOUR CODE HERE\n",
    "regression_finder( southern_hemi_df['Lat'], southern_hemi_df['Humidity'], 'Humidity', -50, 20)"
   ]
  },
  {
   "cell_type": "markdown",
   "metadata": {},
   "source": [
    "**Discussion about the linear relationship:** YOUR RESPONSE HERE"
   ]
  },
  {
   "cell_type": "markdown",
   "metadata": {},
   "source": [
    "### Cloudiness vs. Latitude Linear Regression Plot"
   ]
  },
  {
   "cell_type": "code",
   "execution_count": 26,
   "metadata": {},
   "outputs": [
    {
     "name": "stdout",
     "output_type": "stream",
     "text": [
      "r value is 0.05757793321218099\n"
     ]
    },
    {
     "data": {
      "image/png": "[encoded data removed]",
      "text/plain": [
       "<Figure size 432x288 with 1 Axes>"
      ]
     },
     "metadata": {
      "needs_background": "light"
     },
     "output_type": "display_data"
    }
   ],
   "source": [
    "# Northern Hemisphere\n",
    "# YOUR CODE HERE\n",
    "regression_finder( northern_hemi_df['Lat'], northern_hemi_df['Cloudiness'], 'Cloudiness', 40, 20)"
   ]
  },
  {
   "cell_type": "code",
   "execution_count": 27,
   "metadata": {},
   "outputs": [
    {
     "name": "stdout",
     "output_type": "stream",
     "text": [
      "r value is 0.03758954605418041\n"
     ]
    },
    {
     "data": {
      "image/png": "[encoded data removed]",
      "text/plain": [
       "<Figure size 432x288 with 1 Axes>"
      ]
     },
     "metadata": {
      "needs_background": "light"
     },
     "output_type": "display_data"
    }
   ],
   "source": [
    "# Southern Hemisphere\n",
    "# YOUR CODE HERE\n",
    "regression_finder( southern_hemi_df['Lat'], southern_hemi_df['Cloudiness'], 'Cloudiness', -50, 20)"
   ]
  },
  {
   "cell_type": "markdown",
   "metadata": {},
   "source": [
    "**Discussion about the linear relationship:** YOUR RESPONSE HERE"
   ]
  },
  {
   "cell_type": "markdown",
   "metadata": {},
   "source": [
    "### Wind Speed vs. Latitude Linear Regression Plot"
   ]
  },
  {
   "cell_type": "code",
   "execution_count": 28,
   "metadata": {},
   "outputs": [
    {
     "name": "stdout",
     "output_type": "stream",
     "text": [
      "r value is 0.0011745346518757932\n"
     ]
    },
    {
     "data": {
      "image/png": "[encoded data removed]",
      "text/plain": [
       "<Figure size 432x288 with 1 Axes>"
      ]
     },
     "metadata": {
      "needs_background": "light"
     },
     "output_type": "display_data"
    }
   ],
   "source": [
    "# Northern Hemisphere\n",
    "# YOUR CODE HERE\n",
    "regression_finder( northern_hemi_df['Lat'], northern_hemi_df['Wind Speed'], 'Wind Speed', 0, 10)"
   ]
  },
  {
   "cell_type": "code",
   "execution_count": 29,
   "metadata": {},
   "outputs": [
    {
     "name": "stdout",
     "output_type": "stream",
     "text": [
      "r value is 0.10574773122935693\n"
     ]
    },
    {
     "data": {
      "image/png": "[encoded data removed]",
      "text/plain": [
       "<Figure size 432x288 with 1 Axes>"
      ]
     },
     "metadata": {
      "needs_background": "light"
     },
     "output_type": "display_data"
    }
   ],
   "source": [
    "# Southern Hemisphere\n",
    "# YOUR CODE HERE\n",
    "regression_finder( southern_hemi_df['Lat'], southern_hemi_df['Wind Speed'], 'Wind Speed', -50, 15)"
   ]
  },
  {
   "cell_type": "markdown",
   "metadata": {},
   "source": [
    "**Discussion about the linear relationship:** YOUR RESPONSE HERE\n",
    "\n",
    "Linear regression captures the correlation between two variables. rvalue measures the correlation quantitively. Possible values of the correlation coefficient range from -1 to +1, with -1 indicating a perfectly linear negative, i.e., inverse, correlation (sloping downward) and +1 indicating a perfectly linear positive correlation (sloping upward).\n",
    "\n",
    "Based on the analysis:\n",
    "1. latitute and max temperature have a strong negative corralation (rvalues : 0.6 (nouthern) and 0.3 (southern) perspectively) \n",
    "2. latitude and humidity have weak positive correlation. The latitute increases, the humidity increases as well.rvalues : 0.14 (northern) and 0.08 (southern) perspectively) \n",
    "3. latitude and cloudiness have very weak positive correlation. The latitute increases, the cloudiness increases as well.rvalues : 0.05 (northern) and 0.03(southern) perspectively) \n",
    "4. About the wind speed, different trends can be observed. For northern hemisphere,latitude and wind speed have very weak positive correlation (rvaleu 0.01). However, for southern hemisphere, atitude and wind speed have weak negative correlation (rvaleu 0.105)\n",
    "\n",
    "\n"
   ]
  },
  {
   "cell_type": "code",
   "execution_count": null,
   "metadata": {},
   "outputs": [],
   "source": [
    " "
   ]
  }
 ],
 "metadata": {
  "anaconda-cloud": {},
  "kernel_info": {
   "name": "python3"
  },
  "kernelspec": {
   "display_name": "Python 3 (ipykernel)",
   "language": "python",
   "name": "python3"
  },
  "language_info": {
   "codemirror_mode": {
    "name": "ipython",
    "version": 3
   },
   "file_extension": ".py",
   "mimetype": "text/x-python",
   "name": "python",
   "nbconvert_exporter": "python",
   "pygments_lexer": "ipython3",
   "version": "3.9.12"
  },
  "latex_envs": {
   "LaTeX_envs_menu_present": true,
   "autoclose": false,
   "autocomplete": true,
   "bibliofile": "biblio.bib",
   "cite_by": "apalike",
   "current_citInitial": 1,
   "eqLabelWithNumbers": true,
   "eqNumInitial": 1,
   "hotkeys": {
    "equation": "Ctrl-E",
    "itemize": "Ctrl-I"
   },
   "labels_anchors": false,
   "latex_user_defs": false,
   "report_style_numbering": false,
   "user_envs_cfg": false
  },
  "nteract": {
   "version": "0.12.3"
  }
 },
 "nbformat": 4,
 "nbformat_minor": 4
}
