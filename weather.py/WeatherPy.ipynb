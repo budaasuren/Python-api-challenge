{
 "cells": [
  {
   "cell_type": "markdown",
   "metadata": {},
   "source": [
    "# WeatherPy\n",
    "\n",
    "---\n",
    "\n",
    "## Starter Code to Generate Random Geographic Coordinates and a List of Cities"
   ]
  },
  {
   "cell_type": "code",
   "execution_count": 5,
   "metadata": {},
   "outputs": [
    {
     "name": "stdout",
     "output_type": "stream",
     "text": [
      "Requirement already satisfied: citipy in /opt/anaconda3/lib/python3.9/site-packages (0.0.5)\n",
      "Requirement already satisfied: kdtree>=0.12 in /opt/anaconda3/lib/python3.9/site-packages (from citipy) (0.16)\n",
      "Note: you may need to restart the kernel to use updated packages.\n"
     ]
    }
   ],
   "source": [
    "pip install citipy"
   ]
  },
  {
   "cell_type": "code",
   "execution_count": 6,
   "metadata": {
    "scrolled": true
   },
   "outputs": [],
   "source": [
    "# Dependencies and Setup\n",
    "import matplotlib.pyplot as plt\n",
    "import pandas as pd\n",
    "import numpy as np\n",
    "import requests\n",
    "import time\n",
    "from scipy.stats import linregress\n",
    "\n",
    "# Impor the OpenWeatherMap API key\n",
    "from api_keys import weather_api_key\n",
    "\n",
    "# Import citipy to determine the cities based on latitude and longitude\n",
    "from citipy import citipy"
   ]
  },
  {
   "cell_type": "markdown",
   "metadata": {},
   "source": [
    "### Generate the Cities List by Using the `citipy` Library"
   ]
  },
  {
   "cell_type": "code",
   "execution_count": 7,
   "metadata": {},
   "outputs": [
    {
     "name": "stdout",
     "output_type": "stream",
     "text": [
      "Number of cities in the list: 621\n"
     ]
    }
   ],
   "source": [
    "# Empty list for holding the latitude and longitude combinations\n",
    "lat_lngs = []\n",
    "\n",
    "# Empty list for holding the cities names\n",
    "cities = []\n",
    "\n",
    "# Range of latitudes and longitudes\n",
    "lat_range = (-90, 90)\n",
    "lng_range = (-180, 180)\n",
    "\n",
    "# Create a set of random lat and lng combinations\n",
    "lats = np.random.uniform(lat_range[0], lat_range[1], size=1500)\n",
    "lngs = np.random.uniform(lng_range[0], lng_range[1], size=1500)\n",
    "lat_lngs = zip(lats, lngs)\n",
    "\n",
    "# Identify nearest city for each lat, lng combination\n",
    "for lat_lng in lat_lngs:\n",
    "    city = citipy.nearest_city(lat_lng[0], lat_lng[1]).city_name\n",
    "    \n",
    "    # If the city is unique, then add it to a our cities list\n",
    "    if ( city not in cities ):\n",
    "        cities.append(city)\n",
    "    \n",
    "\n",
    "\n",
    "# Print the city count to confirm sufficient count\n",
    "print(f\"Number of cities in the list: {len(cities)}\")"
   ]
  },
  {
   "cell_type": "markdown",
   "metadata": {},
   "source": [
    "---"
   ]
  },
  {
   "cell_type": "code",
   "execution_count": 53,
   "metadata": {},
   "outputs": [
    {
     "data": {
      "text/plain": [
       "{'coord': {'lon': -0.1257, 'lat': 51.5085},\n",
       " 'weather': [{'id': 803,\n",
       "   'main': 'Clouds',\n",
       "   'description': 'broken clouds',\n",
       "   'icon': '04n'}],\n",
       " 'base': 'stations',\n",
       " 'main': {'temp': 279.01,\n",
       "  'feels_like': 278.03,\n",
       "  'temp_min': 275.07,\n",
       "  'temp_max': 281.48,\n",
       "  'pressure': 1028,\n",
       "  'humidity': 94},\n",
       " 'visibility': 7000,\n",
       " 'wind': {'speed': 1.54, 'deg': 300},\n",
       " 'clouds': {'all': 75},\n",
       " 'dt': 1669850413,\n",
       " 'sys': {'type': 2,\n",
       "  'id': 2075535,\n",
       "  'country': 'GB',\n",
       "  'sunrise': 1669794144,\n",
       "  'sunset': 1669823773},\n",
       " 'timezone': 0,\n",
       " 'id': 2643743,\n",
       " 'name': 'London',\n",
       " 'cod': 200}"
      ]
     },
     "execution_count": 53,
     "metadata": {},
     "output_type": "execute_result"
    }
   ],
   "source": [
    "London = 'london'\n",
    "response=requests.get(f'https://api.openweathermap.org/data/2.5/weather?q={London}&appid={weather_api_key}').json()\n",
    "response\n"
   ]
  },
  {
   "cell_type": "markdown",
   "metadata": {},
   "source": [
    "## Requirement 1: Create Plots to Showcase the Relationship Between Weather Variables and Latitude\n",
    "\n",
    "### Use the OpenWeatherMap API to retrieve weather data from the cities list generated in the started code"
   ]
  },
  {
   "cell_type": "code",
   "execution_count": 63,
   "metadata": {},
   "outputs": [
    {
     "name": "stdout",
     "output_type": "stream",
     "text": [
      "Beginning Data Retrieval     \n",
      "-----------------------------\n",
      "Processing Record 1 of Set 1 | bisho\n",
      "Processing Record 2 of Set 1 | rikitea\n",
      "Processing Record 3 of Set 1 | eruwa\n",
      "Processing Record 4 of Set 1 | copiapo\n",
      "Processing Record 5 of Set 1 | dikson\n",
      "Processing Record 6 of Set 1 | taolanaro\n",
      "City not found. Skipping...\n",
      "Processing Record 7 of Set 1 | channel-port aux basques\n",
      "Processing Record 8 of Set 1 | mataura\n",
      "Processing Record 9 of Set 1 | san quintin\n",
      "Processing Record 10 of Set 1 | sao jose da coroa grande\n",
      "Processing Record 11 of Set 1 | illoqqortoormiut\n",
      "City not found. Skipping...\n",
      "Processing Record 12 of Set 1 | hermanus\n",
      "Processing Record 13 of Set 1 | provideniya\n",
      "Processing Record 14 of Set 1 | canton\n",
      "Processing Record 15 of Set 1 | port alfred\n",
      "Processing Record 16 of Set 1 | phun phin\n",
      "City not found. Skipping...\n",
      "Processing Record 17 of Set 1 | busselton\n",
      "Processing Record 18 of Set 1 | washington\n",
      "Processing Record 19 of Set 1 | yellowknife\n",
      "Processing Record 20 of Set 1 | caravelas\n",
      "Processing Record 21 of Set 1 | hamilton\n",
      "Processing Record 22 of Set 1 | pangnirtung\n",
      "Processing Record 23 of Set 1 | tuktoyaktuk\n",
      "Processing Record 24 of Set 1 | tasiilaq\n",
      "Processing Record 25 of Set 1 | sarkikaraagac\n",
      "Processing Record 26 of Set 1 | castro\n",
      "Processing Record 27 of Set 1 | thompson\n",
      "Processing Record 28 of Set 1 | dubbo\n",
      "Processing Record 29 of Set 1 | mansfield\n",
      "Processing Record 30 of Set 1 | tautira\n",
      "Processing Record 31 of Set 1 | chokurdakh\n",
      "Processing Record 32 of Set 1 | luganville\n",
      "Processing Record 33 of Set 1 | longyearbyen\n",
      "Processing Record 34 of Set 1 | kavieng\n",
      "Processing Record 35 of Set 1 | shahpura\n",
      "Processing Record 36 of Set 1 | pokhara\n",
      "Processing Record 37 of Set 1 | beira\n",
      "Processing Record 38 of Set 1 | atuona\n",
      "Processing Record 39 of Set 1 | grand river south east\n",
      "City not found. Skipping...\n",
      "Processing Record 40 of Set 1 | jamestown\n",
      "Processing Record 41 of Set 1 | new norfolk\n",
      "Processing Record 42 of Set 1 | lolua\n",
      "City not found. Skipping...\n",
      "Processing Record 43 of Set 1 | moctezuma\n",
      "Processing Record 44 of Set 1 | bluff\n",
      "Processing Record 45 of Set 1 | arraial do cabo\n",
      "Processing Record 46 of Set 1 | ushuaia\n",
      "Processing Record 47 of Set 1 | mehamn\n",
      "Processing Record 48 of Set 1 | saskylakh\n",
      "Processing Record 49 of Set 1 | beringovskiy\n",
      "Processing Record 50 of Set 1 | anchorage\n",
      "Processing Record 0 of Set 2 | punta arenas\n",
      "Processing Record 1 of Set 2 | port-gentil\n",
      "Processing Record 2 of Set 2 | barentsburg\n",
      "City not found. Skipping...\n",
      "Processing Record 3 of Set 2 | ekhabi\n",
      "Processing Record 4 of Set 2 | leningradskiy\n",
      "Processing Record 5 of Set 2 | neka\n",
      "Processing Record 6 of Set 2 | qaanaaq\n",
      "Processing Record 7 of Set 2 | fort william\n",
      "Processing Record 8 of Set 2 | coruripe\n",
      "Processing Record 9 of Set 2 | boshnyakovo\n",
      "Processing Record 10 of Set 2 | taman\n",
      "Processing Record 11 of Set 2 | moerai\n",
      "Processing Record 12 of Set 2 | mar del plata\n",
      "Processing Record 13 of Set 2 | albany\n",
      "Processing Record 14 of Set 2 | barrow\n",
      "Processing Record 15 of Set 2 | ketchikan\n",
      "Processing Record 16 of Set 2 | kaitangata\n",
      "Processing Record 17 of Set 2 | cape town\n",
      "Processing Record 18 of Set 2 | sena madureira\n",
      "Processing Record 19 of Set 2 | tallahassee\n",
      "Processing Record 20 of Set 2 | college\n",
      "Processing Record 21 of Set 2 | krasnyy yar\n",
      "Processing Record 22 of Set 2 | dalbeattie\n",
      "Processing Record 23 of Set 2 | tshikapa\n",
      "Processing Record 24 of Set 2 | plettenberg bay\n",
      "Processing Record 25 of Set 2 | iacu\n",
      "Processing Record 26 of Set 2 | cidreira\n",
      "Processing Record 27 of Set 2 | xique-xique\n",
      "Processing Record 28 of Set 2 | san lazaro\n",
      "Processing Record 29 of Set 2 | bredasdorp\n",
      "Processing Record 30 of Set 2 | victoria\n",
      "Processing Record 31 of Set 2 | bargal\n",
      "City not found. Skipping...\n",
      "Processing Record 32 of Set 2 | naze\n",
      "Processing Record 33 of Set 2 | san felipe\n",
      "Processing Record 34 of Set 2 | kargasok\n",
      "Processing Record 35 of Set 2 | raudeberg\n",
      "Processing Record 36 of Set 2 | talnakh\n",
      "Processing Record 37 of Set 2 | umm kaddadah\n",
      "Processing Record 38 of Set 2 | kirakira\n",
      "Processing Record 39 of Set 2 | sorland\n",
      "Processing Record 40 of Set 2 | chuy\n",
      "Processing Record 41 of Set 2 | itarema\n",
      "Processing Record 42 of Set 2 | sao geraldo do araguaia\n",
      "Processing Record 43 of Set 2 | holly hill\n",
      "Processing Record 44 of Set 2 | caborca\n",
      "Processing Record 45 of Set 2 | codrington\n",
      "Processing Record 46 of Set 2 | kahului\n",
      "Processing Record 47 of Set 2 | marawi\n",
      "Processing Record 48 of Set 2 | cayenne\n",
      "Processing Record 49 of Set 2 | shumskiy\n",
      "Processing Record 0 of Set 3 | shunyi\n",
      "Processing Record 1 of Set 3 | henties bay\n",
      "Processing Record 2 of Set 3 | kapaa\n",
      "Processing Record 3 of Set 3 | erzin\n",
      "Processing Record 4 of Set 3 | avarua\n",
      "Processing Record 5 of Set 3 | esperance\n",
      "Processing Record 6 of Set 3 | ayia anna\n",
      "Processing Record 7 of Set 3 | port elizabeth\n",
      "Processing Record 8 of Set 3 | faya\n",
      "Processing Record 9 of Set 3 | butaritari\n",
      "Processing Record 10 of Set 3 | laguna\n",
      "Processing Record 11 of Set 3 | lalsot\n",
      "Processing Record 12 of Set 3 | vila\n",
      "Processing Record 13 of Set 3 | hasaki\n",
      "Processing Record 14 of Set 3 | khatanga\n",
      "Processing Record 15 of Set 3 | utete\n",
      "Processing Record 16 of Set 3 | mugur-aksy\n",
      "Processing Record 17 of Set 3 | kegayli\n",
      "City not found. Skipping...\n",
      "Processing Record 18 of Set 3 | nome\n",
      "Processing Record 19 of Set 3 | north bend\n",
      "Processing Record 20 of Set 3 | itoigawa\n",
      "Processing Record 21 of Set 3 | bambous virieux\n",
      "Processing Record 22 of Set 3 | klaksvik\n",
      "Processing Record 23 of Set 3 | attawapiskat\n",
      "City not found. Skipping...\n",
      "Processing Record 24 of Set 3 | puerto ayora\n",
      "Processing Record 25 of Set 3 | port hardy\n",
      "Processing Record 26 of Set 3 | ancud\n",
      "Processing Record 27 of Set 3 | anadyr\n",
      "Processing Record 28 of Set 3 | revelstoke\n",
      "Processing Record 29 of Set 3 | batalha\n",
      "Processing Record 30 of Set 3 | guerrero negro\n",
      "Processing Record 31 of Set 3 | saldanha\n",
      "Processing Record 32 of Set 3 | gorom-gorom\n",
      "Processing Record 33 of Set 3 | cap malheureux\n",
      "Processing Record 34 of Set 3 | plainview\n",
      "Processing Record 35 of Set 3 | bethel\n",
      "Processing Record 36 of Set 3 | sinnamary\n",
      "Processing Record 37 of Set 3 | wanaka\n",
      "Processing Record 38 of Set 3 | carlyle\n",
      "Processing Record 39 of Set 3 | east london\n",
      "Processing Record 40 of Set 3 | catuday\n",
      "Processing Record 41 of Set 3 | saleaula\n",
      "City not found. Skipping...\n",
      "Processing Record 42 of Set 3 | sao francisco de paula\n",
      "Processing Record 43 of Set 3 | carandai\n",
      "Processing Record 44 of Set 3 | vaini\n",
      "Processing Record 45 of Set 3 | upernavik\n",
      "Processing Record 46 of Set 3 | georgetown\n",
      "Processing Record 47 of Set 3 | airai\n",
      "Processing Record 48 of Set 3 | ugoofaaru\n",
      "Processing Record 49 of Set 3 | chipata\n",
      "Processing Record 0 of Set 4 | clyde river\n",
      "Processing Record 1 of Set 4 | waingapu\n",
      "Processing Record 2 of Set 4 | sao filipe\n",
      "Processing Record 3 of Set 4 | gerash\n",
      "Processing Record 4 of Set 4 | forbes\n",
      "Processing Record 5 of Set 4 | hambantota\n",
      "Processing Record 6 of Set 4 | dattapur\n",
      "Processing Record 7 of Set 4 | kutum\n",
      "Processing Record 8 of Set 4 | hami\n",
      "Processing Record 9 of Set 4 | pemangkat\n",
      "Processing Record 10 of Set 4 | byumba\n",
      "Processing Record 11 of Set 4 | mount gambier\n",
      "Processing Record 12 of Set 4 | hilo\n",
      "Processing Record 13 of Set 4 | bathsheba\n",
      "Processing Record 14 of Set 4 | konstantinovsk\n",
      "Processing Record 15 of Set 4 | hithadhoo\n",
      "Processing Record 16 of Set 4 | beloha\n",
      "Processing Record 17 of Set 4 | ngukurr\n",
      "City not found. Skipping...\n",
      "Processing Record 18 of Set 4 | springfield\n",
      "Processing Record 19 of Set 4 | pangai\n",
      "Processing Record 20 of Set 4 | carutapera\n",
      "Processing Record 21 of Set 4 | aswan\n",
      "Processing Record 22 of Set 4 | lubango\n",
      "Processing Record 23 of Set 4 | ribeira grande\n",
      "Processing Record 24 of Set 4 | nanortalik\n",
      "Processing Record 25 of Set 4 | soyaux\n",
      "Processing Record 26 of Set 4 | ponta do sol\n",
      "Processing Record 27 of Set 4 | oussouye\n",
      "Processing Record 28 of Set 4 | chingirlau\n",
      "Processing Record 29 of Set 4 | aitape\n",
      "Processing Record 30 of Set 4 | lebu\n",
      "Processing Record 31 of Set 4 | san cristobal\n",
      "Processing Record 32 of Set 4 | musoma\n",
      "Processing Record 33 of Set 4 | deputatskiy\n",
      "Processing Record 34 of Set 4 | muros\n",
      "Processing Record 35 of Set 4 | luwuk\n",
      "Processing Record 36 of Set 4 | pacific grove\n",
      "Processing Record 37 of Set 4 | san juan\n",
      "Processing Record 38 of Set 4 | teknaf\n"
     ]
    },
    {
     "name": "stdout",
     "output_type": "stream",
     "text": [
      "Processing Record 39 of Set 4 | port hedland\n",
      "Processing Record 40 of Set 4 | tsihombe\n",
      "City not found. Skipping...\n",
      "Processing Record 41 of Set 4 | busembatia\n",
      "Processing Record 42 of Set 4 | waynesville\n",
      "Processing Record 43 of Set 4 | belushya guba\n",
      "City not found. Skipping...\n",
      "Processing Record 44 of Set 4 | coihaique\n",
      "Processing Record 45 of Set 4 | waddan\n",
      "Processing Record 46 of Set 4 | novobirilyussy\n",
      "Processing Record 47 of Set 4 | dondo\n",
      "Processing Record 48 of Set 4 | narsaq\n",
      "Processing Record 49 of Set 4 | okhotsk\n",
      "Processing Record 0 of Set 5 | luderitz\n",
      "Processing Record 1 of Set 5 | innisfail\n",
      "Processing Record 2 of Set 5 | guinguineo\n",
      "Processing Record 3 of Set 5 | esil\n",
      "Processing Record 4 of Set 5 | tucuman\n",
      "Processing Record 5 of Set 5 | zuwarah\n",
      "Processing Record 6 of Set 5 | biak\n",
      "Processing Record 7 of Set 5 | arman\n",
      "Processing Record 8 of Set 5 | honiara\n",
      "Processing Record 9 of Set 5 | grindavik\n",
      "Processing Record 10 of Set 5 | kruisfontein\n",
      "Processing Record 11 of Set 5 | aksu\n",
      "Processing Record 12 of Set 5 | jalalpur jattan\n",
      "Processing Record 13 of Set 5 | liku\n",
      "Processing Record 14 of Set 5 | broome\n",
      "Processing Record 15 of Set 5 | ulladulla\n",
      "Processing Record 16 of Set 5 | iquitos\n",
      "Processing Record 17 of Set 5 | buraydah\n",
      "Processing Record 18 of Set 5 | saint-philippe\n",
      "Processing Record 19 of Set 5 | piacabucu\n",
      "Processing Record 20 of Set 5 | xifeng\n",
      "Processing Record 21 of Set 5 | szczecinek\n",
      "Processing Record 22 of Set 5 | mosquera\n",
      "Processing Record 23 of Set 5 | fevralsk\n",
      "City not found. Skipping...\n",
      "Processing Record 24 of Set 5 | bugalagrande\n",
      "Processing Record 25 of Set 5 | nara\n",
      "Processing Record 26 of Set 5 | roald\n",
      "Processing Record 27 of Set 5 | saint george\n",
      "Processing Record 28 of Set 5 | shingu\n",
      "Processing Record 29 of Set 5 | bilibino\n",
      "Processing Record 30 of Set 5 | los llanos de aridane\n",
      "Processing Record 31 of Set 5 | tubruq\n",
      "City not found. Skipping...\n",
      "Processing Record 32 of Set 5 | carnarvon\n",
      "Processing Record 33 of Set 5 | tabiauea\n",
      "City not found. Skipping...\n",
      "Processing Record 34 of Set 5 | ornskoldsvik\n",
      "Processing Record 35 of Set 5 | batesville\n",
      "Processing Record 36 of Set 5 | qandala\n",
      "Processing Record 37 of Set 5 | lincoln\n",
      "Processing Record 38 of Set 5 | calbuco\n",
      "Processing Record 39 of Set 5 | turan\n",
      "Processing Record 40 of Set 5 | belmonte\n",
      "Processing Record 41 of Set 5 | moyo\n",
      "Processing Record 42 of Set 5 | roma\n",
      "Processing Record 43 of Set 5 | san carlos de bariloche\n",
      "Processing Record 44 of Set 5 | dapaong\n",
      "Processing Record 45 of Set 5 | rio grande\n",
      "Processing Record 46 of Set 5 | hobart\n",
      "Processing Record 47 of Set 5 | malumfashi\n",
      "Processing Record 48 of Set 5 | kazalinsk\n",
      "City not found. Skipping...\n",
      "Processing Record 49 of Set 5 | port lincoln\n",
      "Processing Record 0 of Set 6 | qaqortoq\n",
      "Processing Record 1 of Set 6 | pokrovsk-uralskiy\n",
      "City not found. Skipping...\n",
      "Processing Record 2 of Set 6 | jabinyanah\n",
      "Processing Record 3 of Set 6 | port blair\n",
      "Processing Record 4 of Set 6 | akyab\n",
      "Processing Record 5 of Set 6 | nikolskoye\n",
      "Processing Record 6 of Set 6 | goderich\n",
      "Processing Record 7 of Set 6 | draguignan\n",
      "Processing Record 8 of Set 6 | mareeba\n",
      "Processing Record 9 of Set 6 | husavik\n",
      "Processing Record 10 of Set 6 | komsomolskiy\n",
      "Processing Record 11 of Set 6 | pitimbu\n",
      "Processing Record 12 of Set 6 | glazov\n",
      "Processing Record 13 of Set 6 | sabang\n",
      "Processing Record 14 of Set 6 | kamenskoye\n",
      "City not found. Skipping...\n",
      "Processing Record 15 of Set 6 | severo-kurilsk\n",
      "Processing Record 16 of Set 6 | tondano\n",
      "Processing Record 17 of Set 6 | toba\n",
      "Processing Record 18 of Set 6 | palmer\n",
      "Processing Record 19 of Set 6 | balikpapan\n",
      "Processing Record 20 of Set 6 | remanso\n",
      "Processing Record 21 of Set 6 | flinders\n",
      "Processing Record 22 of Set 6 | namatanai\n",
      "Processing Record 23 of Set 6 | atar\n",
      "Processing Record 24 of Set 6 | vaitupu\n",
      "City not found. Skipping...\n",
      "Processing Record 25 of Set 6 | pucallpa\n",
      "Processing Record 26 of Set 6 | chagda\n",
      "City not found. Skipping...\n",
      "Processing Record 27 of Set 6 | bambanglipuro\n",
      "Processing Record 28 of Set 6 | itapeva\n",
      "Processing Record 29 of Set 6 | kodiak\n",
      "Processing Record 30 of Set 6 | cuiluan\n",
      "Processing Record 31 of Set 6 | viligili\n",
      "City not found. Skipping...\n",
      "Processing Record 32 of Set 6 | amga\n",
      "Processing Record 33 of Set 6 | wamba\n",
      "Processing Record 34 of Set 6 | banmo\n",
      "City not found. Skipping...\n",
      "Processing Record 35 of Set 6 | tabou\n",
      "Processing Record 36 of Set 6 | urfa\n",
      "City not found. Skipping...\n",
      "Processing Record 37 of Set 6 | adilcevaz\n",
      "Processing Record 38 of Set 6 | marcona\n",
      "City not found. Skipping...\n",
      "Processing Record 39 of Set 6 | makasar\n",
      "Processing Record 40 of Set 6 | blackwater\n",
      "Processing Record 41 of Set 6 | araguacu\n",
      "Processing Record 42 of Set 6 | kijaba\n",
      "City not found. Skipping...\n",
      "Processing Record 43 of Set 6 | olinda\n",
      "Processing Record 44 of Set 6 | semnan\n",
      "Processing Record 45 of Set 6 | sorrento\n",
      "Processing Record 46 of Set 6 | eirunepe\n",
      "Processing Record 47 of Set 6 | ahipara\n",
      "Processing Record 48 of Set 6 | mount isa\n",
      "Processing Record 49 of Set 6 | taoudenni\n",
      "Processing Record 0 of Set 7 | poronaysk\n",
      "Processing Record 1 of Set 7 | biu\n",
      "Processing Record 2 of Set 7 | atambua\n",
      "Processing Record 3 of Set 7 | tiarei\n",
      "Processing Record 4 of Set 7 | namibe\n",
      "Processing Record 5 of Set 7 | west bay\n",
      "Processing Record 6 of Set 7 | qasigiannguit\n",
      "Processing Record 7 of Set 7 | uvat\n",
      "Processing Record 8 of Set 7 | aklavik\n",
      "Processing Record 9 of Set 7 | tiksi\n",
      "Processing Record 10 of Set 7 | yabrud\n",
      "Processing Record 11 of Set 7 | sidi qasim\n",
      "City not found. Skipping...\n",
      "Processing Record 12 of Set 7 | ca mau\n",
      "Processing Record 13 of Set 7 | nizhneyansk\n",
      "City not found. Skipping...\n",
      "Processing Record 14 of Set 7 | puerto escondido\n",
      "Processing Record 15 of Set 7 | ulaanbaatar\n",
      "Processing Record 16 of Set 7 | conselheiro lafaiete\n",
      "Processing Record 17 of Set 7 | inyonga\n",
      "Processing Record 18 of Set 7 | mahebourg\n",
      "Processing Record 19 of Set 7 | acajutla\n",
      "Processing Record 20 of Set 7 | sinkat\n",
      "City not found. Skipping...\n",
      "Processing Record 21 of Set 7 | pisco\n",
      "Processing Record 22 of Set 7 | nabire\n",
      "Processing Record 23 of Set 7 | mutoko\n",
      "Processing Record 24 of Set 7 | alta floresta\n",
      "Processing Record 25 of Set 7 | inhambane\n",
      "Processing Record 26 of Set 7 | brigantine\n",
      "Processing Record 27 of Set 7 | kampene\n",
      "Processing Record 28 of Set 7 | mecca\n",
      "Processing Record 29 of Set 7 | dongsheng\n",
      "Processing Record 30 of Set 7 | scarborough\n",
      "Processing Record 31 of Set 7 | lodwar\n",
      "Processing Record 32 of Set 7 | kiama\n",
      "Processing Record 33 of Set 7 | redmond\n",
      "Processing Record 34 of Set 7 | deqing\n",
      "Processing Record 35 of Set 7 | peniche\n",
      "Processing Record 36 of Set 7 | puksoozero\n",
      "Processing Record 37 of Set 7 | bubaque\n",
      "Processing Record 38 of Set 7 | tuggurt\n",
      "City not found. Skipping...\n",
      "Processing Record 39 of Set 7 | nisia floresta\n",
      "Processing Record 40 of Set 7 | morgan city\n",
      "Processing Record 41 of Set 7 | dolores\n",
      "Processing Record 42 of Set 7 | bell ville\n",
      "Processing Record 43 of Set 7 | nenjiang\n",
      "Processing Record 44 of Set 7 | vestmanna\n",
      "Processing Record 45 of Set 7 | lakatoro\n",
      "Processing Record 46 of Set 7 | cherskiy\n",
      "Processing Record 47 of Set 7 | aykhal\n",
      "Processing Record 48 of Set 7 | malwan\n",
      "City not found. Skipping...\n",
      "Processing Record 49 of Set 7 | torbay\n",
      "Processing Record 0 of Set 8 | rungata\n",
      "City not found. Skipping...\n",
      "Processing Record 1 of Set 8 | cabo san lucas\n",
      "Processing Record 2 of Set 8 | contamana\n",
      "Processing Record 3 of Set 8 | nouadhibou\n",
      "Processing Record 4 of Set 8 | slantsy\n",
      "Processing Record 5 of Set 8 | ajdabiya\n",
      "Processing Record 6 of Set 8 | fairbanks\n",
      "Processing Record 7 of Set 8 | souillac\n",
      "Processing Record 8 of Set 8 | tumannyy\n",
      "City not found. Skipping...\n",
      "Processing Record 9 of Set 8 | yar-sale\n",
      "Processing Record 10 of Set 8 | sitka\n",
      "Processing Record 11 of Set 8 | kushiro\n",
      "Processing Record 12 of Set 8 | cururupu\n",
      "Processing Record 13 of Set 8 | saint-georges\n",
      "Processing Record 14 of Set 8 | vieste\n",
      "Processing Record 15 of Set 8 | bokspits\n",
      "City not found. Skipping...\n",
      "Processing Record 16 of Set 8 | kangaatsiaq\n",
      "Processing Record 17 of Set 8 | kokopo\n",
      "Processing Record 18 of Set 8 | qianan\n",
      "Processing Record 19 of Set 8 | sheridan\n",
      "Processing Record 20 of Set 8 | acapulco\n",
      "Processing Record 21 of Set 8 | reconquista\n",
      "Processing Record 22 of Set 8 | nogliki\n",
      "Processing Record 23 of Set 8 | sola\n"
     ]
    },
    {
     "name": "stdout",
     "output_type": "stream",
     "text": [
      "Processing Record 24 of Set 8 | hihifo\n",
      "City not found. Skipping...\n",
      "Processing Record 25 of Set 8 | salmon creek\n",
      "Processing Record 26 of Set 8 | poum\n",
      "Processing Record 27 of Set 8 | miles city\n",
      "Processing Record 28 of Set 8 | saint-pierre\n",
      "Processing Record 29 of Set 8 | la cruz\n",
      "Processing Record 30 of Set 8 | indramayu\n",
      "Processing Record 31 of Set 8 | lorengau\n",
      "Processing Record 32 of Set 8 | tatishchevo\n",
      "Processing Record 33 of Set 8 | oranjemund\n",
      "Processing Record 34 of Set 8 | kholmogory\n",
      "Processing Record 35 of Set 8 | necocli\n",
      "Processing Record 36 of Set 8 | the valley\n",
      "Processing Record 37 of Set 8 | klyuchevskiy\n",
      "Processing Record 38 of Set 8 | saint anthony\n",
      "Processing Record 39 of Set 8 | marsala\n",
      "Processing Record 40 of Set 8 | manyana\n",
      "Processing Record 41 of Set 8 | boa vista\n",
      "Processing Record 42 of Set 8 | maceio\n",
      "Processing Record 43 of Set 8 | lavrentiya\n",
      "Processing Record 44 of Set 8 | sheregesh\n",
      "Processing Record 45 of Set 8 | oriximina\n",
      "Processing Record 46 of Set 8 | abapo\n",
      "Processing Record 47 of Set 8 | sangar\n",
      "Processing Record 48 of Set 8 | thunder bay\n",
      "Processing Record 49 of Set 8 | isangel\n",
      "Processing Record 0 of Set 9 | alofi\n",
      "Processing Record 1 of Set 9 | coahuayana\n",
      "Processing Record 2 of Set 9 | olafsvik\n",
      "Processing Record 3 of Set 9 | pietarsaari\n",
      "Processing Record 4 of Set 9 | kupang\n",
      "Processing Record 5 of Set 9 | grand-lahou\n",
      "Processing Record 6 of Set 9 | glendive\n",
      "Processing Record 7 of Set 9 | saleilua\n",
      "City not found. Skipping...\n",
      "Processing Record 8 of Set 9 | kapoeta\n",
      "Processing Record 9 of Set 9 | bengkulu\n",
      "Processing Record 10 of Set 9 | charters towers\n",
      "Processing Record 11 of Set 9 | hobyo\n",
      "Processing Record 12 of Set 9 | baykit\n",
      "Processing Record 13 of Set 9 | vao\n",
      "Processing Record 14 of Set 9 | waipawa\n",
      "Processing Record 15 of Set 9 | barkhan\n",
      "Processing Record 16 of Set 9 | north myrtle beach\n",
      "Processing Record 17 of Set 9 | andenes\n",
      "Processing Record 18 of Set 9 | ozgon\n",
      "City not found. Skipping...\n",
      "Processing Record 19 of Set 9 | dillon\n",
      "Processing Record 20 of Set 9 | makakilo city\n",
      "Processing Record 21 of Set 9 | hokitika\n",
      "Processing Record 22 of Set 9 | clarence town\n",
      "Processing Record 23 of Set 9 | hofn\n",
      "Processing Record 24 of Set 9 | timon\n",
      "Processing Record 25 of Set 9 | kailua\n",
      "Processing Record 26 of Set 9 | solnechnyy\n",
      "Processing Record 27 of Set 9 | tacoronte\n",
      "Processing Record 28 of Set 9 | isparta\n",
      "Processing Record 29 of Set 9 | lufilufi\n",
      "Processing Record 30 of Set 9 | carbonia\n",
      "Processing Record 31 of Set 9 | te anau\n",
      "Processing Record 32 of Set 9 | kaeo\n",
      "Processing Record 33 of Set 9 | fort saint john\n",
      "City not found. Skipping...\n",
      "Processing Record 34 of Set 9 | ilam\n",
      "Processing Record 35 of Set 9 | puerto leguizamo\n",
      "Processing Record 36 of Set 9 | ixtapa\n",
      "Processing Record 37 of Set 9 | byron bay\n",
      "Processing Record 38 of Set 9 | manado\n",
      "Processing Record 39 of Set 9 | fernie\n",
      "Processing Record 40 of Set 9 | ambon\n",
      "Processing Record 41 of Set 9 | mozarlandia\n",
      "Processing Record 42 of Set 9 | sile\n",
      "Processing Record 43 of Set 9 | yumen\n",
      "Processing Record 44 of Set 9 | fethiye\n",
      "Processing Record 45 of Set 9 | vigia del fuerte\n",
      "Processing Record 46 of Set 9 | ituni\n",
      "City not found. Skipping...\n",
      "Processing Record 47 of Set 9 | dauriya\n",
      "Processing Record 48 of Set 9 | tuatapere\n",
      "Processing Record 49 of Set 9 | erenhot\n",
      "Processing Record 0 of Set 10 | ferme-neuve\n",
      "Processing Record 1 of Set 10 | gobabis\n",
      "Processing Record 2 of Set 10 | utiel\n",
      "Processing Record 3 of Set 10 | mogwase\n",
      "Processing Record 4 of Set 10 | torzhok\n",
      "Processing Record 5 of Set 10 | alvin\n",
      "Processing Record 6 of Set 10 | cockburn town\n",
      "Processing Record 7 of Set 10 | artyk\n",
      "City not found. Skipping...\n",
      "Processing Record 8 of Set 10 | ulsteinvik\n",
      "Processing Record 9 of Set 10 | pangody\n",
      "Processing Record 10 of Set 10 | kroya\n",
      "Processing Record 11 of Set 10 | san patricio\n",
      "Processing Record 12 of Set 10 | nishihara\n",
      "Processing Record 13 of Set 10 | muroto\n",
      "Processing Record 14 of Set 10 | martapura\n",
      "Processing Record 15 of Set 10 | golden gate\n",
      "Processing Record 16 of Set 10 | gimbi\n",
      "Processing Record 17 of Set 10 | do rud\n",
      "City not found. Skipping...\n",
      "Processing Record 18 of Set 10 | elizabeth city\n",
      "Processing Record 19 of Set 10 | talaya\n",
      "Processing Record 20 of Set 10 | ust-nera\n",
      "Processing Record 21 of Set 10 | diamantino\n",
      "Processing Record 22 of Set 10 | eatonton\n",
      "Processing Record 23 of Set 10 | tilichiki\n",
      "Processing Record 24 of Set 10 | tucurui\n",
      "Processing Record 25 of Set 10 | kalamb\n",
      "Processing Record 26 of Set 10 | lakselv\n",
      "Processing Record 27 of Set 10 | gilbues\n",
      "Processing Record 28 of Set 10 | mayo\n",
      "Processing Record 29 of Set 10 | makat\n",
      "Processing Record 30 of Set 10 | lisakovsk\n",
      "Processing Record 31 of Set 10 | denpasar\n",
      "Processing Record 32 of Set 10 | inderborskiy\n",
      "City not found. Skipping...\n",
      "Processing Record 33 of Set 10 | nueva gerona\n",
      "Processing Record 34 of Set 10 | marilandia\n",
      "Processing Record 35 of Set 10 | penzance\n",
      "Processing Record 36 of Set 10 | ayan\n",
      "Processing Record 37 of Set 10 | bowen\n",
      "Processing Record 38 of Set 10 | baraki barak\n",
      "Processing Record 39 of Set 10 | mudyuga\n",
      "City not found. Skipping...\n",
      "Processing Record 40 of Set 10 | baikingon\n",
      "Processing Record 41 of Set 10 | tahoua\n",
      "Processing Record 42 of Set 10 | beyneu\n",
      "Processing Record 43 of Set 10 | araripina\n",
      "Processing Record 44 of Set 10 | sentyabrskiy\n",
      "City not found. Skipping...\n",
      "Processing Record 45 of Set 10 | conroe\n",
      "Processing Record 46 of Set 10 | campoverde\n",
      "Processing Record 47 of Set 10 | kununurra\n",
      "Processing Record 48 of Set 10 | nhulunbuy\n",
      "Processing Record 49 of Set 10 | tha maka\n",
      "Processing Record 0 of Set 11 | qarqin\n",
      "Processing Record 1 of Set 11 | vardo\n",
      "Processing Record 2 of Set 11 | katsuura\n",
      "Processing Record 3 of Set 11 | petatlan\n",
      "Processing Record 4 of Set 11 | rodrigues alves\n",
      "Processing Record 5 of Set 11 | san francisco\n",
      "Processing Record 6 of Set 11 | hualmay\n",
      "Processing Record 7 of Set 11 | dong xoai\n",
      "Processing Record 8 of Set 11 | huarmey\n",
      "Processing Record 9 of Set 11 | geraldton\n",
      "Processing Record 10 of Set 11 | janow lubelski\n",
      "Processing Record 11 of Set 11 | manama\n",
      "Processing Record 12 of Set 11 | lompoc\n",
      "Processing Record 13 of Set 11 | gat\n",
      "Processing Record 14 of Set 11 | gao\n",
      "Processing Record 15 of Set 11 | oistins\n",
      "Processing Record 16 of Set 11 | stepnyak\n",
      "Processing Record 17 of Set 11 | zhangjiakou\n",
      "Processing Record 18 of Set 11 | estelle\n",
      "Processing Record 19 of Set 11 | sao joao da barra\n",
      "Processing Record 20 of Set 11 | mys shmidta\n",
      "City not found. Skipping...\n",
      "Processing Record 21 of Set 11 | progreso\n",
      "Processing Record 22 of Set 11 | grua\n",
      "Processing Record 23 of Set 11 | krasnovishersk\n",
      "Processing Record 24 of Set 11 | maridi\n",
      "Processing Record 25 of Set 11 | kiunga\n",
      "Processing Record 26 of Set 11 | nanchong\n",
      "Processing Record 27 of Set 11 | bud\n",
      "Processing Record 28 of Set 11 | karwar\n",
      "Processing Record 29 of Set 11 | nizwa\n",
      "Processing Record 30 of Set 11 | dogondoutchi\n",
      "Processing Record 31 of Set 11 | ocampo\n",
      "Processing Record 32 of Set 11 | acarau\n",
      "Processing Record 33 of Set 11 | koupela\n",
      "Processing Record 34 of Set 11 | canon city\n",
      "Processing Record 35 of Set 11 | barroualie\n",
      "City not found. Skipping...\n",
      "Processing Record 36 of Set 11 | necochea\n",
      "Processing Record 37 of Set 11 | evensk\n",
      "Processing Record 38 of Set 11 | havelock\n",
      "Processing Record 39 of Set 11 | richards bay\n",
      "Processing Record 40 of Set 11 | zabaykalsk\n",
      "Processing Record 41 of Set 11 | astipalaia\n",
      "City not found. Skipping...\n",
      "Processing Record 42 of Set 11 | saint-prosper\n",
      "Processing Record 43 of Set 11 | colon\n",
      "Processing Record 44 of Set 11 | gondar\n",
      "Processing Record 45 of Set 11 | san policarpo\n",
      "Processing Record 46 of Set 11 | marovoay\n",
      "Processing Record 47 of Set 11 | severnyy\n",
      "Processing Record 48 of Set 11 | pevek\n",
      "Processing Record 49 of Set 11 | mto wa mbu\n",
      "Processing Record 0 of Set 12 | labuhan\n",
      "Processing Record 1 of Set 12 | darjiling\n",
      "Processing Record 2 of Set 12 | mae chan\n",
      "Processing Record 3 of Set 12 | tanout\n",
      "Processing Record 4 of Set 12 | alice springs\n",
      "Processing Record 5 of Set 12 | luxor\n",
      "Processing Record 6 of Set 12 | eskisehir\n",
      "Processing Record 7 of Set 12 | chadiza\n",
      "Processing Record 8 of Set 12 | strathmore\n",
      "Processing Record 9 of Set 12 | luanda\n",
      "Processing Record 10 of Set 12 | verdun\n",
      "Processing Record 11 of Set 12 | araouane\n",
      "Processing Record 12 of Set 12 | dalinghe\n"
     ]
    },
    {
     "name": "stdout",
     "output_type": "stream",
     "text": [
      "City not found. Skipping...\n",
      "Processing Record 13 of Set 12 | port macquarie\n",
      "Processing Record 14 of Set 12 | amderma\n",
      "City not found. Skipping...\n",
      "Processing Record 15 of Set 12 | nguiu\n",
      "City not found. Skipping...\n",
      "Processing Record 16 of Set 12 | porto nacional\n",
      "Processing Record 17 of Set 12 | mangrol\n",
      "Processing Record 18 of Set 12 | vezirkopru\n",
      "Processing Record 19 of Set 12 | saint-jean-de-dieu\n",
      "City not found. Skipping...\n",
      "Processing Record 20 of Set 12 | inirida\n",
      "Processing Record 21 of Set 12 | kholm\n",
      "Processing Record 22 of Set 12 | constitucion\n",
      "Processing Record 23 of Set 12 | karamea\n",
      "City not found. Skipping...\n",
      "Processing Record 24 of Set 12 | sur\n",
      "Processing Record 25 of Set 12 | yantai\n",
      "Processing Record 26 of Set 12 | abrau-dyurso\n",
      "Processing Record 27 of Set 12 | vigrestad\n",
      "Processing Record 28 of Set 12 | unye\n",
      "City not found. Skipping...\n",
      "Processing Record 29 of Set 12 | gamba\n",
      "Processing Record 30 of Set 12 | bairiki\n",
      "Processing Record 31 of Set 12 | vostok\n",
      "Processing Record 32 of Set 12 | fortuna\n",
      "Processing Record 33 of Set 12 | maniitsoq\n",
      "Processing Record 34 of Set 12 | general roca\n",
      "Processing Record 35 of Set 12 | rawson\n",
      "Processing Record 36 of Set 12 | weiden\n",
      "Processing Record 37 of Set 12 | campbell river\n",
      "Processing Record 38 of Set 12 | shache\n",
      "Processing Record 39 of Set 12 | faanui\n",
      "Processing Record 40 of Set 12 | shushenskoye\n",
      "Processing Record 41 of Set 12 | vaitape\n",
      "Processing Record 42 of Set 12 | lac du bonnet\n",
      "Processing Record 43 of Set 12 | vagay\n",
      "Processing Record 44 of Set 12 | lapeer\n",
      "Processing Record 45 of Set 12 | amarwara\n",
      "Processing Record 46 of Set 12 | prieska\n",
      "Processing Record 47 of Set 12 | sortland\n",
      "Processing Record 48 of Set 12 | touros\n",
      "Processing Record 49 of Set 12 | omsukchan\n",
      "Processing Record 0 of Set 13 | seoul\n",
      "Processing Record 1 of Set 13 | korcula\n",
      "Processing Record 2 of Set 13 | medford\n",
      "Processing Record 3 of Set 13 | nioki\n",
      "Processing Record 4 of Set 13 | gazni\n",
      "City not found. Skipping...\n",
      "Processing Record 5 of Set 13 | egvekinot\n",
      "Processing Record 6 of Set 13 | itapolis\n",
      "Processing Record 7 of Set 13 | puli\n",
      "Processing Record 8 of Set 13 | yagodnoye\n",
      "Processing Record 9 of Set 13 | logan lake\n",
      "Processing Record 10 of Set 13 | tateyama\n",
      "Processing Record 11 of Set 13 | nesebar\n",
      "Processing Record 12 of Set 13 | lata\n",
      "Processing Record 13 of Set 13 | sindi\n",
      "Processing Record 14 of Set 13 | huanren\n",
      "Processing Record 15 of Set 13 | borovoy\n",
      "Processing Record 16 of Set 13 | loikaw\n",
      "Processing Record 17 of Set 13 | porto novo\n",
      "Processing Record 18 of Set 13 | playas\n",
      "Processing Record 19 of Set 13 | gurgan\n",
      "City not found. Skipping...\n",
      "Processing Record 20 of Set 13 | milkovo\n",
      "-----------------------------\n",
      "Data Retrieval Complete      \n",
      "-----------------------------\n"
     ]
    }
   ],
   "source": [
    "# Set the API base URL\n",
    "url = f\"https://api.openweathermap.org/data/2.5/weather?appid={weather_api_key}\"\n",
    "\n",
    "# Define an empty list to fetch the weather data for each city\n",
    "city_data = []\n",
    "\n",
    "# Print to logger\n",
    "print(\"Beginning Data Retrieval     \")\n",
    "print(\"-----------------------------\")\n",
    "\n",
    "# Create counters\n",
    "record_count = 1\n",
    "set_count = 1\n",
    "\n",
    "# Loop through all the cities in our list to fetch weather data\n",
    "for i, city in enumerate(cities):\n",
    "        \n",
    "    # Group cities in sets of 50 for logging purposes\n",
    "    if (i % 50 == 0 and i >= 50):\n",
    "        set_count += 1\n",
    "        record_count = 0\n",
    "\n",
    "    # Create endpoint URL with each city\n",
    "    city_url = f\"{url}&q={city}\"\n",
    "\n",
    "\n",
    "    # Log the url, record, and set numbers\n",
    "    print(\"Processing Record %s of Set %s | %s\" % (record_count, set_count, city))\n",
    "\n",
    "    # Add 1 to the record count\n",
    "    record_count += 1\n",
    "\n",
    "    # Run an API request for each of the cities\n",
    "    try:\n",
    "        # Parse the JSON and retrieve data\n",
    "        city_weather = requests.get(city_url).json()# YOUR CODE HERE\n",
    "\n",
    "        # Parse out latitude, longitude, max temp, humidity, cloudiness, wind speed, country, and date\n",
    "        city_lat = city_weather['coord']['lat']# YOUR CODE HERE\n",
    "        city_lng = city_weather['coord']['lon']# YOUR CODE HERE\n",
    "        city_max_temp = city_weather['main']['temp_max']# YOUR CODE HERE\n",
    "        city_humidity = city_weather['main']['humidity']# YOUR CODE HERE\n",
    "        city_clouds = city_weather['clouds']['all'] # YOUR CODE HERE\n",
    "        city_wind =city_weather['wind']['speed'] # YOUR CODE HERE\n",
    "        city_country = city_weather['sys']['country']# YOUR CODE HERE\n",
    "        city_date = city_weather['dt']# YOUR CODE HERE\n",
    "\n",
    "        # Append the City information into city_data list\n",
    "        city_data.append({\"City\": city, \n",
    "                          \"Lat\": city_lat, \n",
    "                          \"Lng\": city_lng, \n",
    "                          \"Max Temp\": city_max_temp,\n",
    "                          \"Humidity\": city_humidity,\n",
    "                          \"Cloudiness\": city_clouds,\n",
    "                          \"Wind Speed\": city_wind,\n",
    "                          \"Country\": city_country,\n",
    "                          \"Date\": city_date})\n",
    "\n",
    "    # If an error is experienced, skip the city\n",
    "    except:\n",
    "        print(\"City not found. Skipping...\")\n",
    "        pass\n",
    "              \n",
    "# Indicate that Data Loading is complete \n",
    "print(\"-----------------------------\")\n",
    "print(\"Data Retrieval Complete      \")\n",
    "print(\"-----------------------------\")"
   ]
  },
  {
   "cell_type": "code",
   "execution_count": 64,
   "metadata": {},
   "outputs": [
    {
     "data": {
      "text/plain": [
       "City          566\n",
       "Lat           566\n",
       "Lng           566\n",
       "Max Temp      566\n",
       "Humidity      566\n",
       "Cloudiness    566\n",
       "Wind Speed    566\n",
       "Country       566\n",
       "Date          566\n",
       "dtype: int64"
      ]
     },
     "execution_count": 64,
     "metadata": {},
     "output_type": "execute_result"
    }
   ],
   "source": [
    "# Convert the cities weather data into a Pandas DataFrame\n",
    "city_data_df = pd.DataFrame.from_dict(city_data)\n",
    "# Show Record Count\n",
    "city_data_df.count()"
   ]
  },
  {
   "cell_type": "code",
   "execution_count": 65,
   "metadata": {},
   "outputs": [
    {
     "data": {
      "text/html": [
       "<div>\n",
       "<style scoped>\n",
       "    .dataframe tbody tr th:only-of-type {\n",
       "        vertical-align: middle;\n",
       "    }\n",
       "\n",
       "    .dataframe tbody tr th {\n",
       "        vertical-align: top;\n",
       "    }\n",
       "\n",
       "    .dataframe thead th {\n",
       "        text-align: right;\n",
       "    }\n",
       "</style>\n",
       "<table border=\"1\" class=\"dataframe\">\n",
       "  <thead>\n",
       "    <tr style=\"text-align: right;\">\n",
       "      <th></th>\n",
       "      <th>City</th>\n",
       "      <th>Lat</th>\n",
       "      <th>Lng</th>\n",
       "      <th>Max Temp</th>\n",
       "      <th>Humidity</th>\n",
       "      <th>Cloudiness</th>\n",
       "      <th>Wind Speed</th>\n",
       "      <th>Country</th>\n",
       "      <th>Date</th>\n",
       "    </tr>\n",
       "  </thead>\n",
       "  <tbody>\n",
       "    <tr>\n",
       "      <th>0</th>\n",
       "      <td>bisho</td>\n",
       "      <td>-32.8472</td>\n",
       "      <td>27.4422</td>\n",
       "      <td>291.75</td>\n",
       "      <td>93</td>\n",
       "      <td>100</td>\n",
       "      <td>1.46</td>\n",
       "      <td>ZA</td>\n",
       "      <td>1669851213</td>\n",
       "    </tr>\n",
       "    <tr>\n",
       "      <th>1</th>\n",
       "      <td>rikitea</td>\n",
       "      <td>-23.1203</td>\n",
       "      <td>-134.9692</td>\n",
       "      <td>296.00</td>\n",
       "      <td>71</td>\n",
       "      <td>82</td>\n",
       "      <td>5.76</td>\n",
       "      <td>PF</td>\n",
       "      <td>1669851213</td>\n",
       "    </tr>\n",
       "    <tr>\n",
       "      <th>2</th>\n",
       "      <td>eruwa</td>\n",
       "      <td>7.5333</td>\n",
       "      <td>3.4167</td>\n",
       "      <td>297.67</td>\n",
       "      <td>81</td>\n",
       "      <td>52</td>\n",
       "      <td>0.89</td>\n",
       "      <td>NG</td>\n",
       "      <td>1669851214</td>\n",
       "    </tr>\n",
       "    <tr>\n",
       "      <th>3</th>\n",
       "      <td>copiapo</td>\n",
       "      <td>-27.3667</td>\n",
       "      <td>-70.3333</td>\n",
       "      <td>288.98</td>\n",
       "      <td>62</td>\n",
       "      <td>1</td>\n",
       "      <td>2.64</td>\n",
       "      <td>CL</td>\n",
       "      <td>1669850967</td>\n",
       "    </tr>\n",
       "    <tr>\n",
       "      <th>4</th>\n",
       "      <td>dikson</td>\n",
       "      <td>73.5069</td>\n",
       "      <td>80.5464</td>\n",
       "      <td>267.85</td>\n",
       "      <td>95</td>\n",
       "      <td>100</td>\n",
       "      <td>5.42</td>\n",
       "      <td>RU</td>\n",
       "      <td>1669851214</td>\n",
       "    </tr>\n",
       "  </tbody>\n",
       "</table>\n",
       "</div>"
      ],
      "text/plain": [
       "      City      Lat       Lng  Max Temp  Humidity  Cloudiness  Wind Speed  \\\n",
       "0    bisho -32.8472   27.4422    291.75        93         100        1.46   \n",
       "1  rikitea -23.1203 -134.9692    296.00        71          82        5.76   \n",
       "2    eruwa   7.5333    3.4167    297.67        81          52        0.89   \n",
       "3  copiapo -27.3667  -70.3333    288.98        62           1        2.64   \n",
       "4   dikson  73.5069   80.5464    267.85        95         100        5.42   \n",
       "\n",
       "  Country        Date  \n",
       "0      ZA  1669851213  \n",
       "1      PF  1669851213  \n",
       "2      NG  1669851214  \n",
       "3      CL  1669850967  \n",
       "4      RU  1669851214  "
      ]
     },
     "execution_count": 65,
     "metadata": {},
     "output_type": "execute_result"
    }
   ],
   "source": [
    "city_data_df.head()"
   ]
  },
  {
   "cell_type": "code",
   "execution_count": 72,
   "metadata": {},
   "outputs": [],
   "source": [
    "# Export the City_Data into a csv\n",
    "city_data_df.to_csv(\"output_data/cities.csv\", index_label=\"City_ID\")"
   ]
  },
  {
   "cell_type": "code",
   "execution_count": 73,
   "metadata": {},
   "outputs": [
    {
     "data": {
      "text/html": [
       "<div>\n",
       "<style scoped>\n",
       "    .dataframe tbody tr th:only-of-type {\n",
       "        vertical-align: middle;\n",
       "    }\n",
       "\n",
       "    .dataframe tbody tr th {\n",
       "        vertical-align: top;\n",
       "    }\n",
       "\n",
       "    .dataframe thead th {\n",
       "        text-align: right;\n",
       "    }\n",
       "</style>\n",
       "<table border=\"1\" class=\"dataframe\">\n",
       "  <thead>\n",
       "    <tr style=\"text-align: right;\">\n",
       "      <th></th>\n",
       "      <th>City</th>\n",
       "      <th>Lat</th>\n",
       "      <th>Lng</th>\n",
       "      <th>Max Temp</th>\n",
       "      <th>Humidity</th>\n",
       "      <th>Cloudiness</th>\n",
       "      <th>Wind Speed</th>\n",
       "      <th>Country</th>\n",
       "      <th>Date</th>\n",
       "    </tr>\n",
       "    <tr>\n",
       "      <th>City_ID</th>\n",
       "      <th></th>\n",
       "      <th></th>\n",
       "      <th></th>\n",
       "      <th></th>\n",
       "      <th></th>\n",
       "      <th></th>\n",
       "      <th></th>\n",
       "      <th></th>\n",
       "      <th></th>\n",
       "    </tr>\n",
       "  </thead>\n",
       "  <tbody>\n",
       "    <tr>\n",
       "      <th>0</th>\n",
       "      <td>bisho</td>\n",
       "      <td>-32.8472</td>\n",
       "      <td>27.4422</td>\n",
       "      <td>291.75</td>\n",
       "      <td>93</td>\n",
       "      <td>100</td>\n",
       "      <td>1.46</td>\n",
       "      <td>ZA</td>\n",
       "      <td>1669851213</td>\n",
       "    </tr>\n",
       "    <tr>\n",
       "      <th>1</th>\n",
       "      <td>rikitea</td>\n",
       "      <td>-23.1203</td>\n",
       "      <td>-134.9692</td>\n",
       "      <td>296.00</td>\n",
       "      <td>71</td>\n",
       "      <td>82</td>\n",
       "      <td>5.76</td>\n",
       "      <td>PF</td>\n",
       "      <td>1669851213</td>\n",
       "    </tr>\n",
       "    <tr>\n",
       "      <th>2</th>\n",
       "      <td>eruwa</td>\n",
       "      <td>7.5333</td>\n",
       "      <td>3.4167</td>\n",
       "      <td>297.67</td>\n",
       "      <td>81</td>\n",
       "      <td>52</td>\n",
       "      <td>0.89</td>\n",
       "      <td>NG</td>\n",
       "      <td>1669851214</td>\n",
       "    </tr>\n",
       "    <tr>\n",
       "      <th>3</th>\n",
       "      <td>copiapo</td>\n",
       "      <td>-27.3667</td>\n",
       "      <td>-70.3333</td>\n",
       "      <td>288.98</td>\n",
       "      <td>62</td>\n",
       "      <td>1</td>\n",
       "      <td>2.64</td>\n",
       "      <td>CL</td>\n",
       "      <td>1669850967</td>\n",
       "    </tr>\n",
       "    <tr>\n",
       "      <th>4</th>\n",
       "      <td>dikson</td>\n",
       "      <td>73.5069</td>\n",
       "      <td>80.5464</td>\n",
       "      <td>267.85</td>\n",
       "      <td>95</td>\n",
       "      <td>100</td>\n",
       "      <td>5.42</td>\n",
       "      <td>RU</td>\n",
       "      <td>1669851214</td>\n",
       "    </tr>\n",
       "  </tbody>\n",
       "</table>\n",
       "</div>"
      ],
      "text/plain": [
       "            City      Lat       Lng  Max Temp  Humidity  Cloudiness  \\\n",
       "City_ID                                                               \n",
       "0          bisho -32.8472   27.4422    291.75        93         100   \n",
       "1        rikitea -23.1203 -134.9692    296.00        71          82   \n",
       "2          eruwa   7.5333    3.4167    297.67        81          52   \n",
       "3        copiapo -27.3667  -70.3333    288.98        62           1   \n",
       "4         dikson  73.5069   80.5464    267.85        95         100   \n",
       "\n",
       "         Wind Speed Country        Date  \n",
       "City_ID                                  \n",
       "0              1.46      ZA  1669851213  \n",
       "1              5.76      PF  1669851213  \n",
       "2              0.89      NG  1669851214  \n",
       "3              2.64      CL  1669850967  \n",
       "4              5.42      RU  1669851214  "
      ]
     },
     "execution_count": 73,
     "metadata": {},
     "output_type": "execute_result"
    }
   ],
   "source": [
    "# Read saved data\n",
    "city_data_df = pd.read_csv(\"output_data/cities.csv\", index_col=\"City_ID\")\n",
    "\n",
    "# Display sample data\n",
    "city_data_df.head()"
   ]
  },
  {
   "cell_type": "markdown",
   "metadata": {},
   "source": [
    "### Create the Scatter Plots Requested\n",
    "\n",
    "#### Latitude Vs. Temperature"
   ]
  },
  {
   "cell_type": "code",
   "execution_count": 82,
   "metadata": {
    "tags": []
   },
   "outputs": [
    {
     "data": {
      "image/png": "[encoded data removed]",
      "text/plain": [
       "<Figure size 432x288 with 1 Axes>"
      ]
     },
     "metadata": {
      "needs_background": "light"
     },
     "output_type": "display_data"
    }
   ],
   "source": [
    "# Build scatter plot for latitude vs. temperature\n",
    "\n",
    "\n",
    "# Incorporate the other graph properties\n",
    "# YOUR CODE HERE\n",
    "plt.figure(figsize=(6, 4))\n",
    "plt.scatter(city_data_df['Lat'],city_data_df['Max Temp'], marker=\"o\", facecolors=\"blue\", edgecolors=\"black\", alpha=0.75 )\n",
    "plt.grid()\n",
    "# Incorporate the other graph properties\n",
    "# YOUR CODE HERE\n",
    "\n",
    "plt.xlabel('latitute')\n",
    "plt.ylabel('Max Temperature (C)')\n",
    "plt.title('City Latitute vs. Max Temperature (2022-10-18)')\n",
    "# Save the figure\n",
    "plt.savefig(\"output_data/Fig1.png\")\n",
    "\n",
    "# Show plot\n",
    "plt.show()"
   ]
  },
  {
   "cell_type": "markdown",
   "metadata": {},
   "source": [
    "#### Latitude Vs. Humidity"
   ]
  },
  {
   "cell_type": "code",
   "execution_count": 81,
   "metadata": {},
   "outputs": [
    {
     "data": {
      "image/png": "[encoded data removed]",
      "text/plain": [
       "<Figure size 432x288 with 1 Axes>"
      ]
     },
     "metadata": {
      "needs_background": "light"
     },
     "output_type": "display_data"
    }
   ],
   "source": [
    "# Build the scatter plots for latitude vs. humidity\n",
    "# YOUR CODE HERE\n",
    "plt.scatter(city_data_df['Lat'],city_data_df['Humidity'], marker=\"o\", facecolors=\"blue\", edgecolors=\"black\" )\n",
    "plt.grid()\n",
    "# Incorporate the other graph properties\n",
    "# YOUR CODE HERE\n",
    "plt.xlabel('latitute')\n",
    "plt.ylabel('humidity (%)')\n",
    "plt.title('City Latitute vs. Humidity (2022-10-18)')\n",
    "# Save the figure\n",
    "plt.savefig(\"output_data/Fig2.png\")\n",
    "\n",
    "# Show plot\n",
    "plt.show()"
   ]
  },
  {
   "cell_type": "markdown",
   "metadata": {},
   "source": [
    "#### Latitude Vs. Cloudiness"
   ]
  },
  {
   "cell_type": "code",
   "execution_count": 83,
   "metadata": {},
   "outputs": [
    {
     "data": {
      "image/png": "[encoded data removed]",
      "text/plain": [
       "<Figure size 432x288 with 1 Axes>"
      ]
     },
     "metadata": {
      "needs_background": "light"
     },
     "output_type": "display_data"
    }
   ],
   "source": [
    "# Build the scatter plots for latitude vs. cloudiness\n",
    "# YOUR CODE HERE\n",
    "plt.scatter(city_data_df['Lat'],city_data_df['Cloudiness'], marker=\"o\", facecolors=\"blue\", edgecolors=\"black\" )\n",
    "plt.grid()\n",
    "plt.xlabel('latitute')\n",
    "plt.ylabel('Cloudiness (%)')\n",
    "plt.title('City Latitute vs. Cloudiness (2022-10-18)')\n",
    "# Incorporate the other graph properties\n",
    "# YOUR CODE HERE\n",
    "\n",
    "# Save the figure\n",
    "plt.savefig(\"output_data/Fig3.png\")\n",
    "\n",
    "# Show plot\n",
    "plt.show()"
   ]
  },
  {
   "cell_type": "markdown",
   "metadata": {},
   "source": [
    "#### Latitude vs. Wind Speed Plot"
   ]
  },
  {
   "cell_type": "code",
   "execution_count": 84,
   "metadata": {},
   "outputs": [
    {
     "data": {
      "image/png": "[encoded data removed]",
      "text/plain": [
       "<Figure size 432x288 with 1 Axes>"
      ]
     },
     "metadata": {
      "needs_background": "light"
     },
     "output_type": "display_data"
    }
   ],
   "source": [
    "# Build the scatter plots for latitude vs. wind speed\n",
    "# YOUR CODE HERE\n",
    "plt.scatter(city_data_df['Lat'],city_data_df['Wind Speed'], marker=\"o\", facecolors=\"blue\", edgecolors=\"black\" )\n",
    "plt.grid()\n",
    "plt.xlabel('latitute')\n",
    "plt.ylabel('Wind Speed (m/s)')\n",
    "plt.title('City Latitute vs. Wind Speed (2022-10-18)')\n",
    "\n",
    "# Incorporate the other graph properties\n",
    "# YOUR CODE HERE\n",
    "\n",
    "# Save the figure\n",
    "plt.savefig(\"output_data/Fig4.png\")\n",
    "\n",
    "# Show plot\n",
    "plt.show()"
   ]
  },
  {
   "cell_type": "markdown",
   "metadata": {},
   "source": [
    "---\n",
    "\n",
    "## Requirement 2: Compute Linear Regression for Each Relationship\n"
   ]
  },
  {
   "cell_type": "code",
   "execution_count": 123,
   "metadata": {},
   "outputs": [],
   "source": []
  },
  {
   "cell_type": "code",
   "execution_count": 124,
   "metadata": {},
   "outputs": [
    {
     "data": {
      "text/html": [
       "<div>\n",
       "<style scoped>\n",
       "    .dataframe tbody tr th:only-of-type {\n",
       "        vertical-align: middle;\n",
       "    }\n",
       "\n",
       "    .dataframe tbody tr th {\n",
       "        vertical-align: top;\n",
       "    }\n",
       "\n",
       "    .dataframe thead th {\n",
       "        text-align: right;\n",
       "    }\n",
       "</style>\n",
       "<table border=\"1\" class=\"dataframe\">\n",
       "  <thead>\n",
       "    <tr style=\"text-align: right;\">\n",
       "      <th></th>\n",
       "      <th>City</th>\n",
       "      <th>Lat</th>\n",
       "      <th>Lng</th>\n",
       "      <th>Max Temp</th>\n",
       "      <th>Humidity</th>\n",
       "      <th>Cloudiness</th>\n",
       "      <th>Wind Speed</th>\n",
       "      <th>Country</th>\n",
       "      <th>Date</th>\n",
       "    </tr>\n",
       "  </thead>\n",
       "  <tbody>\n",
       "    <tr>\n",
       "      <th>0</th>\n",
       "      <td>eruwa</td>\n",
       "      <td>7.5333</td>\n",
       "      <td>3.4167</td>\n",
       "      <td>297.67</td>\n",
       "      <td>81</td>\n",
       "      <td>52</td>\n",
       "      <td>0.89</td>\n",
       "      <td>NG</td>\n",
       "      <td>1669851214</td>\n",
       "    </tr>\n",
       "    <tr>\n",
       "      <th>1</th>\n",
       "      <td>dikson</td>\n",
       "      <td>73.5069</td>\n",
       "      <td>80.5464</td>\n",
       "      <td>267.85</td>\n",
       "      <td>95</td>\n",
       "      <td>100</td>\n",
       "      <td>5.42</td>\n",
       "      <td>RU</td>\n",
       "      <td>1669851214</td>\n",
       "    </tr>\n",
       "    <tr>\n",
       "      <th>2</th>\n",
       "      <td>channel-port aux basques</td>\n",
       "      <td>47.5702</td>\n",
       "      <td>-59.1367</td>\n",
       "      <td>273.55</td>\n",
       "      <td>75</td>\n",
       "      <td>90</td>\n",
       "      <td>7.32</td>\n",
       "      <td>CA</td>\n",
       "      <td>1669851215</td>\n",
       "    </tr>\n",
       "    <tr>\n",
       "      <th>3</th>\n",
       "      <td>san quintin</td>\n",
       "      <td>30.4833</td>\n",
       "      <td>-115.9500</td>\n",
       "      <td>288.13</td>\n",
       "      <td>68</td>\n",
       "      <td>7</td>\n",
       "      <td>4.80</td>\n",
       "      <td>MX</td>\n",
       "      <td>1669851216</td>\n",
       "    </tr>\n",
       "    <tr>\n",
       "      <th>4</th>\n",
       "      <td>provideniya</td>\n",
       "      <td>64.3833</td>\n",
       "      <td>-173.3000</td>\n",
       "      <td>271.21</td>\n",
       "      <td>74</td>\n",
       "      <td>0</td>\n",
       "      <td>3.00</td>\n",
       "      <td>RU</td>\n",
       "      <td>1669851218</td>\n",
       "    </tr>\n",
       "  </tbody>\n",
       "</table>\n",
       "</div>"
      ],
      "text/plain": [
       "                       City      Lat       Lng  Max Temp  Humidity  \\\n",
       "0                     eruwa   7.5333    3.4167    297.67        81   \n",
       "1                    dikson  73.5069   80.5464    267.85        95   \n",
       "2  channel-port aux basques  47.5702  -59.1367    273.55        75   \n",
       "3               san quintin  30.4833 -115.9500    288.13        68   \n",
       "4               provideniya  64.3833 -173.3000    271.21        74   \n",
       "\n",
       "   Cloudiness  Wind Speed Country        Date  \n",
       "0          52        0.89      NG  1669851214  \n",
       "1         100        5.42      RU  1669851214  \n",
       "2          90        7.32      CA  1669851215  \n",
       "3           7        4.80      MX  1669851216  \n",
       "4           0        3.00      RU  1669851218  "
      ]
     },
     "execution_count": 124,
     "metadata": {},
     "output_type": "execute_result"
    }
   ],
   "source": [
    "# Create a DataFrame with the Northern Hemisphere data (Latitude >= 0)\n",
    "# YOUR CODE HERE\n",
    "northern_hemi_df = city_data_df.loc[city_data_df['Lat'] >= 0 , : ].reset_index(drop=True)\n",
    "# Display sample data\n",
    "northern_hemi_df.head()"
   ]
  },
  {
   "cell_type": "code",
   "execution_count": 125,
   "metadata": {},
   "outputs": [
    {
     "data": {
      "text/html": [
       "<div>\n",
       "<style scoped>\n",
       "    .dataframe tbody tr th:only-of-type {\n",
       "        vertical-align: middle;\n",
       "    }\n",
       "\n",
       "    .dataframe tbody tr th {\n",
       "        vertical-align: top;\n",
       "    }\n",
       "\n",
       "    .dataframe thead th {\n",
       "        text-align: right;\n",
       "    }\n",
       "</style>\n",
       "<table border=\"1\" class=\"dataframe\">\n",
       "  <thead>\n",
       "    <tr style=\"text-align: right;\">\n",
       "      <th></th>\n",
       "      <th>City</th>\n",
       "      <th>Lat</th>\n",
       "      <th>Lng</th>\n",
       "      <th>Max Temp</th>\n",
       "      <th>Humidity</th>\n",
       "      <th>Cloudiness</th>\n",
       "      <th>Wind Speed</th>\n",
       "      <th>Country</th>\n",
       "      <th>Date</th>\n",
       "    </tr>\n",
       "  </thead>\n",
       "  <tbody>\n",
       "    <tr>\n",
       "      <th>0</th>\n",
       "      <td>bisho</td>\n",
       "      <td>-32.8472</td>\n",
       "      <td>27.4422</td>\n",
       "      <td>291.75</td>\n",
       "      <td>93</td>\n",
       "      <td>100</td>\n",
       "      <td>1.46</td>\n",
       "      <td>ZA</td>\n",
       "      <td>1669851213</td>\n",
       "    </tr>\n",
       "    <tr>\n",
       "      <th>1</th>\n",
       "      <td>rikitea</td>\n",
       "      <td>-23.1203</td>\n",
       "      <td>-134.9692</td>\n",
       "      <td>296.00</td>\n",
       "      <td>71</td>\n",
       "      <td>82</td>\n",
       "      <td>5.76</td>\n",
       "      <td>PF</td>\n",
       "      <td>1669851213</td>\n",
       "    </tr>\n",
       "    <tr>\n",
       "      <th>2</th>\n",
       "      <td>copiapo</td>\n",
       "      <td>-27.3667</td>\n",
       "      <td>-70.3333</td>\n",
       "      <td>288.98</td>\n",
       "      <td>62</td>\n",
       "      <td>1</td>\n",
       "      <td>2.64</td>\n",
       "      <td>CL</td>\n",
       "      <td>1669850967</td>\n",
       "    </tr>\n",
       "    <tr>\n",
       "      <th>3</th>\n",
       "      <td>mataura</td>\n",
       "      <td>-46.1927</td>\n",
       "      <td>168.8643</td>\n",
       "      <td>283.42</td>\n",
       "      <td>80</td>\n",
       "      <td>77</td>\n",
       "      <td>4.37</td>\n",
       "      <td>NZ</td>\n",
       "      <td>1669851216</td>\n",
       "    </tr>\n",
       "    <tr>\n",
       "      <th>4</th>\n",
       "      <td>sao jose da coroa grande</td>\n",
       "      <td>-8.8978</td>\n",
       "      <td>-35.1478</td>\n",
       "      <td>298.29</td>\n",
       "      <td>80</td>\n",
       "      <td>100</td>\n",
       "      <td>4.17</td>\n",
       "      <td>BR</td>\n",
       "      <td>1669851217</td>\n",
       "    </tr>\n",
       "  </tbody>\n",
       "</table>\n",
       "</div>"
      ],
      "text/plain": [
       "                       City      Lat       Lng  Max Temp  Humidity  \\\n",
       "0                     bisho -32.8472   27.4422    291.75        93   \n",
       "1                   rikitea -23.1203 -134.9692    296.00        71   \n",
       "2                   copiapo -27.3667  -70.3333    288.98        62   \n",
       "3                   mataura -46.1927  168.8643    283.42        80   \n",
       "4  sao jose da coroa grande  -8.8978  -35.1478    298.29        80   \n",
       "\n",
       "   Cloudiness  Wind Speed Country        Date  \n",
       "0         100        1.46      ZA  1669851213  \n",
       "1          82        5.76      PF  1669851213  \n",
       "2           1        2.64      CL  1669850967  \n",
       "3          77        4.37      NZ  1669851216  \n",
       "4         100        4.17      BR  1669851217  "
      ]
     },
     "execution_count": 125,
     "metadata": {},
     "output_type": "execute_result"
    }
   ],
   "source": [
    "# Create a DataFrame with the Southern Hemisphere data (Latitude < 0)\n",
    "# YOUR CODE HERE\n",
    "southern_hemi_df = city_data_df.loc[city_data_df['Lat'] < 0 , : ].reset_index(drop=True)\n",
    "\n",
    "# Display sample data\n",
    "southern_hemi_df.head()"
   ]
  },
  {
   "cell_type": "markdown",
   "metadata": {},
   "source": [
    "###  Temperature vs. Latitude Linear Regression Plot"
   ]
  },
  {
   "cell_type": "code",
   "execution_count": 153,
   "metadata": {},
   "outputs": [],
   "source": [
    "# Define a function to create Linear Regression plots\n",
    "# YOUR CODE HERE\n",
    "\n",
    "def regression_finder(x_values, y_values, y_label, x_axis_anno, y_axis_anno):\n",
    "    (slope, intercept, rvalue, pvalue, stderr) = linregress( x_values, y_values )\n",
    "    regress_values = x_values * slope + intercept\n",
    "    line_eq = \"y = \" + str(round(slope,2)) + \"x + \" + str(round(intercept,2))\n",
    "    \n",
    "    print(f'r value is {rvalue}')\n",
    "   \n",
    "    plt.scatter(x_values,y_values)\n",
    "    plt.plot(x_values,regress_values,\"r-\")\n",
    "    plt.annotate(line_eq,xy=(x_axis_anno, y_axis_anno),xytext=(x_axis_anno, y_axis_anno),fontsize=15,color=\"red\")\n",
    "    plt.xlabel(\"Latitude\")\n",
    "    plt.ylabel(y_label)\n",
    "    plt.show()\n",
    "    \n",
    "    \n",
    "    \n",
    "    return\n",
    "    "
   ]
  },
  {
   "cell_type": "code",
   "execution_count": 154,
   "metadata": {
    "scrolled": true
   },
   "outputs": [
    {
     "name": "stdout",
     "output_type": "stream",
     "text": [
      "r value is -0.8133861684584676\n"
     ]
    },
    {
     "data": {
      "image/png": "[encoded data removed]",
      "text/plain": [
       "<Figure size 432x288 with 1 Axes>"
      ]
     },
     "metadata": {
      "needs_background": "light"
     },
     "output_type": "display_data"
    }
   ],
   "source": [
    "# Linear regression on Northern Hemisphere\n",
    "# YOUR CODE HERE\n",
    "regression_finder( northern_hemi_df['Lat'], northern_hemi_df['Max Temp'], 'Max Temp', 6, 240 )"
   ]
  },
  {
   "cell_type": "code",
   "execution_count": 156,
   "metadata": {},
   "outputs": [
    {
     "name": "stdout",
     "output_type": "stream",
     "text": [
      "r value is 0.6667666727984409\n"
     ]
    },
    {
     "data": {
      "image/png": "[encoded data removed]",
      "text/plain": [
       "<Figure size 432x288 with 1 Axes>"
      ]
     },
     "metadata": {
      "needs_background": "light"
     },
     "output_type": "display_data"
    }
   ],
   "source": [
    "# Linear regression on Southern Hemisphere\n",
    "# YOUR CODE HERE\n",
    "regression_finder( southern_hemi_df['Lat'], southern_hemi_df['Max Temp'], 'Max Temp', -50, 285)"
   ]
  },
  {
   "cell_type": "markdown",
   "metadata": {},
   "source": [
    "**Discussion about the linear relationship:** YOUR RESPONSE HERE"
   ]
  },
  {
   "cell_type": "markdown",
   "metadata": {},
   "source": [
    "### Humidity vs. Latitude Linear Regression Plot"
   ]
  },
  {
   "cell_type": "code",
   "execution_count": 161,
   "metadata": {},
   "outputs": [
    {
     "name": "stdout",
     "output_type": "stream",
     "text": [
      "r value is 0.3423747998585994\n"
     ]
    },
    {
     "data": {
      "image/png": "[encoded data removed]",
      "text/plain": [
       "<Figure size 432x288 with 1 Axes>"
      ]
     },
     "metadata": {
      "needs_background": "light"
     },
     "output_type": "display_data"
    }
   ],
   "source": [
    "# Northern Hemisphere\n",
    "# YOUR CODE HERE\n",
    "regression_finder( northern_hemi_df['Lat'], northern_hemi_df['Humidity'], 'Humidity', 45, 20)"
   ]
  },
  {
   "cell_type": "code",
   "execution_count": 163,
   "metadata": {},
   "outputs": [
    {
     "name": "stdout",
     "output_type": "stream",
     "text": [
      "r value is 0.3383830418863679\n"
     ]
    },
    {
     "data": {
      "image/png": "[encoded data removed]",
      "text/plain": [
       "<Figure size 432x288 with 1 Axes>"
      ]
     },
     "metadata": {
      "needs_background": "light"
     },
     "output_type": "display_data"
    }
   ],
   "source": [
    "# Southern Hemisphere\n",
    "# YOUR CODE HERE\n",
    "regression_finder( southern_hemi_df['Lat'], southern_hemi_df['Humidity'], 'Humidity', -50, 20)"
   ]
  },
  {
   "cell_type": "markdown",
   "metadata": {},
   "source": [
    "**Discussion about the linear relationship:** YOUR RESPONSE HERE"
   ]
  },
  {
   "cell_type": "markdown",
   "metadata": {},
   "source": [
    "### Cloudiness vs. Latitude Linear Regression Plot"
   ]
  },
  {
   "cell_type": "code",
   "execution_count": 165,
   "metadata": {},
   "outputs": [
    {
     "name": "stdout",
     "output_type": "stream",
     "text": [
      "r value is 0.24524706011670108\n"
     ]
    },
    {
     "data": {
      "image/png": "[encoded data removed]",
      "text/plain": [
       "<Figure size 432x288 with 1 Axes>"
      ]
     },
     "metadata": {
      "needs_background": "light"
     },
     "output_type": "display_data"
    }
   ],
   "source": [
    "# Northern Hemisphere\n",
    "# YOUR CODE HERE\n",
    "regression_finder( northern_hemi_df['Lat'], northern_hemi_df['Cloudiness'], 'Cloudiness', 40, 20)"
   ]
  },
  {
   "cell_type": "code",
   "execution_count": 167,
   "metadata": {},
   "outputs": [
    {
     "name": "stdout",
     "output_type": "stream",
     "text": [
      "r value is 0.2507029468565563\n"
     ]
    },
    {
     "data": {
      "image/png": "[encoded data removed]",
      "text/plain": [
       "<Figure size 432x288 with 1 Axes>"
      ]
     },
     "metadata": {
      "needs_background": "light"
     },
     "output_type": "display_data"
    }
   ],
   "source": [
    "# Southern Hemisphere\n",
    "# YOUR CODE HERE\n",
    "regression_finder( southern_hemi_df['Lat'], southern_hemi_df['Cloudiness'], 'Cloudiness', -50, 20)"
   ]
  },
  {
   "cell_type": "markdown",
   "metadata": {},
   "source": [
    "**Discussion about the linear relationship:** YOUR RESPONSE HERE"
   ]
  },
  {
   "cell_type": "markdown",
   "metadata": {},
   "source": [
    "### Wind Speed vs. Latitude Linear Regression Plot"
   ]
  },
  {
   "cell_type": "code",
   "execution_count": 169,
   "metadata": {},
   "outputs": [
    {
     "name": "stdout",
     "output_type": "stream",
     "text": [
      "r value is 0.17386752325460655\n"
     ]
    },
    {
     "data": {
      "image/png": "[encoded data removed]",
      "text/plain": [
       "<Figure size 432x288 with 1 Axes>"
      ]
     },
     "metadata": {
      "needs_background": "light"
     },
     "output_type": "display_data"
    }
   ],
   "source": [
    "# Northern Hemisphere\n",
    "# YOUR CODE HERE\n",
    "regression_finder( northern_hemi_df['Lat'], northern_hemi_df['Wind Speed'], 'Wind Speed', 0, 10)"
   ]
  },
  {
   "cell_type": "code",
   "execution_count": 171,
   "metadata": {},
   "outputs": [
    {
     "name": "stdout",
     "output_type": "stream",
     "text": [
      "r value is -0.487757403258075\n"
     ]
    },
    {
     "data": {
      "image/png": "[encoded data removed]",
      "text/plain": [
       "<Figure size 432x288 with 1 Axes>"
      ]
     },
     "metadata": {
      "needs_background": "light"
     },
     "output_type": "display_data"
    }
   ],
   "source": [
    "# Southern Hemisphere\n",
    "# YOUR CODE HERE\n",
    "regression_finder( southern_hemi_df['Lat'], southern_hemi_df['Wind Speed'], 'Wind Speed', -50, 15)"
   ]
  },
  {
   "cell_type": "markdown",
   "metadata": {},
   "source": [
    "**Discussion about the linear relationship:** YOUR RESPONSE HERE\n",
    "\n",
    "Linear regression captures the correlation between two variables. rvalue measures the correlation quantitively. Possible values of the correlation coefficient range from -1 to +1, with -1 indicating a perfectly linear negative, i.e., inverse, correlation (sloping downward) and +1 indicating a perfectly linear positive correlation (sloping upward).\n",
    "\n",
    "Based on the analysis:\n",
    "1. latitute and max temperature have a strong negative corralation (rvalues : 0.8 (nouthern) and - 0.6(southern) perspectively) \n",
    "2. latitude and humidity have weak positive correlation. The latitute increases, the humidity increases as well.rvalues : 0.3 (northern) and 0.3(southern) perspectively) \n",
    "3. latitude and cloudiness have very weak positive correlation. The latitute increases, the cloudiness increases as well.rvalues : 0.2 (northern) and 0.2(southern) perspectively) \n",
    "4. About the wind speed, different trends can be observed. For northern hemisphere,latitude and wind speed have very weak positive correlation (rvaleu 0.2). However, for southern hemisphere, atitude and wind speed have weak negative correlation (rvaleu -0.48)\n",
    "\n",
    "\n"
   ]
  },
  {
   "cell_type": "code",
   "execution_count": null,
   "metadata": {},
   "outputs": [],
   "source": [
    " "
   ]
  }
 ],
 "metadata": {
  "anaconda-cloud": {},
  "kernel_info": {
   "name": "python3"
  },
  "kernelspec": {
   "display_name": "Python 3 (ipykernel)",
   "language": "python",
   "name": "python3"
  },
  "language_info": {
   "codemirror_mode": {
    "name": "ipython",
    "version": 3
   },
   "file_extension": ".py",
   "mimetype": "text/x-python",
   "name": "python",
   "nbconvert_exporter": "python",
   "pygments_lexer": "ipython3",
   "version": "3.9.12"
  },
  "latex_envs": {
   "LaTeX_envs_menu_present": true,
   "autoclose": false,
   "autocomplete": true,
   "bibliofile": "biblio.bib",
   "cite_by": "apalike",
   "current_citInitial": 1,
   "eqLabelWithNumbers": true,
   "eqNumInitial": 1,
   "hotkeys": {
    "equation": "Ctrl-E",
    "itemize": "Ctrl-I"
   },
   "labels_anchors": false,
   "latex_user_defs": false,
   "report_style_numbering": false,
   "user_envs_cfg": false
  },
  "nteract": {
   "version": "0.12.3"
  }
 },
 "nbformat": 4,
 "nbformat_minor": 4
}
