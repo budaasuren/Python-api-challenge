{
 "cells": [
  {
   "cell_type": "markdown",
   "metadata": {},
   "source": [
    "# WeatherPy\n",
    "\n",
    "---\n",
    "\n",
    "## Starter Code to Generate Random Geographic Coordinates and a List of Cities"
   ]
  },
  {
   "cell_type": "code",
   "execution_count": 1,
   "metadata": {},
   "outputs": [
    {
     "name": "stdout",
     "output_type": "stream",
     "text": [
      "Requirement already satisfied: citipy in /opt/anaconda3/lib/python3.9/site-packages (0.0.5)\n",
      "Requirement already satisfied: kdtree>=0.12 in /opt/anaconda3/lib/python3.9/site-packages (from citipy) (0.16)\n",
      "Note: you may need to restart the kernel to use updated packages.\n"
     ]
    }
   ],
   "source": [
    "pip install citipy"
   ]
  },
  {
   "cell_type": "code",
   "execution_count": 2,
   "metadata": {
    "scrolled": true
   },
   "outputs": [],
   "source": [
    "# Dependencies and Setup\n",
    "import matplotlib.pyplot as plt\n",
    "import pandas as pd\n",
    "import numpy as np\n",
    "import requests\n",
    "import time\n",
    "from scipy.stats import linregress\n",
    "\n",
    "# Impor the OpenWeatherMap API key\n",
    "from api_keys import weather_api_key\n",
    "\n",
    "# Import citipy to determine the cities based on latitude and longitude\n",
    "from citipy import citipy"
   ]
  },
  {
   "cell_type": "markdown",
   "metadata": {},
   "source": [
    "### Generate the Cities List by Using the `citipy` Library"
   ]
  },
  {
   "cell_type": "code",
   "execution_count": 3,
   "metadata": {},
   "outputs": [
    {
     "name": "stdout",
     "output_type": "stream",
     "text": [
      "Number of cities in the list: 621\n"
     ]
    }
   ],
   "source": [
    "# Empty list for holding the latitude and longitude combinations\n",
    "lat_lngs = []\n",
    "\n",
    "# Empty list for holding the cities names\n",
    "cities = []\n",
    "\n",
    "# Range of latitudes and longitudes\n",
    "lat_range = (-90, 90)\n",
    "lng_range = (-180, 180)\n",
    "\n",
    "# Create a set of random lat and lng combinations\n",
    "lats = np.random.uniform(lat_range[0], lat_range[1], size=1500)\n",
    "lngs = np.random.uniform(lng_range[0], lng_range[1], size=1500)\n",
    "lat_lngs = zip(lats, lngs)\n",
    "\n",
    "# Identify nearest city for each lat, lng combination\n",
    "for lat_lng in lat_lngs:\n",
    "    city = citipy.nearest_city(lat_lng[0], lat_lng[1]).city_name\n",
    "    \n",
    "    # If the city is unique, then add it to a our cities list\n",
    "    if ( city not in cities ):\n",
    "        cities.append(city)\n",
    "    \n",
    "\n",
    "\n",
    "# Print the city count to confirm sufficient count\n",
    "print(f\"Number of cities in the list: {len(cities)}\")"
   ]
  },
  {
   "cell_type": "markdown",
   "metadata": {},
   "source": [
    "---"
   ]
  },
  {
   "cell_type": "markdown",
   "metadata": {},
   "source": [
    "## Requirement 1: Create Plots to Showcase the Relationship Between Weather Variables and Latitude\n",
    "\n",
    "### Use the OpenWeatherMap API to retrieve weather data from the cities list generated in the started code"
   ]
  },
  {
   "cell_type": "code",
   "execution_count": 4,
   "metadata": {},
   "outputs": [
    {
     "name": "stdout",
     "output_type": "stream",
     "text": [
      "Beginning Data Retrieval     \n",
      "-----------------------------\n",
      "Processing Record 1 of Set 1 | simbahan\n",
      "Processing Record 2 of Set 1 | marpod\n",
      "Processing Record 3 of Set 1 | camacha\n",
      "Processing Record 4 of Set 1 | gazojak\n",
      "Processing Record 5 of Set 1 | vaini\n",
      "Processing Record 6 of Set 1 | saldanha\n",
      "Processing Record 7 of Set 1 | mataura\n",
      "Processing Record 8 of Set 1 | santa rosa\n",
      "Processing Record 9 of Set 1 | izhma\n",
      "Processing Record 10 of Set 1 | amderma\n",
      "City not found. Skipping...\n",
      "Processing Record 11 of Set 1 | yellowknife\n",
      "Processing Record 12 of Set 1 | maceio\n",
      "Processing Record 13 of Set 1 | haines junction\n",
      "Processing Record 14 of Set 1 | komarikhinskiy\n",
      "Processing Record 15 of Set 1 | souillac\n",
      "Processing Record 16 of Set 1 | kapaa\n",
      "Processing Record 17 of Set 1 | port alfred\n",
      "Processing Record 18 of Set 1 | alexandria\n",
      "Processing Record 19 of Set 1 | clyde river\n",
      "Processing Record 20 of Set 1 | cape town\n",
      "Processing Record 21 of Set 1 | mayo\n",
      "Processing Record 22 of Set 1 | kungurtug\n",
      "Processing Record 23 of Set 1 | cape canaveral\n",
      "Processing Record 24 of Set 1 | portland\n",
      "Processing Record 25 of Set 1 | hobart\n",
      "Processing Record 26 of Set 1 | dzhebariki-khaya\n",
      "Processing Record 27 of Set 1 | puerto ayora\n",
      "Processing Record 28 of Set 1 | sao joao da barra\n",
      "Processing Record 29 of Set 1 | umm durman\n",
      "City not found. Skipping...\n",
      "Processing Record 30 of Set 1 | ancud\n",
      "Processing Record 31 of Set 1 | jamestown\n",
      "Processing Record 32 of Set 1 | vaitupu\n",
      "City not found. Skipping...\n",
      "Processing Record 33 of Set 1 | arraial do cabo\n",
      "Processing Record 34 of Set 1 | tiksi\n",
      "Processing Record 35 of Set 1 | albany\n",
      "Processing Record 36 of Set 1 | punta arenas\n",
      "Processing Record 37 of Set 1 | thompson\n",
      "Processing Record 38 of Set 1 | westpunt\n",
      "City not found. Skipping...\n",
      "Processing Record 39 of Set 1 | khatanga\n",
      "Processing Record 40 of Set 1 | hithadhoo\n",
      "Processing Record 41 of Set 1 | mantua\n",
      "Processing Record 42 of Set 1 | shar\n",
      "Processing Record 43 of Set 1 | te anau\n",
      "Processing Record 44 of Set 1 | atuona\n",
      "Processing Record 45 of Set 1 | hamilton\n",
      "Processing Record 46 of Set 1 | severo-yeniseyskiy\n",
      "Processing Record 47 of Set 1 | bluff\n",
      "Processing Record 48 of Set 1 | chuy\n",
      "Processing Record 49 of Set 1 | rikitea\n",
      "Processing Record 50 of Set 1 | belushya guba\n",
      "City not found. Skipping...\n",
      "Processing Record 0 of Set 2 | parainen\n",
      "Processing Record 1 of Set 2 | campbellton\n",
      "Processing Record 2 of Set 2 | tsihombe\n",
      "City not found. Skipping...\n",
      "Processing Record 3 of Set 2 | butaritari\n",
      "Processing Record 4 of Set 2 | barentsburg\n",
      "City not found. Skipping...\n",
      "Processing Record 5 of Set 2 | ushuaia\n",
      "Processing Record 6 of Set 2 | hermanus\n",
      "Processing Record 7 of Set 2 | isangel\n",
      "Processing Record 8 of Set 2 | gimli\n",
      "Processing Record 9 of Set 2 | lebu\n",
      "Processing Record 10 of Set 2 | grand centre\n",
      "City not found. Skipping...\n",
      "Processing Record 11 of Set 2 | svarstad\n",
      "Processing Record 12 of Set 2 | walvis bay\n",
      "Processing Record 13 of Set 2 | batagay-alyta\n",
      "Processing Record 14 of Set 2 | cumaribo\n",
      "City not found. Skipping...\n",
      "Processing Record 15 of Set 2 | narsaq\n",
      "Processing Record 16 of Set 2 | ayan\n",
      "Processing Record 17 of Set 2 | busselton\n",
      "Processing Record 18 of Set 2 | new norfolk\n",
      "Processing Record 19 of Set 2 | qaanaaq\n",
      "Processing Record 20 of Set 2 | san patricio\n",
      "Processing Record 21 of Set 2 | nikolskoye\n",
      "Processing Record 22 of Set 2 | renigunta\n",
      "Processing Record 23 of Set 2 | maningrida\n",
      "Processing Record 24 of Set 2 | saint-augustin\n",
      "Processing Record 25 of Set 2 | teknaf\n",
      "Processing Record 26 of Set 2 | iqaluit\n",
      "Processing Record 27 of Set 2 | luderitz\n",
      "Processing Record 28 of Set 2 | plettenberg bay\n",
      "Processing Record 29 of Set 2 | saint anthony\n",
      "Processing Record 30 of Set 2 | takoradi\n",
      "Processing Record 31 of Set 2 | bethel\n",
      "Processing Record 32 of Set 2 | port elizabeth\n",
      "Processing Record 33 of Set 2 | barstow\n",
      "Processing Record 34 of Set 2 | georgetown\n",
      "Processing Record 35 of Set 2 | harnosand\n",
      "Processing Record 36 of Set 2 | baldeo\n",
      "Processing Record 37 of Set 2 | mahebourg\n",
      "Processing Record 38 of Set 2 | groningen\n",
      "Processing Record 39 of Set 2 | kahului\n",
      "Processing Record 40 of Set 2 | kavaratti\n",
      "Processing Record 41 of Set 2 | aquiraz\n",
      "Processing Record 42 of Set 2 | hare bay\n",
      "Processing Record 43 of Set 2 | lovozero\n",
      "Processing Record 44 of Set 2 | bambous virieux\n",
      "Processing Record 45 of Set 2 | caravelas\n",
      "Processing Record 46 of Set 2 | rancho palos verdes\n",
      "Processing Record 47 of Set 2 | chokurdakh\n",
      "Processing Record 48 of Set 2 | talaya\n",
      "Processing Record 49 of Set 2 | attawapiskat\n",
      "City not found. Skipping...\n",
      "Processing Record 0 of Set 3 | east london\n",
      "Processing Record 1 of Set 3 | cumberland\n",
      "Processing Record 2 of Set 3 | cockburn town\n",
      "Processing Record 3 of Set 3 | illoqqortoormiut\n",
      "City not found. Skipping...\n",
      "Processing Record 4 of Set 3 | katsuura\n",
      "Processing Record 5 of Set 3 | luwuk\n",
      "Processing Record 6 of Set 3 | saint-philippe\n",
      "Processing Record 7 of Set 3 | saskylakh\n",
      "Processing Record 8 of Set 3 | belaya gora\n",
      "Processing Record 9 of Set 3 | bredasdorp\n",
      "Processing Record 10 of Set 3 | kirakira\n",
      "Processing Record 11 of Set 3 | umba\n",
      "Processing Record 12 of Set 3 | ribeira grande\n",
      "Processing Record 13 of Set 3 | kodiak\n",
      "Processing Record 14 of Set 3 | gamba\n",
      "Processing Record 15 of Set 3 | taolanaro\n",
      "City not found. Skipping...\n",
      "Processing Record 16 of Set 3 | leningradskiy\n",
      "Processing Record 17 of Set 3 | norman wells\n",
      "Processing Record 18 of Set 3 | anadyr\n",
      "Processing Record 19 of Set 3 | palana\n",
      "Processing Record 20 of Set 3 | prince rupert\n",
      "Processing Record 21 of Set 3 | castro\n",
      "Processing Record 22 of Set 3 | airai\n",
      "Processing Record 23 of Set 3 | dzaoudzi\n",
      "Processing Record 24 of Set 3 | tautira\n",
      "Processing Record 25 of Set 3 | moberly\n",
      "Processing Record 26 of Set 3 | avarua\n",
      "Processing Record 27 of Set 3 | gaspe\n",
      "Processing Record 28 of Set 3 | lagoa\n",
      "Processing Record 29 of Set 3 | maymyo\n",
      "Processing Record 30 of Set 3 | saint george\n",
      "Processing Record 31 of Set 3 | carnarvon\n",
      "Processing Record 32 of Set 3 | qasigiannguit\n",
      "Processing Record 33 of Set 3 | henties bay\n",
      "Processing Record 34 of Set 3 | sol-iletsk\n",
      "Processing Record 35 of Set 3 | juneau\n",
      "Processing Record 36 of Set 3 | vallenar\n",
      "Processing Record 37 of Set 3 | tasiilaq\n",
      "Processing Record 38 of Set 3 | chunskiy\n",
      "Processing Record 39 of Set 3 | lompoc\n",
      "Processing Record 40 of Set 3 | hilo\n",
      "Processing Record 41 of Set 3 | loreto\n",
      "Processing Record 42 of Set 3 | nalut\n",
      "Processing Record 43 of Set 3 | babanusah\n",
      "City not found. Skipping...\n",
      "Processing Record 44 of Set 3 | jijiga\n",
      "Processing Record 45 of Set 3 | zhangye\n",
      "Processing Record 46 of Set 3 | rio branco\n",
      "Processing Record 47 of Set 3 | barrow\n",
      "Processing Record 48 of Set 3 | kavieng\n",
      "Processing Record 49 of Set 3 | beloha\n",
      "Processing Record 0 of Set 4 | los llanos de aridane\n",
      "Processing Record 1 of Set 4 | codrington\n",
      "Processing Record 2 of Set 4 | provideniya\n",
      "Processing Record 3 of Set 4 | havelock\n",
      "Processing Record 4 of Set 4 | qeshm\n",
      "Processing Record 5 of Set 4 | severo-kurilsk\n",
      "Processing Record 6 of Set 4 | guerrero negro\n",
      "Processing Record 7 of Set 4 | torbay\n",
      "Processing Record 8 of Set 4 | talcahuano\n",
      "Processing Record 9 of Set 4 | pafos\n",
      "Processing Record 10 of Set 4 | fortuna\n",
      "Processing Record 11 of Set 4 | tilichiki\n",
      "Processing Record 12 of Set 4 | casablanca\n",
      "Processing Record 13 of Set 4 | caraballeda\n",
      "Processing Record 14 of Set 4 | aras\n",
      "Processing Record 15 of Set 4 | dali\n",
      "Processing Record 16 of Set 4 | tuktoyaktuk\n",
      "Processing Record 17 of Set 4 | hofn\n",
      "Processing Record 18 of Set 4 | we\n",
      "City not found. Skipping...\n",
      "Processing Record 19 of Set 4 | maloshuyka\n",
      "City not found. Skipping...\n",
      "Processing Record 20 of Set 4 | marquette\n",
      "Processing Record 21 of Set 4 | taoudenni\n",
      "Processing Record 22 of Set 4 | vanimo\n",
      "Processing Record 23 of Set 4 | jinhua\n",
      "Processing Record 24 of Set 4 | alyangula\n",
      "Processing Record 25 of Set 4 | pontes e lacerda\n",
      "Processing Record 26 of Set 4 | rawson\n",
      "Processing Record 27 of Set 4 | xining\n",
      "Processing Record 28 of Set 4 | karamea\n",
      "City not found. Skipping...\n",
      "Processing Record 29 of Set 4 | vostok\n",
      "Processing Record 30 of Set 4 | bay roberts\n",
      "Processing Record 31 of Set 4 | porto novo\n",
      "Processing Record 32 of Set 4 | rafsanjan\n",
      "Processing Record 33 of Set 4 | mahaicony\n",
      "City not found. Skipping...\n",
      "Processing Record 34 of Set 4 | paramonga\n"
     ]
    },
    {
     "name": "stdout",
     "output_type": "stream",
     "text": [
      "Processing Record 35 of Set 4 | pangai\n",
      "Processing Record 36 of Set 4 | asfi\n",
      "Processing Record 37 of Set 4 | shirokiy\n",
      "Processing Record 38 of Set 4 | huntingdon\n",
      "Processing Record 39 of Set 4 | phon\n",
      "Processing Record 40 of Set 4 | kadykchan\n",
      "City not found. Skipping...\n",
      "Processing Record 41 of Set 4 | el campo\n",
      "Processing Record 42 of Set 4 | nizhneyansk\n",
      "City not found. Skipping...\n",
      "Processing Record 43 of Set 4 | paraiso\n",
      "Processing Record 44 of Set 4 | guanica\n",
      "Processing Record 45 of Set 4 | ginir\n",
      "Processing Record 46 of Set 4 | chernyshevskiy\n",
      "Processing Record 47 of Set 4 | srandakan\n",
      "Processing Record 48 of Set 4 | kampot\n",
      "Processing Record 49 of Set 4 | springfield\n",
      "Processing Record 0 of Set 5 | puerto madero\n",
      "Processing Record 1 of Set 5 | mys shmidta\n",
      "City not found. Skipping...\n",
      "Processing Record 2 of Set 5 | cherskiy\n",
      "Processing Record 3 of Set 5 | sechura\n",
      "Processing Record 4 of Set 5 | swan river\n",
      "Processing Record 5 of Set 5 | flinders\n",
      "Processing Record 6 of Set 5 | lamar\n",
      "Processing Record 7 of Set 5 | ufimskiy\n",
      "Processing Record 8 of Set 5 | chimbote\n",
      "Processing Record 9 of Set 5 | nishihara\n",
      "Processing Record 10 of Set 5 | dikson\n",
      "Processing Record 11 of Set 5 | ilulissat\n",
      "Processing Record 12 of Set 5 | wajid\n",
      "Processing Record 13 of Set 5 | ruatoria\n",
      "City not found. Skipping...\n",
      "Processing Record 14 of Set 5 | monster\n",
      "Processing Record 15 of Set 5 | ust-kamchatsk\n",
      "City not found. Skipping...\n",
      "Processing Record 16 of Set 5 | whitianga\n",
      "Processing Record 17 of Set 5 | qaqortoq\n",
      "Processing Record 18 of Set 5 | lazaro cardenas\n",
      "Processing Record 19 of Set 5 | florence\n",
      "Processing Record 20 of Set 5 | champerico\n",
      "Processing Record 21 of Set 5 | salalah\n",
      "Processing Record 22 of Set 5 | hasaki\n",
      "Processing Record 23 of Set 5 | klaksvik\n",
      "Processing Record 24 of Set 5 | goldsboro\n",
      "Processing Record 25 of Set 5 | college\n",
      "Processing Record 26 of Set 5 | upata\n",
      "Processing Record 27 of Set 5 | dzilam gonzalez\n",
      "Processing Record 28 of Set 5 | mar del plata\n",
      "Processing Record 29 of Set 5 | moron\n",
      "Processing Record 30 of Set 5 | cabo san lucas\n",
      "Processing Record 31 of Set 5 | poum\n",
      "Processing Record 32 of Set 5 | danville\n",
      "Processing Record 33 of Set 5 | jinchang\n",
      "Processing Record 34 of Set 5 | whangamata\n",
      "Processing Record 35 of Set 5 | quixada\n",
      "Processing Record 36 of Set 5 | houma\n",
      "Processing Record 37 of Set 5 | kampong thum\n",
      "Processing Record 38 of Set 5 | ouro preto do oeste\n",
      "Processing Record 39 of Set 5 | rio grande\n",
      "Processing Record 40 of Set 5 | gornyye klyuchi\n",
      "Processing Record 41 of Set 5 | boyolangu\n",
      "Processing Record 42 of Set 5 | sakakah\n",
      "Processing Record 43 of Set 5 | pacific grove\n",
      "Processing Record 44 of Set 5 | north bend\n",
      "Processing Record 45 of Set 5 | marzuq\n",
      "Processing Record 46 of Set 5 | banda aceh\n",
      "Processing Record 47 of Set 5 | high level\n",
      "Processing Record 48 of Set 5 | san quintin\n",
      "Processing Record 49 of Set 5 | beyneu\n",
      "Processing Record 0 of Set 6 | toliary\n",
      "City not found. Skipping...\n",
      "Processing Record 1 of Set 6 | longyearbyen\n",
      "Processing Record 2 of Set 6 | mount gambier\n",
      "Processing Record 3 of Set 6 | longhua\n",
      "Processing Record 4 of Set 6 | san carlos de bariloche\n",
      "Processing Record 5 of Set 6 | rzhyshchiv\n",
      "Processing Record 6 of Set 6 | umzimvubu\n",
      "City not found. Skipping...\n",
      "Processing Record 7 of Set 6 | durban\n",
      "Processing Record 8 of Set 6 | baraboo\n",
      "Processing Record 9 of Set 6 | flin flon\n",
      "Processing Record 10 of Set 6 | kiruna\n",
      "Processing Record 11 of Set 6 | yishui\n",
      "Processing Record 12 of Set 6 | tumannyy\n",
      "City not found. Skipping...\n",
      "Processing Record 13 of Set 6 | yangcun\n",
      "Processing Record 14 of Set 6 | pevek\n",
      "Processing Record 15 of Set 6 | obo\n",
      "Processing Record 16 of Set 6 | yulara\n",
      "Processing Record 17 of Set 6 | lorengau\n",
      "Processing Record 18 of Set 6 | ilebo\n",
      "Processing Record 19 of Set 6 | pangnirtung\n",
      "Processing Record 20 of Set 6 | hibbing\n",
      "Processing Record 21 of Set 6 | bur gabo\n",
      "City not found. Skipping...\n",
      "Processing Record 22 of Set 6 | port hedland\n",
      "Processing Record 23 of Set 6 | reforma\n",
      "Processing Record 24 of Set 6 | avera\n",
      "Processing Record 25 of Set 6 | ostrovnoy\n",
      "Processing Record 26 of Set 6 | xichang\n",
      "Processing Record 27 of Set 6 | nanortalik\n",
      "Processing Record 28 of Set 6 | faya\n",
      "Processing Record 29 of Set 6 | diepholz\n",
      "Processing Record 30 of Set 6 | evensk\n",
      "Processing Record 31 of Set 6 | port moresby\n",
      "Processing Record 32 of Set 6 | oskemen\n",
      "Processing Record 33 of Set 6 | samalaeulu\n",
      "City not found. Skipping...\n",
      "Processing Record 34 of Set 6 | wanaka\n",
      "Processing Record 35 of Set 6 | lavrentiya\n",
      "Processing Record 36 of Set 6 | ambilobe\n",
      "Processing Record 37 of Set 6 | tambun\n",
      "Processing Record 38 of Set 6 | kasungu\n",
      "Processing Record 39 of Set 6 | formoso do araguaia\n",
      "City not found. Skipping...\n",
      "Processing Record 40 of Set 6 | marsh harbour\n",
      "Processing Record 41 of Set 6 | warqla\n",
      "City not found. Skipping...\n",
      "Processing Record 42 of Set 6 | pizarro\n",
      "Processing Record 43 of Set 6 | sistranda\n",
      "Processing Record 44 of Set 6 | nago\n",
      "Processing Record 45 of Set 6 | inhambane\n",
      "Processing Record 46 of Set 6 | beecher\n",
      "Processing Record 47 of Set 6 | lethem\n",
      "Processing Record 48 of Set 6 | saint-pierre\n",
      "Processing Record 49 of Set 6 | verkhnevilyuysk\n",
      "Processing Record 0 of Set 7 | san antonio\n",
      "Processing Record 1 of Set 7 | great yarmouth\n",
      "Processing Record 2 of Set 7 | cosala\n",
      "Processing Record 3 of Set 7 | puerto escondido\n",
      "Processing Record 4 of Set 7 | utiroa\n",
      "City not found. Skipping...\n",
      "Processing Record 5 of Set 7 | lugovoy\n",
      "Processing Record 6 of Set 7 | la palma\n",
      "Processing Record 7 of Set 7 | maragogi\n",
      "Processing Record 8 of Set 7 | nizwa\n",
      "Processing Record 9 of Set 7 | kerrobert\n",
      "Processing Record 10 of Set 7 | innisfail\n",
      "Processing Record 11 of Set 7 | comodoro rivadavia\n",
      "Processing Record 12 of Set 7 | suluq\n",
      "Processing Record 13 of Set 7 | pitkyaranta\n",
      "Processing Record 14 of Set 7 | kinkala\n",
      "Processing Record 15 of Set 7 | dingle\n",
      "Processing Record 16 of Set 7 | lundamo\n",
      "Processing Record 17 of Set 7 | sabaudia\n",
      "Processing Record 18 of Set 7 | naze\n",
      "Processing Record 19 of Set 7 | mana\n",
      "Processing Record 20 of Set 7 | necochea\n",
      "Processing Record 21 of Set 7 | tongren\n",
      "Processing Record 22 of Set 7 | wamba\n",
      "Processing Record 23 of Set 7 | port lincoln\n",
      "Processing Record 24 of Set 7 | amurzet\n",
      "Processing Record 25 of Set 7 | birin\n",
      "Processing Record 26 of Set 7 | rio gallegos\n",
      "Processing Record 27 of Set 7 | viligili\n",
      "City not found. Skipping...\n",
      "Processing Record 28 of Set 7 | sorong\n",
      "Processing Record 29 of Set 7 | husavik\n",
      "Processing Record 30 of Set 7 | santa maria\n",
      "Processing Record 31 of Set 7 | kloulklubed\n",
      "Processing Record 32 of Set 7 | larsnes\n",
      "Processing Record 33 of Set 7 | san andres\n",
      "Processing Record 34 of Set 7 | cayenne\n",
      "Processing Record 35 of Set 7 | goure\n",
      "Processing Record 36 of Set 7 | vardo\n",
      "Processing Record 37 of Set 7 | neiafu\n",
      "Processing Record 38 of Set 7 | hambantota\n",
      "Processing Record 39 of Set 7 | yumen\n",
      "Processing Record 40 of Set 7 | marawi\n",
      "Processing Record 41 of Set 7 | nguiu\n",
      "City not found. Skipping...\n",
      "Processing Record 42 of Set 7 | filadelfia\n",
      "Processing Record 43 of Set 7 | juegang\n",
      "Processing Record 44 of Set 7 | haibowan\n",
      "City not found. Skipping...\n",
      "Processing Record 45 of Set 7 | itarema\n",
      "Processing Record 46 of Set 7 | rafai\n",
      "Processing Record 47 of Set 7 | umm lajj\n",
      "Processing Record 48 of Set 7 | palmer\n",
      "Processing Record 49 of Set 7 | monrovia\n",
      "Processing Record 0 of Set 8 | najran\n",
      "Processing Record 1 of Set 8 | kudahuvadhoo\n",
      "Processing Record 2 of Set 8 | port-gentil\n",
      "Processing Record 3 of Set 8 | ust-nera\n",
      "Processing Record 4 of Set 8 | asau\n",
      "Processing Record 5 of Set 8 | piacabucu\n",
      "Processing Record 6 of Set 8 | bilma\n",
      "Processing Record 7 of Set 8 | hillsborough\n",
      "Processing Record 8 of Set 8 | meyungs\n",
      "City not found. Skipping...\n",
      "Processing Record 9 of Set 8 | enumclaw\n",
      "Processing Record 10 of Set 8 | sorvag\n",
      "City not found. Skipping...\n",
      "Processing Record 11 of Set 8 | ponta do sol\n",
      "Processing Record 12 of Set 8 | somotillo\n",
      "Processing Record 13 of Set 8 | muros\n",
      "Processing Record 14 of Set 8 | samarai\n",
      "Processing Record 15 of Set 8 | trinidad\n",
      "Processing Record 16 of Set 8 | victoria\n",
      "Processing Record 17 of Set 8 | bengkulu\n",
      "Processing Record 18 of Set 8 | sandnessjoen\n",
      "Processing Record 19 of Set 8 | itaituba\n",
      "Processing Record 20 of Set 8 | bathsheba\n",
      "Processing Record 21 of Set 8 | palabuhanratu\n"
     ]
    },
    {
     "name": "stdout",
     "output_type": "stream",
     "text": [
      "City not found. Skipping...\n",
      "Processing Record 22 of Set 8 | faanui\n",
      "Processing Record 23 of Set 8 | burhar\n",
      "Processing Record 24 of Set 8 | geraldton\n",
      "Processing Record 25 of Set 8 | sao filipe\n",
      "Processing Record 26 of Set 8 | jackson\n",
      "Processing Record 27 of Set 8 | xochistlahuaca\n",
      "Processing Record 28 of Set 8 | carutapera\n",
      "Processing Record 29 of Set 8 | vila velha\n",
      "Processing Record 30 of Set 8 | wangou\n",
      "Processing Record 31 of Set 8 | sitka\n",
      "Processing Record 32 of Set 8 | mitsamiouli\n",
      "Processing Record 33 of Set 8 | tarakan\n",
      "Processing Record 34 of Set 8 | mecca\n",
      "Processing Record 35 of Set 8 | fare\n",
      "Processing Record 36 of Set 8 | inirida\n",
      "Processing Record 37 of Set 8 | margate\n",
      "Processing Record 38 of Set 8 | mananara\n",
      "Processing Record 39 of Set 8 | kara-tyube\n",
      "Processing Record 40 of Set 8 | raudeberg\n",
      "Processing Record 41 of Set 8 | oranjemund\n",
      "Processing Record 42 of Set 8 | bubaque\n",
      "Processing Record 43 of Set 8 | aksarka\n",
      "Processing Record 44 of Set 8 | rundu\n",
      "Processing Record 45 of Set 8 | krasnoye\n",
      "Processing Record 46 of Set 8 | paamiut\n",
      "Processing Record 47 of Set 8 | chichica\n",
      "Processing Record 48 of Set 8 | la ronge\n",
      "Processing Record 49 of Set 8 | kodinar\n",
      "Processing Record 0 of Set 9 | nirgua\n",
      "Processing Record 1 of Set 9 | ikongo\n",
      "Processing Record 2 of Set 9 | devonport\n",
      "Processing Record 3 of Set 9 | lasa\n",
      "Processing Record 4 of Set 9 | adrar\n",
      "Processing Record 5 of Set 9 | vestmannaeyjar\n",
      "Processing Record 6 of Set 9 | ossora\n",
      "Processing Record 7 of Set 9 | lolua\n",
      "City not found. Skipping...\n",
      "Processing Record 8 of Set 9 | makakilo city\n",
      "Processing Record 9 of Set 9 | tukrah\n",
      "Processing Record 10 of Set 9 | raton\n",
      "Processing Record 11 of Set 9 | norrkoping\n",
      "Processing Record 12 of Set 9 | neuquen\n",
      "Processing Record 13 of Set 9 | murmashi\n",
      "Processing Record 14 of Set 9 | deer lake\n",
      "Processing Record 15 of Set 9 | aligudarz\n",
      "Processing Record 16 of Set 9 | wewak\n",
      "Processing Record 17 of Set 9 | makat\n",
      "Processing Record 18 of Set 9 | shenjiamen\n",
      "Processing Record 19 of Set 9 | tura\n",
      "Processing Record 20 of Set 9 | yerbogachen\n",
      "Processing Record 21 of Set 9 | tecoanapa\n",
      "Processing Record 22 of Set 9 | davidson\n",
      "Processing Record 23 of Set 9 | sisimiut\n",
      "Processing Record 24 of Set 9 | kapoeta\n",
      "Processing Record 25 of Set 9 | mutsamudu\n",
      "City not found. Skipping...\n",
      "Processing Record 26 of Set 9 | sinnamary\n",
      "Processing Record 27 of Set 9 | vestmanna\n",
      "Processing Record 28 of Set 9 | namibe\n",
      "Processing Record 29 of Set 9 | tariba\n",
      "Processing Record 30 of Set 9 | kidal\n",
      "Processing Record 31 of Set 9 | gayny\n",
      "Processing Record 32 of Set 9 | weiser\n",
      "Processing Record 33 of Set 9 | celestun\n",
      "Processing Record 34 of Set 9 | zemio\n",
      "Processing Record 35 of Set 9 | hobyo\n",
      "Processing Record 36 of Set 9 | abashiri\n",
      "Processing Record 37 of Set 9 | esperance\n",
      "Processing Record 38 of Set 9 | linhares\n",
      "Processing Record 39 of Set 9 | zhezkazgan\n",
      "Processing Record 40 of Set 9 | tucurui\n",
      "Processing Record 41 of Set 9 | ronne\n",
      "Processing Record 42 of Set 9 | lapua\n",
      "Processing Record 43 of Set 9 | sangar\n",
      "Processing Record 44 of Set 9 | mariental\n",
      "Processing Record 45 of Set 9 | kruisfontein\n",
      "Processing Record 46 of Set 9 | ambulu\n",
      "Processing Record 47 of Set 9 | bani\n",
      "Processing Record 48 of Set 9 | chapais\n",
      "Processing Record 49 of Set 9 | tazovskiy\n",
      "Processing Record 0 of Set 10 | nizhniy tsasuchey\n",
      "Processing Record 1 of Set 10 | hualmay\n",
      "Processing Record 2 of Set 10 | cururupu\n",
      "Processing Record 3 of Set 10 | gilleleje\n",
      "Processing Record 4 of Set 10 | surt\n",
      "Processing Record 5 of Set 10 | cidreira\n",
      "Processing Record 6 of Set 10 | zongolica\n",
      "Processing Record 7 of Set 10 | alice springs\n",
      "Processing Record 8 of Set 10 | bradford\n",
      "Processing Record 9 of Set 10 | hami\n",
      "Processing Record 10 of Set 10 | homer\n",
      "Processing Record 11 of Set 10 | kaitangata\n",
      "Processing Record 12 of Set 10 | konevo\n",
      "Processing Record 13 of Set 10 | hauterive\n",
      "Processing Record 14 of Set 10 | eyl\n",
      "Processing Record 15 of Set 10 | tual\n",
      "Processing Record 16 of Set 10 | ben tre\n",
      "Processing Record 17 of Set 10 | bonthe\n",
      "Processing Record 18 of Set 10 | amapa\n",
      "Processing Record 19 of Set 10 | madison\n",
      "Processing Record 20 of Set 10 | waipawa\n",
      "Processing Record 21 of Set 10 | pakxan\n",
      "Processing Record 22 of Set 10 | jiuquan\n",
      "Processing Record 23 of Set 10 | baiyin\n",
      "Processing Record 24 of Set 10 | nibong tebal\n",
      "Processing Record 25 of Set 10 | belaya kholunitsa\n",
      "Processing Record 26 of Set 10 | tiglawigan\n",
      "City not found. Skipping...\n",
      "Processing Record 27 of Set 10 | samusu\n",
      "City not found. Skipping...\n",
      "Processing Record 28 of Set 10 | turochak\n",
      "Processing Record 29 of Set 10 | tanout\n",
      "Processing Record 30 of Set 10 | mattawa\n",
      "Processing Record 31 of Set 10 | novikovo\n",
      "Processing Record 32 of Set 10 | kiunga\n",
      "Processing Record 33 of Set 10 | moyale\n",
      "Processing Record 34 of Set 10 | port keats\n",
      "Processing Record 35 of Set 10 | matiri\n",
      "Processing Record 36 of Set 10 | djibo\n",
      "Processing Record 37 of Set 10 | svetlaya\n",
      "Processing Record 38 of Set 10 | price\n",
      "Processing Record 39 of Set 10 | sola\n",
      "Processing Record 40 of Set 10 | chunoyar\n",
      "Processing Record 41 of Set 10 | cortez\n",
      "Processing Record 42 of Set 10 | jabiru\n",
      "City not found. Skipping...\n",
      "Processing Record 43 of Set 10 | porto empedocle\n",
      "Processing Record 44 of Set 10 | upernavik\n",
      "Processing Record 45 of Set 10 | padang\n",
      "Processing Record 46 of Set 10 | stawell\n",
      "Processing Record 47 of Set 10 | port hardy\n",
      "Processing Record 48 of Set 10 | touros\n",
      "Processing Record 49 of Set 10 | pasinler\n",
      "Processing Record 0 of Set 11 | berlevag\n",
      "Processing Record 1 of Set 11 | cairns\n",
      "Processing Record 2 of Set 11 | biak\n",
      "Processing Record 3 of Set 11 | kashan\n",
      "Processing Record 4 of Set 11 | bataipora\n",
      "Processing Record 5 of Set 11 | rocha\n",
      "Processing Record 6 of Set 11 | zachagansk\n",
      "City not found. Skipping...\n",
      "Processing Record 7 of Set 11 | dryden\n",
      "Processing Record 8 of Set 11 | sawakin\n",
      "Processing Record 9 of Set 11 | vatutinki\n",
      "Processing Record 10 of Set 11 | sylvan lake\n",
      "Processing Record 11 of Set 11 | nam tha\n",
      "City not found. Skipping...\n",
      "Processing Record 12 of Set 11 | torrelavega\n",
      "Processing Record 13 of Set 11 | ramganj\n",
      "Processing Record 14 of Set 11 | mendi\n",
      "Processing Record 15 of Set 11 | bilibino\n",
      "Processing Record 16 of Set 11 | hutchinson\n",
      "Processing Record 17 of Set 11 | port blair\n",
      "Processing Record 18 of Set 11 | talnakh\n",
      "Processing Record 19 of Set 11 | nouadhibou\n",
      "Processing Record 20 of Set 11 | grand river south east\n",
      "City not found. Skipping...\n",
      "Processing Record 21 of Set 11 | san ramon\n",
      "Processing Record 22 of Set 11 | yanam\n",
      "Processing Record 23 of Set 11 | atar\n",
      "Processing Record 24 of Set 11 | bokoro\n",
      "Processing Record 25 of Set 11 | lyuban\n",
      "Processing Record 26 of Set 11 | syumsi\n",
      "Processing Record 27 of Set 11 | verkhnyaya inta\n",
      "Processing Record 28 of Set 11 | cam ranh\n",
      "Processing Record 29 of Set 11 | dawson creek\n",
      "Processing Record 30 of Set 11 | matou\n",
      "Processing Record 31 of Set 11 | miraflores\n",
      "Processing Record 32 of Set 11 | kitgum\n",
      "Processing Record 33 of Set 11 | linfen\n",
      "Processing Record 34 of Set 11 | achinsk\n",
      "Processing Record 35 of Set 11 | kirovsk\n",
      "Processing Record 36 of Set 11 | maumere\n",
      "Processing Record 37 of Set 11 | luzhou\n",
      "Processing Record 38 of Set 11 | port macquarie\n",
      "Processing Record 39 of Set 11 | meulaboh\n",
      "Processing Record 40 of Set 11 | tucuma\n",
      "Processing Record 41 of Set 11 | pavino\n",
      "Processing Record 42 of Set 11 | skibbereen\n",
      "Processing Record 43 of Set 11 | tromso\n",
      "Processing Record 44 of Set 11 | nanton\n",
      "Processing Record 45 of Set 11 | bara\n",
      "Processing Record 46 of Set 11 | ban tak\n",
      "Processing Record 47 of Set 11 | bereda\n",
      "Processing Record 48 of Set 11 | dukat\n",
      "Processing Record 49 of Set 11 | clovis\n",
      "Processing Record 0 of Set 12 | sao jose da coroa grande\n",
      "Processing Record 1 of Set 12 | kenai\n",
      "Processing Record 2 of Set 12 | halifax\n",
      "Processing Record 3 of Set 12 | puerto madryn\n",
      "Processing Record 4 of Set 12 | marsaxlokk\n",
      "Processing Record 5 of Set 12 | morondava\n",
      "Processing Record 6 of Set 12 | stranraer\n",
      "Processing Record 7 of Set 12 | hendijan\n",
      "City not found. Skipping...\n",
      "Processing Record 8 of Set 12 | richards bay\n",
      "Processing Record 9 of Set 12 | yunjinghong\n",
      "City not found. Skipping...\n",
      "Processing Record 10 of Set 12 | atherton\n",
      "Processing Record 11 of Set 12 | kermanshah\n",
      "Processing Record 12 of Set 12 | roald\n",
      "Processing Record 13 of Set 12 | alamogordo\n"
     ]
    },
    {
     "name": "stdout",
     "output_type": "stream",
     "text": [
      "Processing Record 14 of Set 12 | eureka\n",
      "Processing Record 15 of Set 12 | tessalit\n",
      "Processing Record 16 of Set 12 | kurilsk\n",
      "Processing Record 17 of Set 12 | murray bridge\n",
      "Processing Record 18 of Set 12 | westport\n",
      "Processing Record 19 of Set 12 | shahr-e babak\n",
      "Processing Record 20 of Set 12 | yaan\n",
      "Processing Record 21 of Set 12 | beringovskiy\n",
      "Processing Record 22 of Set 12 | stephenville\n",
      "Processing Record 23 of Set 12 | port augusta\n",
      "Processing Record 24 of Set 12 | komsomolskiy\n",
      "Processing Record 25 of Set 12 | poshekhonye\n",
      "Processing Record 26 of Set 12 | ust-tsilma\n",
      "Processing Record 27 of Set 12 | lata\n",
      "Processing Record 28 of Set 12 | doembang nangbuat\n",
      "Processing Record 29 of Set 12 | atka\n",
      "City not found. Skipping...\n",
      "Processing Record 30 of Set 12 | barbar\n",
      "City not found. Skipping...\n",
      "Processing Record 31 of Set 12 | baruun-urt\n",
      "Processing Record 32 of Set 12 | aykhal\n",
      "Processing Record 33 of Set 12 | invermere\n",
      "Processing Record 34 of Set 12 | manaure\n",
      "Processing Record 35 of Set 12 | zhanaozen\n",
      "Processing Record 36 of Set 12 | camana\n",
      "Processing Record 37 of Set 12 | the valley\n",
      "Processing Record 38 of Set 12 | brodnica\n",
      "Processing Record 39 of Set 12 | nexo\n",
      "Processing Record 40 of Set 12 | muroto\n",
      "Processing Record 41 of Set 12 | reyes\n",
      "Processing Record 42 of Set 12 | sur\n",
      "Processing Record 43 of Set 12 | ngunguru\n",
      "Processing Record 44 of Set 12 | portree\n",
      "Processing Record 45 of Set 12 | charters towers\n",
      "Processing Record 46 of Set 12 | tupaciguara\n",
      "Processing Record 47 of Set 12 | amparafaravola\n",
      "Processing Record 48 of Set 12 | san jose\n",
      "Processing Record 49 of Set 12 | suba\n",
      "Processing Record 0 of Set 13 | west bay\n",
      "Processing Record 1 of Set 13 | maloy\n",
      "Processing Record 2 of Set 13 | gostilitsy\n",
      "Processing Record 3 of Set 13 | saint-louis\n",
      "Processing Record 4 of Set 13 | erdenet\n",
      "Processing Record 5 of Set 13 | peleduy\n",
      "Processing Record 6 of Set 13 | loviisa\n",
      "Processing Record 7 of Set 13 | peterhead\n",
      "Processing Record 8 of Set 13 | moose factory\n",
      "Processing Record 9 of Set 13 | paita\n",
      "Processing Record 10 of Set 13 | cap malheureux\n",
      "Processing Record 11 of Set 13 | cascais\n",
      "Processing Record 12 of Set 13 | alofi\n",
      "Processing Record 13 of Set 13 | ulaangom\n",
      "Processing Record 14 of Set 13 | gaogou\n",
      "Processing Record 15 of Set 13 | tornio\n",
      "Processing Record 16 of Set 13 | grand gaube\n",
      "Processing Record 17 of Set 13 | abu samrah\n",
      "Processing Record 18 of Set 13 | broken hill\n",
      "Processing Record 19 of Set 13 | susanville\n",
      "Processing Record 20 of Set 13 | karasjok\n",
      "-----------------------------\n",
      "Data Retrieval Complete      \n",
      "-----------------------------\n"
     ]
    }
   ],
   "source": [
    "# Set the API base URL\n",
    "url = f\"https://api.openweathermap.org/data/2.5/weather?appid={weather_api_key}\"\n",
    "\n",
    "# Define an empty list to fetch the weather data for each city\n",
    "city_data = []\n",
    "\n",
    "# Print to logger\n",
    "print(\"Beginning Data Retrieval     \")\n",
    "print(\"-----------------------------\")\n",
    "\n",
    "# Create counters\n",
    "record_count = 1\n",
    "set_count = 1\n",
    "\n",
    "# Loop through all the cities in our list to fetch weather data\n",
    "for i, city in enumerate(cities):\n",
    "        \n",
    "    # Group cities in sets of 50 for logging purposes\n",
    "    if (i % 50 == 0 and i >= 50):\n",
    "        set_count += 1\n",
    "        record_count = 0\n",
    "\n",
    "    # Create endpoint URL with each city\n",
    "    city_url = f\"{url}&q={city}\"\n",
    "\n",
    "\n",
    "    # Log the url, record, and set numbers\n",
    "    print(\"Processing Record %s of Set %s | %s\" % (record_count, set_count, city))\n",
    "\n",
    "    # Add 1 to the record count\n",
    "    record_count += 1\n",
    "\n",
    "    # Run an API request for each of the cities\n",
    "    try:\n",
    "        # Parse the JSON and retrieve data\n",
    "        city_weather = requests.get(city_url).json()# YOUR CODE HERE\n",
    "\n",
    "        # Parse out latitude, longitude, max temp, humidity, cloudiness, wind speed, country, and date\n",
    "        city_lat = city_weather['coord']['lat']# YOUR CODE HERE\n",
    "        city_lng = city_weather['coord']['lon']# YOUR CODE HERE\n",
    "        city_max_temp = city_weather['main']['temp_max']# YOUR CODE HERE\n",
    "        city_humidity = city_weather['main']['humidity']# YOUR CODE HERE\n",
    "        city_clouds = city_weather['clouds']['all'] # YOUR CODE HERE\n",
    "        city_wind =city_weather['wind']['speed'] # YOUR CODE HERE\n",
    "        city_country = city_weather['sys']['country']# YOUR CODE HERE\n",
    "        city_date = city_weather['dt']# YOUR CODE HERE\n",
    "\n",
    "        # Append the City information into city_data list\n",
    "        city_data.append({\"City\": city, \n",
    "                          \"Lat\": city_lat, \n",
    "                          \"Lng\": city_lng, \n",
    "                          \"Max Temp\": city_max_temp,\n",
    "                          \"Humidity\": city_humidity,\n",
    "                          \"Cloudiness\": city_clouds,\n",
    "                          \"Wind Speed\": city_wind,\n",
    "                          \"Country\": city_country,\n",
    "                          \"Date\": city_date})\n",
    "\n",
    "    # If an error is experienced, skip the city\n",
    "    except:\n",
    "        print(\"City not found. Skipping...\")\n",
    "        pass\n",
    "              \n",
    "# Indicate that Data Loading is complete \n",
    "print(\"-----------------------------\")\n",
    "print(\"Data Retrieval Complete      \")\n",
    "print(\"-----------------------------\")"
   ]
  },
  {
   "cell_type": "code",
   "execution_count": 5,
   "metadata": {},
   "outputs": [
    {
     "data": {
      "text/plain": [
       "City          573\n",
       "Lat           573\n",
       "Lng           573\n",
       "Max Temp      573\n",
       "Humidity      573\n",
       "Cloudiness    573\n",
       "Wind Speed    573\n",
       "Country       573\n",
       "Date          573\n",
       "dtype: int64"
      ]
     },
     "execution_count": 5,
     "metadata": {},
     "output_type": "execute_result"
    }
   ],
   "source": [
    "# Convert the cities weather data into a Pandas DataFrame\n",
    "city_data_df = pd.DataFrame.from_dict(city_data)\n",
    "# Show Record Count\n",
    "city_data_df.count()"
   ]
  },
  {
   "cell_type": "code",
   "execution_count": 6,
   "metadata": {},
   "outputs": [
    {
     "data": {
      "text/html": [
       "<div>\n",
       "<style scoped>\n",
       "    .dataframe tbody tr th:only-of-type {\n",
       "        vertical-align: middle;\n",
       "    }\n",
       "\n",
       "    .dataframe tbody tr th {\n",
       "        vertical-align: top;\n",
       "    }\n",
       "\n",
       "    .dataframe thead th {\n",
       "        text-align: right;\n",
       "    }\n",
       "</style>\n",
       "<table border=\"1\" class=\"dataframe\">\n",
       "  <thead>\n",
       "    <tr style=\"text-align: right;\">\n",
       "      <th></th>\n",
       "      <th>City</th>\n",
       "      <th>Lat</th>\n",
       "      <th>Lng</th>\n",
       "      <th>Max Temp</th>\n",
       "      <th>Humidity</th>\n",
       "      <th>Cloudiness</th>\n",
       "      <th>Wind Speed</th>\n",
       "      <th>Country</th>\n",
       "      <th>Date</th>\n",
       "    </tr>\n",
       "  </thead>\n",
       "  <tbody>\n",
       "    <tr>\n",
       "      <th>0</th>\n",
       "      <td>simbahan</td>\n",
       "      <td>6.3032</td>\n",
       "      <td>120.5836</td>\n",
       "      <td>301.38</td>\n",
       "      <td>74</td>\n",
       "      <td>88</td>\n",
       "      <td>1.78</td>\n",
       "      <td>PH</td>\n",
       "      <td>1669998008</td>\n",
       "    </tr>\n",
       "    <tr>\n",
       "      <th>1</th>\n",
       "      <td>marpod</td>\n",
       "      <td>45.8714</td>\n",
       "      <td>24.4965</td>\n",
       "      <td>277.25</td>\n",
       "      <td>83</td>\n",
       "      <td>80</td>\n",
       "      <td>0.90</td>\n",
       "      <td>RO</td>\n",
       "      <td>1669998009</td>\n",
       "    </tr>\n",
       "    <tr>\n",
       "      <th>2</th>\n",
       "      <td>camacha</td>\n",
       "      <td>33.0833</td>\n",
       "      <td>-16.3333</td>\n",
       "      <td>290.83</td>\n",
       "      <td>68</td>\n",
       "      <td>75</td>\n",
       "      <td>8.75</td>\n",
       "      <td>PT</td>\n",
       "      <td>1669998009</td>\n",
       "    </tr>\n",
       "    <tr>\n",
       "      <th>3</th>\n",
       "      <td>gazojak</td>\n",
       "      <td>41.1875</td>\n",
       "      <td>61.4036</td>\n",
       "      <td>270.97</td>\n",
       "      <td>28</td>\n",
       "      <td>0</td>\n",
       "      <td>3.75</td>\n",
       "      <td>TM</td>\n",
       "      <td>1669998010</td>\n",
       "    </tr>\n",
       "    <tr>\n",
       "      <th>4</th>\n",
       "      <td>vaini</td>\n",
       "      <td>-21.2000</td>\n",
       "      <td>-175.2000</td>\n",
       "      <td>296.24</td>\n",
       "      <td>94</td>\n",
       "      <td>20</td>\n",
       "      <td>0.00</td>\n",
       "      <td>TO</td>\n",
       "      <td>1669998010</td>\n",
       "    </tr>\n",
       "  </tbody>\n",
       "</table>\n",
       "</div>"
      ],
      "text/plain": [
       "       City      Lat       Lng  Max Temp  Humidity  Cloudiness  Wind Speed  \\\n",
       "0  simbahan   6.3032  120.5836    301.38        74          88        1.78   \n",
       "1    marpod  45.8714   24.4965    277.25        83          80        0.90   \n",
       "2   camacha  33.0833  -16.3333    290.83        68          75        8.75   \n",
       "3   gazojak  41.1875   61.4036    270.97        28           0        3.75   \n",
       "4     vaini -21.2000 -175.2000    296.24        94          20        0.00   \n",
       "\n",
       "  Country        Date  \n",
       "0      PH  1669998008  \n",
       "1      RO  1669998009  \n",
       "2      PT  1669998009  \n",
       "3      TM  1669998010  \n",
       "4      TO  1669998010  "
      ]
     },
     "execution_count": 6,
     "metadata": {},
     "output_type": "execute_result"
    }
   ],
   "source": [
    "city_data_df.head()"
   ]
  },
  {
   "cell_type": "code",
   "execution_count": 7,
   "metadata": {},
   "outputs": [],
   "source": [
    "# Export the City_Data into a csv\n",
    "city_data_df.to_csv(\"output_data/cities.csv\", index_label=\"City_ID\")"
   ]
  },
  {
   "cell_type": "code",
   "execution_count": 8,
   "metadata": {},
   "outputs": [
    {
     "data": {
      "text/html": [
       "<div>\n",
       "<style scoped>\n",
       "    .dataframe tbody tr th:only-of-type {\n",
       "        vertical-align: middle;\n",
       "    }\n",
       "\n",
       "    .dataframe tbody tr th {\n",
       "        vertical-align: top;\n",
       "    }\n",
       "\n",
       "    .dataframe thead th {\n",
       "        text-align: right;\n",
       "    }\n",
       "</style>\n",
       "<table border=\"1\" class=\"dataframe\">\n",
       "  <thead>\n",
       "    <tr style=\"text-align: right;\">\n",
       "      <th></th>\n",
       "      <th>City</th>\n",
       "      <th>Lat</th>\n",
       "      <th>Lng</th>\n",
       "      <th>Max Temp</th>\n",
       "      <th>Humidity</th>\n",
       "      <th>Cloudiness</th>\n",
       "      <th>Wind Speed</th>\n",
       "      <th>Country</th>\n",
       "      <th>Date</th>\n",
       "    </tr>\n",
       "    <tr>\n",
       "      <th>City_ID</th>\n",
       "      <th></th>\n",
       "      <th></th>\n",
       "      <th></th>\n",
       "      <th></th>\n",
       "      <th></th>\n",
       "      <th></th>\n",
       "      <th></th>\n",
       "      <th></th>\n",
       "      <th></th>\n",
       "    </tr>\n",
       "  </thead>\n",
       "  <tbody>\n",
       "    <tr>\n",
       "      <th>0</th>\n",
       "      <td>simbahan</td>\n",
       "      <td>6.3032</td>\n",
       "      <td>120.5836</td>\n",
       "      <td>301.38</td>\n",
       "      <td>74</td>\n",
       "      <td>88</td>\n",
       "      <td>1.78</td>\n",
       "      <td>PH</td>\n",
       "      <td>1669998008</td>\n",
       "    </tr>\n",
       "    <tr>\n",
       "      <th>1</th>\n",
       "      <td>marpod</td>\n",
       "      <td>45.8714</td>\n",
       "      <td>24.4965</td>\n",
       "      <td>277.25</td>\n",
       "      <td>83</td>\n",
       "      <td>80</td>\n",
       "      <td>0.90</td>\n",
       "      <td>RO</td>\n",
       "      <td>1669998009</td>\n",
       "    </tr>\n",
       "    <tr>\n",
       "      <th>2</th>\n",
       "      <td>camacha</td>\n",
       "      <td>33.0833</td>\n",
       "      <td>-16.3333</td>\n",
       "      <td>290.83</td>\n",
       "      <td>68</td>\n",
       "      <td>75</td>\n",
       "      <td>8.75</td>\n",
       "      <td>PT</td>\n",
       "      <td>1669998009</td>\n",
       "    </tr>\n",
       "    <tr>\n",
       "      <th>3</th>\n",
       "      <td>gazojak</td>\n",
       "      <td>41.1875</td>\n",
       "      <td>61.4036</td>\n",
       "      <td>270.97</td>\n",
       "      <td>28</td>\n",
       "      <td>0</td>\n",
       "      <td>3.75</td>\n",
       "      <td>TM</td>\n",
       "      <td>1669998010</td>\n",
       "    </tr>\n",
       "    <tr>\n",
       "      <th>4</th>\n",
       "      <td>vaini</td>\n",
       "      <td>-21.2000</td>\n",
       "      <td>-175.2000</td>\n",
       "      <td>296.24</td>\n",
       "      <td>94</td>\n",
       "      <td>20</td>\n",
       "      <td>0.00</td>\n",
       "      <td>TO</td>\n",
       "      <td>1669998010</td>\n",
       "    </tr>\n",
       "  </tbody>\n",
       "</table>\n",
       "</div>"
      ],
      "text/plain": [
       "             City      Lat       Lng  Max Temp  Humidity  Cloudiness  \\\n",
       "City_ID                                                                \n",
       "0        simbahan   6.3032  120.5836    301.38        74          88   \n",
       "1          marpod  45.8714   24.4965    277.25        83          80   \n",
       "2         camacha  33.0833  -16.3333    290.83        68          75   \n",
       "3         gazojak  41.1875   61.4036    270.97        28           0   \n",
       "4           vaini -21.2000 -175.2000    296.24        94          20   \n",
       "\n",
       "         Wind Speed Country        Date  \n",
       "City_ID                                  \n",
       "0              1.78      PH  1669998008  \n",
       "1              0.90      RO  1669998009  \n",
       "2              8.75      PT  1669998009  \n",
       "3              3.75      TM  1669998010  \n",
       "4              0.00      TO  1669998010  "
      ]
     },
     "execution_count": 8,
     "metadata": {},
     "output_type": "execute_result"
    }
   ],
   "source": [
    "# Read saved data\n",
    "city_data_df = pd.read_csv(\"output_data/cities.csv\", index_col=\"City_ID\")\n",
    "\n",
    "# Display sample data\n",
    "city_data_df.head()"
   ]
  },
  {
   "cell_type": "markdown",
   "metadata": {},
   "source": [
    "### Create the Scatter Plots Requested\n",
    "\n",
    "#### Latitude Vs. Temperature"
   ]
  },
  {
   "cell_type": "code",
   "execution_count": 9,
   "metadata": {
    "tags": []
   },
   "outputs": [
    {
     "data": {
      "image/png": "[encoded data removed]",
      "text/plain": [
       "<Figure size 432x288 with 1 Axes>"
      ]
     },
     "metadata": {
      "needs_background": "light"
     },
     "output_type": "display_data"
    }
   ],
   "source": [
    "# Build scatter plot for latitude vs. temperature\n",
    "\n",
    "\n",
    "# Incorporate the other graph properties\n",
    "# YOUR CODE HERE\n",
    "plt.figure(figsize=(6, 4))\n",
    "plt.scatter(city_data_df['Lat'],city_data_df['Max Temp'], marker=\"o\", facecolors=\"blue\", edgecolors=\"black\", alpha=0.75 )\n",
    "plt.grid()\n",
    "# Incorporate the other graph properties\n",
    "# YOUR CODE HERE\n",
    "\n",
    "plt.xlabel('latitute')\n",
    "plt.ylabel('Max Temperature (C)')\n",
    "plt.title('City Latitute vs. Max Temperature (2022-10-18)')\n",
    "# Save the figure\n",
    "plt.savefig(\"output_data/Fig1.png\")\n",
    "\n",
    "# Show plot\n",
    "plt.show()"
   ]
  },
  {
   "cell_type": "markdown",
   "metadata": {},
   "source": [
    "#### Latitude Vs. Humidity"
   ]
  },
  {
   "cell_type": "code",
   "execution_count": 10,
   "metadata": {},
   "outputs": [
    {
     "data": {
      "image/png": "[encoded data removed]",
      "text/plain": [
       "<Figure size 432x288 with 1 Axes>"
      ]
     },
     "metadata": {
      "needs_background": "light"
     },
     "output_type": "display_data"
    }
   ],
   "source": [
    "# Build the scatter plots for latitude vs. humidity\n",
    "# YOUR CODE HERE\n",
    "plt.scatter(city_data_df['Lat'],city_data_df['Humidity'], marker=\"o\", facecolors=\"blue\", edgecolors=\"black\" )\n",
    "plt.grid()\n",
    "# Incorporate the other graph properties\n",
    "# YOUR CODE HERE\n",
    "plt.xlabel('latitute')\n",
    "plt.ylabel('humidity (%)')\n",
    "plt.title('City Latitute vs. Humidity (2022-10-18)')\n",
    "# Save the figure\n",
    "plt.savefig(\"output_data/Fig2.png\")\n",
    "\n",
    "# Show plot\n",
    "plt.show()"
   ]
  },
  {
   "cell_type": "markdown",
   "metadata": {},
   "source": [
    "#### Latitude Vs. Cloudiness"
   ]
  },
  {
   "cell_type": "code",
   "execution_count": 11,
   "metadata": {},
   "outputs": [
    {
     "data": {
      "image/png": "[encoded data removed]",
      "text/plain": [
       "<Figure size 432x288 with 1 Axes>"
      ]
     },
     "metadata": {
      "needs_background": "light"
     },
     "output_type": "display_data"
    }
   ],
   "source": [
    "# Build the scatter plots for latitude vs. cloudiness\n",
    "# YOUR CODE HERE\n",
    "plt.scatter(city_data_df['Lat'],city_data_df['Cloudiness'], marker=\"o\", facecolors=\"blue\", edgecolors=\"black\" )\n",
    "plt.grid()\n",
    "plt.xlabel('latitute')\n",
    "plt.ylabel('Cloudiness (%)')\n",
    "plt.title('City Latitute vs. Cloudiness (2022-10-18)')\n",
    "# Incorporate the other graph properties\n",
    "# YOUR CODE HERE\n",
    "\n",
    "# Save the figure\n",
    "plt.savefig(\"output_data/Fig3.png\")\n",
    "\n",
    "# Show plot\n",
    "plt.show()"
   ]
  },
  {
   "cell_type": "markdown",
   "metadata": {},
   "source": [
    "#### Latitude vs. Wind Speed Plot"
   ]
  },
  {
   "cell_type": "code",
   "execution_count": 12,
   "metadata": {},
   "outputs": [
    {
     "data": {
      "image/png": "[encoded data removed]",
      "text/plain": [
       "<Figure size 432x288 with 1 Axes>"
      ]
     },
     "metadata": {
      "needs_background": "light"
     },
     "output_type": "display_data"
    }
   ],
   "source": [
    "# Build the scatter plots for latitude vs. wind speed\n",
    "# YOUR CODE HERE\n",
    "plt.scatter(city_data_df['Lat'],city_data_df['Wind Speed'], marker=\"o\", facecolors=\"blue\", edgecolors=\"black\" )\n",
    "plt.grid()\n",
    "plt.xlabel('latitute')\n",
    "plt.ylabel('Wind Speed (m/s)')\n",
    "plt.title('City Latitute vs. Wind Speed (2022-10-18)')\n",
    "\n",
    "# Incorporate the other graph properties\n",
    "# YOUR CODE HERE\n",
    "\n",
    "# Save the figure\n",
    "plt.savefig(\"output_data/Fig4.png\")\n",
    "\n",
    "# Show plot\n",
    "plt.show()"
   ]
  },
  {
   "cell_type": "markdown",
   "metadata": {},
   "source": [
    "---\n",
    "\n",
    "## Requirement 2: Compute Linear Regression for Each Relationship\n"
   ]
  },
  {
   "cell_type": "code",
   "execution_count": null,
   "metadata": {},
   "outputs": [],
   "source": []
  },
  {
   "cell_type": "code",
   "execution_count": 13,
   "metadata": {},
   "outputs": [
    {
     "data": {
      "text/html": [
       "<div>\n",
       "<style scoped>\n",
       "    .dataframe tbody tr th:only-of-type {\n",
       "        vertical-align: middle;\n",
       "    }\n",
       "\n",
       "    .dataframe tbody tr th {\n",
       "        vertical-align: top;\n",
       "    }\n",
       "\n",
       "    .dataframe thead th {\n",
       "        text-align: right;\n",
       "    }\n",
       "</style>\n",
       "<table border=\"1\" class=\"dataframe\">\n",
       "  <thead>\n",
       "    <tr style=\"text-align: right;\">\n",
       "      <th></th>\n",
       "      <th>City</th>\n",
       "      <th>Lat</th>\n",
       "      <th>Lng</th>\n",
       "      <th>Max Temp</th>\n",
       "      <th>Humidity</th>\n",
       "      <th>Cloudiness</th>\n",
       "      <th>Wind Speed</th>\n",
       "      <th>Country</th>\n",
       "      <th>Date</th>\n",
       "    </tr>\n",
       "  </thead>\n",
       "  <tbody>\n",
       "    <tr>\n",
       "      <th>0</th>\n",
       "      <td>simbahan</td>\n",
       "      <td>6.3032</td>\n",
       "      <td>120.5836</td>\n",
       "      <td>301.38</td>\n",
       "      <td>74</td>\n",
       "      <td>88</td>\n",
       "      <td>1.78</td>\n",
       "      <td>PH</td>\n",
       "      <td>1669998008</td>\n",
       "    </tr>\n",
       "    <tr>\n",
       "      <th>1</th>\n",
       "      <td>marpod</td>\n",
       "      <td>45.8714</td>\n",
       "      <td>24.4965</td>\n",
       "      <td>277.25</td>\n",
       "      <td>83</td>\n",
       "      <td>80</td>\n",
       "      <td>0.90</td>\n",
       "      <td>RO</td>\n",
       "      <td>1669998009</td>\n",
       "    </tr>\n",
       "    <tr>\n",
       "      <th>2</th>\n",
       "      <td>camacha</td>\n",
       "      <td>33.0833</td>\n",
       "      <td>-16.3333</td>\n",
       "      <td>290.83</td>\n",
       "      <td>68</td>\n",
       "      <td>75</td>\n",
       "      <td>8.75</td>\n",
       "      <td>PT</td>\n",
       "      <td>1669998009</td>\n",
       "    </tr>\n",
       "    <tr>\n",
       "      <th>3</th>\n",
       "      <td>gazojak</td>\n",
       "      <td>41.1875</td>\n",
       "      <td>61.4036</td>\n",
       "      <td>270.97</td>\n",
       "      <td>28</td>\n",
       "      <td>0</td>\n",
       "      <td>3.75</td>\n",
       "      <td>TM</td>\n",
       "      <td>1669998010</td>\n",
       "    </tr>\n",
       "    <tr>\n",
       "      <th>4</th>\n",
       "      <td>santa rosa</td>\n",
       "      <td>14.3122</td>\n",
       "      <td>121.1114</td>\n",
       "      <td>301.14</td>\n",
       "      <td>81</td>\n",
       "      <td>90</td>\n",
       "      <td>4.72</td>\n",
       "      <td>PH</td>\n",
       "      <td>1669997464</td>\n",
       "    </tr>\n",
       "  </tbody>\n",
       "</table>\n",
       "</div>"
      ],
      "text/plain": [
       "         City      Lat       Lng  Max Temp  Humidity  Cloudiness  Wind Speed  \\\n",
       "0    simbahan   6.3032  120.5836    301.38        74          88        1.78   \n",
       "1      marpod  45.8714   24.4965    277.25        83          80        0.90   \n",
       "2     camacha  33.0833  -16.3333    290.83        68          75        8.75   \n",
       "3     gazojak  41.1875   61.4036    270.97        28           0        3.75   \n",
       "4  santa rosa  14.3122  121.1114    301.14        81          90        4.72   \n",
       "\n",
       "  Country        Date  \n",
       "0      PH  1669998008  \n",
       "1      RO  1669998009  \n",
       "2      PT  1669998009  \n",
       "3      TM  1669998010  \n",
       "4      PH  1669997464  "
      ]
     },
     "execution_count": 13,
     "metadata": {},
     "output_type": "execute_result"
    }
   ],
   "source": [
    "# Create a DataFrame with the Northern Hemisphere data (Latitude >= 0)\n",
    "# YOUR CODE HERE\n",
    "northern_hemi_df = city_data_df.loc[city_data_df['Lat'] >= 0 , : ].reset_index(drop=True)\n",
    "# Display sample data\n",
    "northern_hemi_df.head()"
   ]
  },
  {
   "cell_type": "code",
   "execution_count": 14,
   "metadata": {},
   "outputs": [
    {
     "data": {
      "text/html": [
       "<div>\n",
       "<style scoped>\n",
       "    .dataframe tbody tr th:only-of-type {\n",
       "        vertical-align: middle;\n",
       "    }\n",
       "\n",
       "    .dataframe tbody tr th {\n",
       "        vertical-align: top;\n",
       "    }\n",
       "\n",
       "    .dataframe thead th {\n",
       "        text-align: right;\n",
       "    }\n",
       "</style>\n",
       "<table border=\"1\" class=\"dataframe\">\n",
       "  <thead>\n",
       "    <tr style=\"text-align: right;\">\n",
       "      <th></th>\n",
       "      <th>City</th>\n",
       "      <th>Lat</th>\n",
       "      <th>Lng</th>\n",
       "      <th>Max Temp</th>\n",
       "      <th>Humidity</th>\n",
       "      <th>Cloudiness</th>\n",
       "      <th>Wind Speed</th>\n",
       "      <th>Country</th>\n",
       "      <th>Date</th>\n",
       "    </tr>\n",
       "  </thead>\n",
       "  <tbody>\n",
       "    <tr>\n",
       "      <th>0</th>\n",
       "      <td>vaini</td>\n",
       "      <td>-21.2000</td>\n",
       "      <td>-175.2000</td>\n",
       "      <td>296.24</td>\n",
       "      <td>94</td>\n",
       "      <td>20</td>\n",
       "      <td>0.00</td>\n",
       "      <td>TO</td>\n",
       "      <td>1669998010</td>\n",
       "    </tr>\n",
       "    <tr>\n",
       "      <th>1</th>\n",
       "      <td>saldanha</td>\n",
       "      <td>-33.0117</td>\n",
       "      <td>17.9442</td>\n",
       "      <td>290.13</td>\n",
       "      <td>60</td>\n",
       "      <td>41</td>\n",
       "      <td>7.20</td>\n",
       "      <td>ZA</td>\n",
       "      <td>1669998011</td>\n",
       "    </tr>\n",
       "    <tr>\n",
       "      <th>2</th>\n",
       "      <td>mataura</td>\n",
       "      <td>-46.1927</td>\n",
       "      <td>168.8643</td>\n",
       "      <td>283.42</td>\n",
       "      <td>72</td>\n",
       "      <td>100</td>\n",
       "      <td>1.66</td>\n",
       "      <td>NZ</td>\n",
       "      <td>1669998012</td>\n",
       "    </tr>\n",
       "    <tr>\n",
       "      <th>3</th>\n",
       "      <td>maceio</td>\n",
       "      <td>-9.6658</td>\n",
       "      <td>-35.7353</td>\n",
       "      <td>302.84</td>\n",
       "      <td>61</td>\n",
       "      <td>40</td>\n",
       "      <td>8.23</td>\n",
       "      <td>BR</td>\n",
       "      <td>1669998014</td>\n",
       "    </tr>\n",
       "    <tr>\n",
       "      <th>4</th>\n",
       "      <td>souillac</td>\n",
       "      <td>-20.5167</td>\n",
       "      <td>57.5167</td>\n",
       "      <td>298.36</td>\n",
       "      <td>73</td>\n",
       "      <td>40</td>\n",
       "      <td>1.54</td>\n",
       "      <td>MU</td>\n",
       "      <td>1669998015</td>\n",
       "    </tr>\n",
       "  </tbody>\n",
       "</table>\n",
       "</div>"
      ],
      "text/plain": [
       "       City      Lat       Lng  Max Temp  Humidity  Cloudiness  Wind Speed  \\\n",
       "0     vaini -21.2000 -175.2000    296.24        94          20        0.00   \n",
       "1  saldanha -33.0117   17.9442    290.13        60          41        7.20   \n",
       "2   mataura -46.1927  168.8643    283.42        72         100        1.66   \n",
       "3    maceio  -9.6658  -35.7353    302.84        61          40        8.23   \n",
       "4  souillac -20.5167   57.5167    298.36        73          40        1.54   \n",
       "\n",
       "  Country        Date  \n",
       "0      TO  1669998010  \n",
       "1      ZA  1669998011  \n",
       "2      NZ  1669998012  \n",
       "3      BR  1669998014  \n",
       "4      MU  1669998015  "
      ]
     },
     "execution_count": 14,
     "metadata": {},
     "output_type": "execute_result"
    }
   ],
   "source": [
    "# Create a DataFrame with the Southern Hemisphere data (Latitude < 0)\n",
    "# YOUR CODE HERE\n",
    "southern_hemi_df = city_data_df.loc[city_data_df['Lat'] < 0 , : ].reset_index(drop=True)\n",
    "\n",
    "# Display sample data\n",
    "southern_hemi_df.head()"
   ]
  },
  {
   "cell_type": "markdown",
   "metadata": {},
   "source": [
    "###  Temperature vs. Latitude Linear Regression Plot"
   ]
  },
  {
   "cell_type": "code",
   "execution_count": 15,
   "metadata": {},
   "outputs": [],
   "source": [
    "# Define a function to create Linear Regression plots\n",
    "# YOUR CODE HERE\n",
    "\n",
    "def regression_finder(x_values, y_values, y_label, x_axis_anno, y_axis_anno):\n",
    "    (slope, intercept, rvalue, pvalue, stderr) = linregress( x_values, y_values )\n",
    "    regress_values = x_values * slope + intercept\n",
    "    line_eq = \"y = \" + str(round(slope,2)) + \"x + \" + str(round(intercept,2))\n",
    " \n",
    "    print(f'r value is {rvalue}')\n",
    "   \n",
    "    plt.scatter(x_values,y_values)\n",
    "    plt.plot(x_values,regress_values,\"r-\")\n",
    "    plt.annotate(line_eq,xy=(x_axis_anno, y_axis_anno),xytext=(x_axis_anno, y_axis_anno),fontsize=15,color=\"red\")\n",
    "    plt.xlabel(\"Latitude\")\n",
    "    plt.ylabel(y_label)\n",
    "    plt.show()\n",
    "    \n",
    "    \n",
    "    \n",
    "    return\n",
    "    "
   ]
  },
  {
   "cell_type": "code",
   "execution_count": 16,
   "metadata": {
    "scrolled": true
   },
   "outputs": [
    {
     "name": "stdout",
     "output_type": "stream",
     "text": [
      "r value is -0.8346854058729168\n"
     ]
    },
    {
     "data": {
      "image/png": "[encoded data removed]",
      "text/plain": [
       "<Figure size 432x288 with 1 Axes>"
      ]
     },
     "metadata": {
      "needs_background": "light"
     },
     "output_type": "display_data"
    }
   ],
   "source": [
    "# Linear regression on Northern Hemisphere\n",
    "# YOUR CODE HERE\n",
    "regression_finder( northern_hemi_df['Lat'], northern_hemi_df['Max Temp'], 'Max Temp', 6, 240 )"
   ]
  },
  {
   "cell_type": "code",
   "execution_count": 17,
   "metadata": {},
   "outputs": [
    {
     "name": "stdout",
     "output_type": "stream",
     "text": [
      "r value is 0.6008325197259731\n"
     ]
    },
    {
     "data": {
      "image/png": "[encoded data removed]",
      "text/plain": [
       "<Figure size 432x288 with 1 Axes>"
      ]
     },
     "metadata": {
      "needs_background": "light"
     },
     "output_type": "display_data"
    }
   ],
   "source": [
    "# Linear regression on Southern Hemisphere\n",
    "# YOUR CODE HERE\n",
    "regression_finder( southern_hemi_df['Lat'], southern_hemi_df['Max Temp'], 'Max Temp', -50, 285)"
   ]
  },
  {
   "cell_type": "markdown",
   "metadata": {},
   "source": [
    "**Discussion about the linear relationship:** YOUR RESPONSE HERE"
   ]
  },
  {
   "cell_type": "markdown",
   "metadata": {},
   "source": [
    "### Humidity vs. Latitude Linear Regression Plot"
   ]
  },
  {
   "cell_type": "code",
   "execution_count": 18,
   "metadata": {},
   "outputs": [
    {
     "name": "stdout",
     "output_type": "stream",
     "text": [
      "r value is 0.3975682059923969\n"
     ]
    },
    {
     "data": {
      "image/png": "[encoded data removed]",
      "text/plain": [
       "<Figure size 432x288 with 1 Axes>"
      ]
     },
     "metadata": {
      "needs_background": "light"
     },
     "output_type": "display_data"
    }
   ],
   "source": [
    "# Northern Hemisphere\n",
    "# YOUR CODE HERE\n",
    "regression_finder( northern_hemi_df['Lat'], northern_hemi_df['Humidity'], 'Humidity', 45, 20)"
   ]
  },
  {
   "cell_type": "code",
   "execution_count": 19,
   "metadata": {},
   "outputs": [
    {
     "name": "stdout",
     "output_type": "stream",
     "text": [
      "r value is 0.2855005717070659\n"
     ]
    },
    {
     "data": {
      "image/png": "[encoded data removed]",
      "text/plain": [
       "<Figure size 432x288 with 1 Axes>"
      ]
     },
     "metadata": {
      "needs_background": "light"
     },
     "output_type": "display_data"
    }
   ],
   "source": [
    "# Southern Hemisphere\n",
    "# YOUR CODE HERE\n",
    "regression_finder( southern_hemi_df['Lat'], southern_hemi_df['Humidity'], 'Humidity', -50, 20)"
   ]
  },
  {
   "cell_type": "markdown",
   "metadata": {},
   "source": [
    "**Discussion about the linear relationship:** YOUR RESPONSE HERE"
   ]
  },
  {
   "cell_type": "markdown",
   "metadata": {},
   "source": [
    "### Cloudiness vs. Latitude Linear Regression Plot"
   ]
  },
  {
   "cell_type": "code",
   "execution_count": 20,
   "metadata": {},
   "outputs": [
    {
     "name": "stdout",
     "output_type": "stream",
     "text": [
      "r value is 0.24125504556574434\n"
     ]
    },
    {
     "data": {
      "image/png": "[encoded data removed]",
      "text/plain": [
       "<Figure size 432x288 with 1 Axes>"
      ]
     },
     "metadata": {
      "needs_background": "light"
     },
     "output_type": "display_data"
    }
   ],
   "source": [
    "# Northern Hemisphere\n",
    "# YOUR CODE HERE\n",
    "regression_finder( northern_hemi_df['Lat'], northern_hemi_df['Cloudiness'], 'Cloudiness', 40, 20)"
   ]
  },
  {
   "cell_type": "code",
   "execution_count": 21,
   "metadata": {},
   "outputs": [
    {
     "name": "stdout",
     "output_type": "stream",
     "text": [
      "r value is 0.3313837690589223\n"
     ]
    },
    {
     "data": {
      "image/png": "[encoded data removed]",
      "text/plain": [
       "<Figure size 432x288 with 1 Axes>"
      ]
     },
     "metadata": {
      "needs_background": "light"
     },
     "output_type": "display_data"
    }
   ],
   "source": [
    "# Southern Hemisphere\n",
    "# YOUR CODE HERE\n",
    "regression_finder( southern_hemi_df['Lat'], southern_hemi_df['Cloudiness'], 'Cloudiness', -50, 20)"
   ]
  },
  {
   "cell_type": "markdown",
   "metadata": {},
   "source": [
    "**Discussion about the linear relationship:** YOUR RESPONSE HERE"
   ]
  },
  {
   "cell_type": "markdown",
   "metadata": {},
   "source": [
    "### Wind Speed vs. Latitude Linear Regression Plot"
   ]
  },
  {
   "cell_type": "code",
   "execution_count": 22,
   "metadata": {},
   "outputs": [
    {
     "name": "stdout",
     "output_type": "stream",
     "text": [
      "r value is 0.08363527995760314\n"
     ]
    },
    {
     "data": {
      "image/png": "[encoded data removed]",
      "text/plain": [
       "<Figure size 432x288 with 1 Axes>"
      ]
     },
     "metadata": {
      "needs_background": "light"
     },
     "output_type": "display_data"
    }
   ],
   "source": [
    "# Northern Hemisphere\n",
    "# YOUR CODE HERE\n",
    "regression_finder( northern_hemi_df['Lat'], northern_hemi_df['Wind Speed'], 'Wind Speed', 0, 10)"
   ]
  },
  {
   "cell_type": "code",
   "execution_count": 23,
   "metadata": {},
   "outputs": [
    {
     "name": "stdout",
     "output_type": "stream",
     "text": [
      "r value is -0.2922869978156624\n"
     ]
    },
    {
     "data": {
      "image/png": "[encoded data removed]",
      "text/plain": [
       "<Figure size 432x288 with 1 Axes>"
      ]
     },
     "metadata": {
      "needs_background": "light"
     },
     "output_type": "display_data"
    }
   ],
   "source": [
    "# Southern Hemisphere\n",
    "# YOUR CODE HERE\n",
    "regression_finder( southern_hemi_df['Lat'], southern_hemi_df['Wind Speed'], 'Wind Speed', -50, 15)"
   ]
  },
  {
   "cell_type": "markdown",
   "metadata": {},
   "source": [
    "**Discussion about the linear relationship:** YOUR RESPONSE HERE\n",
    "\n",
    "Linear regression captures the correlation between two variables. rvalue measures the correlation quantitively. Possible values of the correlation coefficient range from -1 to +1, with -1 indicating a perfectly linear negative, i.e., inverse, correlation (sloping downward) and +1 indicating a perfectly linear positive correlation (sloping upward).\n",
    "\n",
    "Based on the analysis:\n",
    "1. latitute and max temperature have a strong negative corralation (rvalues : 0.6 (nouthern) and 0.3 (southern) perspectively) \n",
    "2. latitude and humidity have weak positive correlation. The latitute increases, the humidity increases as well.rvalues : 0.14 (northern) and 0.08 (southern) perspectively) \n",
    "3. latitude and cloudiness have very weak positive correlation. The latitute increases, the cloudiness increases as well.rvalues : 0.05 (northern) and 0.03(southern) perspectively) \n",
    "4. About the wind speed, different trends can be observed. For northern hemisphere,latitude and wind speed have very weak positive correlation (rvaleu 0.01). However, for southern hemisphere, atitude and wind speed have weak negative correlation (rvaleu 0.105)\n",
    "\n",
    "\n"
   ]
  },
  {
   "cell_type": "code",
   "execution_count": null,
   "metadata": {},
   "outputs": [],
   "source": [
    " "
   ]
  }
 ],
 "metadata": {
  "anaconda-cloud": {},
  "kernel_info": {
   "name": "python3"
  },
  "kernelspec": {
   "display_name": "Python 3 (ipykernel)",
   "language": "python",
   "name": "python3"
  },
  "language_info": {
   "codemirror_mode": {
    "name": "ipython",
    "version": 3
   },
   "file_extension": ".py",
   "mimetype": "text/x-python",
   "name": "python",
   "nbconvert_exporter": "python",
   "pygments_lexer": "ipython3",
   "version": "3.9.12"
  },
  "latex_envs": {
   "LaTeX_envs_menu_present": true,
   "autoclose": false,
   "autocomplete": true,
   "bibliofile": "biblio.bib",
   "cite_by": "apalike",
   "current_citInitial": 1,
   "eqLabelWithNumbers": true,
   "eqNumInitial": 1,
   "hotkeys": {
    "equation": "Ctrl-E",
    "itemize": "Ctrl-I"
   },
   "labels_anchors": false,
   "latex_user_defs": false,
   "report_style_numbering": false,
   "user_envs_cfg": false
  },
  "nteract": {
   "version": "0.12.3"
  }
 },
 "nbformat": 4,
 "nbformat_minor": 4
}
